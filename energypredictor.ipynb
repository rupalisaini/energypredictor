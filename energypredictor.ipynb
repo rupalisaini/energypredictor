{
 "cells": [
  {
   "cell_type": "markdown",
   "metadata": {},
   "source": [
    "# Import Statements and Magic Commands"
   ]
  },
  {
   "cell_type": "code",
   "execution_count": 1,
   "metadata": {},
   "outputs": [],
   "source": [
    "import datetime\n",
    "import numpy as np\n",
    "import pandas as pd\n",
    "import matplotlib.pyplot as plt\n",
    "from sklearn import tree\n",
    "from sklearn import linear_model\n",
    "from sklearn.metrics import mean_squared_log_error\n",
    "# WHEN CHECKING THE MODEL: use as np.sqrt(mean_squared_log_error( y_test, predictions ))\n",
    "from pandas.tseries.holiday import USFederalHolidayCalendar\n",
    "%matplotlib inline"
   ]
  },
  {
   "cell_type": "markdown",
   "metadata": {},
   "source": [
    "---\n",
    "# Load the Data"
   ]
  },
  {
   "cell_type": "markdown",
   "metadata": {},
   "source": [
    "### Building and Weather Data"
   ]
  },
  {
   "cell_type": "code",
   "execution_count": 6,
   "metadata": {
    "scrolled": true
   },
   "outputs": [],
   "source": [
    "# Note: These assume that the data has been saved to a subdirectory named \"energy\"\n",
    "bldgData = pd.read_csv(\"energy/building_metadata.csv\")\n",
    "weatherTrain = pd.read_csv(\"energy/weather_train.csv\")\n",
    "weatherTest = pd.read_csv(\"energy/weather_test.csv\")\n",
    "allWeather = weatherTrain.append(weatherTest)"
   ]
  },
  {
   "cell_type": "markdown",
   "metadata": {},
   "source": [
    "I'm combining the weather data into one dataframe. There's really no need for it to be separate. Plus, I have a hunch that the _current_ meter reading is better modeled as a function of the average of the _current_ weather data and the _last_ weather data. In other words, how much energy a building used in the last hour is based on the weather for the last hour, not necessarily the weather at the current timestamp. If this is the case, then the first prediction in the test data will need the last weather data from the training set."
   ]
  },
  {
   "cell_type": "markdown",
   "metadata": {},
   "source": [
    "### Training Data"
   ]
  },
  {
   "cell_type": "code",
   "execution_count": 7,
   "metadata": {},
   "outputs": [],
   "source": [
    "energyTrain = pd.read_csv(\"energy/train.csv\")"
   ]
  },
  {
   "cell_type": "markdown",
   "metadata": {},
   "source": [
    "### Test Data\n",
    "Warning: This will use a lot of memory! My virtual machine is sitting at 5.5 GB of RAM utilization right now."
   ]
  },
  {
   "cell_type": "code",
   "execution_count": 8,
   "metadata": {},
   "outputs": [],
   "source": [
    "energyTest = pd.read_csv(\"energy/test.csv\")"
   ]
  },
  {
   "cell_type": "markdown",
   "metadata": {},
   "source": [
    "### Explore the Data"
   ]
  },
  {
   "cell_type": "code",
   "execution_count": 4,
   "metadata": {},
   "outputs": [
    {
     "name": "stdout",
     "output_type": "stream",
     "text": [
      "   building_id  meter            timestamp  meter_reading\n",
      "0            0      0  2016-01-01 00:00:00            0.0\n",
      "1            1      0  2016-01-01 00:00:00            0.0\n",
      "2            2      0  2016-01-01 00:00:00            0.0\n",
      "3            3      0  2016-01-01 00:00:00            0.0\n",
      "4            4      0  2016-01-01 00:00:00            0.0\n"
     ]
    }
   ],
   "source": [
    "#print(bldgData.head(5))\n",
    "#print(allWeather.head(5))\n",
    "#print(allWeather.tail(5))\n",
    "print(energyTrain.head(5))"
   ]
  },
  {
   "cell_type": "markdown",
   "metadata": {},
   "source": [
    "---\n",
    "# 0. No Model\n",
    "\n",
    "Just submit the \"sample_submission.csv\" and see what score that yields.\n",
    "\n",
    "### Kaggle RMSLE score for No Model = "
   ]
  },
  {
   "cell_type": "markdown",
   "metadata": {},
   "source": [
    "---\n",
    "# 1.a. The \"Naïve Model\" - Version 1"
   ]
  },
  {
   "cell_type": "markdown",
   "metadata": {},
   "source": [
    "This model computes the average usage for a `(building_id, meter, hourly time)` tuple. This version of the Naïve Model is not aware of \"workdays\" vs. \"non-workdays\" (i.e. weekends and holidays)."
   ]
  },
  {
   "cell_type": "markdown",
   "metadata": {},
   "source": [
    "**Train**"
   ]
  },
  {
   "cell_type": "code",
   "execution_count": 6,
   "metadata": {},
   "outputs": [],
   "source": [
    "naiveModel = {}\n",
    "\n",
    "for row in energyTrain.itertuples(index=False):\n",
    "    building_id = str(row.building_id)\n",
    "    meter = str(row.meter)\n",
    "    time = row.timestamp.split(\" \")[1]\n",
    "    meter_reading = row.meter_reading\n",
    "    \n",
    "    key = building_id + \"-\" + meter + \"-\" + time\n",
    "    \n",
    "    if key in naiveModel:\n",
    "        naiveModel[key][0] += meter_reading\n",
    "        naiveModel[key][1] += 1.0\n",
    "    else:\n",
    "        naiveModel[key] = [meter_reading,1.0]\n",
    "        \n",
    "for key in naiveModel.keys():\n",
    "    totalUsed = naiveModel[key][0]\n",
    "    readingCount = naiveModel[key][1]\n",
    "    naiveModel[key] = totalUsed / readingCount"
   ]
  },
  {
   "cell_type": "markdown",
   "metadata": {},
   "source": [
    "**Predict**"
   ]
  },
  {
   "cell_type": "code",
   "execution_count": 7,
   "metadata": {},
   "outputs": [],
   "source": [
    "# Note: Create a subdirectory named \"results\" before running\n",
    "naiveResults = \"row_id,meter_reading\\n\"\n",
    "\n",
    "for row in energyTest.itertuples(index=False):\n",
    "    row_id = str(row.row_id)\n",
    "    building_id = str(row.building_id)\n",
    "    meter = str(row.meter)\n",
    "    time = row.timestamp.split(\" \")[1]\n",
    "    \n",
    "    key = building_id + \"-\" + meter + \"-\" + time\n",
    "    \n",
    "    pred = naiveModel[key]\n",
    "\n",
    "    naiveResults += row_id + \",\" + '{0:.4f}'.format(pred) + \"\\n\"\n",
    "    \n",
    "outFile = open(\"results/naiveResults01.csv\",\"w\")\n",
    "outFile.write(naiveResults)\n",
    "outFile.close()"
   ]
  },
  {
   "cell_type": "markdown",
   "metadata": {},
   "source": [
    "### Kaggle RMSLE score for the Naïve Method, Version 1 = 1.46"
   ]
  },
  {
   "cell_type": "markdown",
   "metadata": {},
   "source": [
    "---\n",
    "# 1.b. The \"Naïve Model\" - Version 2"
   ]
  },
  {
   "cell_type": "markdown",
   "metadata": {},
   "source": [
    "This model improves on Version 1 by computing two averages for each `(building_id, meter, hourly time)` tuple: one for \"workdays\" and one for \"non-workdays\" (i.e. weekends and holidays)."
   ]
  },
  {
   "cell_type": "markdown",
   "metadata": {},
   "source": [
    "**Train**"
   ]
  },
  {
   "cell_type": "code",
   "execution_count": 8,
   "metadata": {},
   "outputs": [],
   "source": [
    "cal = USFederalHolidayCalendar() # This assumes all of the buildings are in the US, but they are not.\n",
    "holidays = cal.holidays(start='2016-01-01', end='2018-12-31').to_pydatetime()\n",
    "\n",
    "naiveModel = {}\n",
    "\n",
    "for row in energyTrain.itertuples(index=False):\n",
    "    building_id = str(row.building_id)\n",
    "    meter = str(row.meter)\n",
    "    dateStr, time = row.timestamp.split(\" \")\n",
    "    meter_reading = row.meter_reading\n",
    "    \n",
    "    date = datetime.datetime.strptime(dateStr, '%Y-%m-%d')\n",
    "    \n",
    "    if (date in holidays) or (date.weekday() > 4):\n",
    "        workday = '0'\n",
    "    else:\n",
    "        workday = '1'\n",
    "    \n",
    "    key = workday + \"-\" + building_id + \"-\" + meter + \"-\" + time\n",
    "    \n",
    "    if key in naiveModel:\n",
    "        naiveModel[key][0] += meter_reading\n",
    "        naiveModel[key][1] += 1.0\n",
    "    else:\n",
    "        naiveModel[key] = [meter_reading,1.0] \n",
    "        \n",
    "for key in naiveModel.keys():\n",
    "    totalUsed = naiveModel[key][0]\n",
    "    readingCount = naiveModel[key][1]\n",
    "    naiveModel[key] = totalUsed / readingCount"
   ]
  },
  {
   "cell_type": "markdown",
   "metadata": {},
   "source": [
    "**Predict**"
   ]
  },
  {
   "cell_type": "code",
   "execution_count": 9,
   "metadata": {},
   "outputs": [],
   "source": [
    "# Note: Create a subdirectory named \"results\" before running\n",
    "naiveResults = \"row_id,meter_reading\\n\"\n",
    "\n",
    "for row in energyTest.itertuples(index=False):\n",
    "    row_id = str(row.row_id)\n",
    "    building_id = str(row.building_id)\n",
    "    meter = str(row.meter)\n",
    "    dateStr, time = row.timestamp.split(\" \")\n",
    "    \n",
    "    date = datetime.datetime.strptime(dateStr, '%Y-%m-%d')\n",
    "    \n",
    "    if (date in holidays) or (date.weekday() > 4):\n",
    "        workday = '0'\n",
    "    else:\n",
    "        workday = '1'\n",
    "    \n",
    "    key = workday + \"-\" + building_id + \"-\" + meter + \"-\" + time\n",
    "    \n",
    "    pred = naiveModel[key]\n",
    "\n",
    "    naiveResults += row_id + \",\" + '{0:.4f}'.format(pred) + \"\\n\"\n",
    "    \n",
    "outFile = open(\"results/naiveResults02.csv\",\"w\")\n",
    "outFile.write(naiveResults)\n",
    "outFile.close()"
   ]
  },
  {
   "cell_type": "markdown",
   "metadata": {},
   "source": [
    "### Kaggle RMSLE score for the Naïve Method, Version 2 = 1.45"
   ]
  },
  {
   "cell_type": "markdown",
   "metadata": {},
   "source": [
    "---\n",
    "# Intermission: Merge Training Data prior to Machine Learning"
   ]
  },
  {
   "cell_type": "code",
   "execution_count": 8,
   "metadata": {},
   "outputs": [],
   "source": [
    "trainJoinBldg = pd.merge(energyTrain, bldgData, on='building_id')\n",
    "fullTraining = pd.merge(trainJoinBldg, allWeather, on=['site_id', 'timestamp'])\n",
    "\n",
    "del energyTrain\n",
    "del trainJoinBldg\n",
    "del bldgData\n",
    "del weatherTrain\n",
    "del weatherTest\n",
    "del allWeather"
   ]
  },
  {
   "cell_type": "code",
   "execution_count": 9,
   "metadata": {},
   "outputs": [
    {
     "name": "stdout",
     "output_type": "stream",
     "text": [
      "(20125605, 16)\n",
      "(18257718, 16)\n",
      "(18257718, 5)\n"
     ]
    }
   ],
   "source": [
    "print(fullTraining.shape)\n",
    "fullTraining = fullTraining[fullTraining.meter_reading != 0.0]\n",
    "print(fullTraining.shape)\n",
    "\n",
    "slimTraining = fullTraining[['building_id', 'meter', 'timestamp', 'meter_reading']]\n",
    "\n",
    "del fullTraining\n",
    "\n",
    "print(slimTraining.shape)"
   ]
  },
  {
   "cell_type": "code",
   "execution_count": 10,
   "metadata": {},
   "outputs": [],
   "source": [
    "slimTraining[\"hour\"] = \"\"\n",
    "slimTraining[\"month\"] = \"\"\n",
    "slimTraining[\"dayOfWeek\"] = \"\"\n",
    "\n",
    "for i, row in slimTraining.iterrows():\n",
    "    slimTraining.at[i,'hour'] = row['timestamp'].split(\" \")[1]\n",
    "    date = datetime.datetime.strptime(row['timestamp'], '%Y-%m-%d %H:%M:%S')\n",
    "    slimTraining.at[i,'month'] = date.strftime('%b')\n",
    "    slimTraining.at[i,'dayOfWeek'] = str(date.weekday())\n",
    "    \n",
    "slimTraining.drop(\"timestamp\", axis=1, inplace=True)"
   ]
  },
  {
   "cell_type": "code",
   "execution_count": 13,
   "metadata": {},
   "outputs": [
    {
     "name": "stdout",
     "output_type": "stream",
     "text": [
      "(18257718, 7)\n"
     ]
    }
   ],
   "source": [
    "print(slimTraining.shape)\n",
    "slimTraining.to_csv(\"custom/hourMonthDayofweek.csv\")"
   ]
  },
  {
   "cell_type": "code",
   "execution_count": 2,
   "metadata": {},
   "outputs": [
    {
     "data": {
      "text/html": [
       "<div>\n",
       "<style scoped>\n",
       "    .dataframe tbody tr th:only-of-type {\n",
       "        vertical-align: middle;\n",
       "    }\n",
       "\n",
       "    .dataframe tbody tr th {\n",
       "        vertical-align: top;\n",
       "    }\n",
       "\n",
       "    .dataframe thead th {\n",
       "        text-align: right;\n",
       "    }\n",
       "</style>\n",
       "<table border=\"1\" class=\"dataframe\">\n",
       "  <thead>\n",
       "    <tr style=\"text-align: right;\">\n",
       "      <th></th>\n",
       "      <th>Unnamed: 0</th>\n",
       "      <th>building_id</th>\n",
       "      <th>meter</th>\n",
       "      <th>meter_reading</th>\n",
       "      <th>air_temperature</th>\n",
       "      <th>hour</th>\n",
       "      <th>month</th>\n",
       "      <th>dayOfWeek</th>\n",
       "    </tr>\n",
       "  </thead>\n",
       "  <tbody>\n",
       "    <tr>\n",
       "      <th>0</th>\n",
       "      <td>45</td>\n",
       "      <td>46</td>\n",
       "      <td>0</td>\n",
       "      <td>53.2397</td>\n",
       "      <td>25.0</td>\n",
       "      <td>00:00:00</td>\n",
       "      <td>Jan</td>\n",
       "      <td>4</td>\n",
       "    </tr>\n",
       "    <tr>\n",
       "      <th>1</th>\n",
       "      <td>72</td>\n",
       "      <td>74</td>\n",
       "      <td>0</td>\n",
       "      <td>43.0013</td>\n",
       "      <td>25.0</td>\n",
       "      <td>00:00:00</td>\n",
       "      <td>Jan</td>\n",
       "      <td>4</td>\n",
       "    </tr>\n",
       "    <tr>\n",
       "      <th>2</th>\n",
       "      <td>91</td>\n",
       "      <td>93</td>\n",
       "      <td>0</td>\n",
       "      <td>52.4206</td>\n",
       "      <td>25.0</td>\n",
       "      <td>00:00:00</td>\n",
       "      <td>Jan</td>\n",
       "      <td>4</td>\n",
       "    </tr>\n",
       "    <tr>\n",
       "      <th>3</th>\n",
       "      <td>123</td>\n",
       "      <td>20</td>\n",
       "      <td>0</td>\n",
       "      <td>91.9886</td>\n",
       "      <td>24.4</td>\n",
       "      <td>01:00:00</td>\n",
       "      <td>Jan</td>\n",
       "      <td>4</td>\n",
       "    </tr>\n",
       "    <tr>\n",
       "      <th>4</th>\n",
       "      <td>148</td>\n",
       "      <td>46</td>\n",
       "      <td>0</td>\n",
       "      <td>53.6492</td>\n",
       "      <td>24.4</td>\n",
       "      <td>01:00:00</td>\n",
       "      <td>Jan</td>\n",
       "      <td>4</td>\n",
       "    </tr>\n",
       "  </tbody>\n",
       "</table>\n",
       "</div>"
      ],
      "text/plain": [
       "   Unnamed: 0  building_id  meter  meter_reading  air_temperature      hour  \\\n",
       "0          45           46      0        53.2397             25.0  00:00:00   \n",
       "1          72           74      0        43.0013             25.0  00:00:00   \n",
       "2          91           93      0        52.4206             25.0  00:00:00   \n",
       "3         123           20      0        91.9886             24.4  01:00:00   \n",
       "4         148           46      0        53.6492             24.4  01:00:00   \n",
       "\n",
       "  month  dayOfWeek  \n",
       "0   Jan          4  \n",
       "1   Jan          4  \n",
       "2   Jan          4  \n",
       "3   Jan          4  \n",
       "4   Jan          4  "
      ]
     },
     "execution_count": 2,
     "metadata": {},
     "output_type": "execute_result"
    }
   ],
   "source": [
    "slimTraining = pd.read_csv(\"custom/hourMonthDayofweek.csv\")\n",
    "slimTraining.head(5)"
   ]
  },
  {
   "cell_type": "code",
   "execution_count": 3,
   "metadata": {},
   "outputs": [
    {
     "name": "stdout",
     "output_type": "stream",
     "text": [
      "2380\n"
     ]
    }
   ],
   "source": [
    "buildingMeters = []\n",
    "\n",
    "for row in slimTraining.itertuples(index=False):\n",
    "    if (row.building_id, row.meter) not in buildingMeters:\n",
    "        buildingMeters.append((row.building_id, row.meter))\n",
    "    \n",
    "print(len(buildingMeters))"
   ]
  },
  {
   "cell_type": "code",
   "execution_count": 4,
   "metadata": {},
   "outputs": [],
   "source": [
    "readyToTrain = pd.get_dummies(slimTraining, columns=['hour', 'month', 'dayOfWeek'])"
   ]
  },
  {
   "cell_type": "code",
   "execution_count": 5,
   "metadata": {},
   "outputs": [
    {
     "data": {
      "text/html": [
       "<div>\n",
       "<style scoped>\n",
       "    .dataframe tbody tr th:only-of-type {\n",
       "        vertical-align: middle;\n",
       "    }\n",
       "\n",
       "    .dataframe tbody tr th {\n",
       "        vertical-align: top;\n",
       "    }\n",
       "\n",
       "    .dataframe thead th {\n",
       "        text-align: right;\n",
       "    }\n",
       "</style>\n",
       "<table border=\"1\" class=\"dataframe\">\n",
       "  <thead>\n",
       "    <tr style=\"text-align: right;\">\n",
       "      <th></th>\n",
       "      <th>Unnamed: 0</th>\n",
       "      <th>building_id</th>\n",
       "      <th>meter</th>\n",
       "      <th>meter_reading</th>\n",
       "      <th>air_temperature</th>\n",
       "      <th>hour_00:00:00</th>\n",
       "      <th>hour_01:00:00</th>\n",
       "      <th>hour_02:00:00</th>\n",
       "      <th>hour_03:00:00</th>\n",
       "      <th>hour_04:00:00</th>\n",
       "      <th>...</th>\n",
       "      <th>month_Nov</th>\n",
       "      <th>month_Oct</th>\n",
       "      <th>month_Sep</th>\n",
       "      <th>dayOfWeek_0</th>\n",
       "      <th>dayOfWeek_1</th>\n",
       "      <th>dayOfWeek_2</th>\n",
       "      <th>dayOfWeek_3</th>\n",
       "      <th>dayOfWeek_4</th>\n",
       "      <th>dayOfWeek_5</th>\n",
       "      <th>dayOfWeek_6</th>\n",
       "    </tr>\n",
       "  </thead>\n",
       "  <tbody>\n",
       "    <tr>\n",
       "      <th>0</th>\n",
       "      <td>45</td>\n",
       "      <td>46</td>\n",
       "      <td>0</td>\n",
       "      <td>53.2397</td>\n",
       "      <td>25.0</td>\n",
       "      <td>1</td>\n",
       "      <td>0</td>\n",
       "      <td>0</td>\n",
       "      <td>0</td>\n",
       "      <td>0</td>\n",
       "      <td>...</td>\n",
       "      <td>0</td>\n",
       "      <td>0</td>\n",
       "      <td>0</td>\n",
       "      <td>0</td>\n",
       "      <td>0</td>\n",
       "      <td>0</td>\n",
       "      <td>0</td>\n",
       "      <td>1</td>\n",
       "      <td>0</td>\n",
       "      <td>0</td>\n",
       "    </tr>\n",
       "    <tr>\n",
       "      <th>1</th>\n",
       "      <td>72</td>\n",
       "      <td>74</td>\n",
       "      <td>0</td>\n",
       "      <td>43.0013</td>\n",
       "      <td>25.0</td>\n",
       "      <td>1</td>\n",
       "      <td>0</td>\n",
       "      <td>0</td>\n",
       "      <td>0</td>\n",
       "      <td>0</td>\n",
       "      <td>...</td>\n",
       "      <td>0</td>\n",
       "      <td>0</td>\n",
       "      <td>0</td>\n",
       "      <td>0</td>\n",
       "      <td>0</td>\n",
       "      <td>0</td>\n",
       "      <td>0</td>\n",
       "      <td>1</td>\n",
       "      <td>0</td>\n",
       "      <td>0</td>\n",
       "    </tr>\n",
       "    <tr>\n",
       "      <th>2</th>\n",
       "      <td>91</td>\n",
       "      <td>93</td>\n",
       "      <td>0</td>\n",
       "      <td>52.4206</td>\n",
       "      <td>25.0</td>\n",
       "      <td>1</td>\n",
       "      <td>0</td>\n",
       "      <td>0</td>\n",
       "      <td>0</td>\n",
       "      <td>0</td>\n",
       "      <td>...</td>\n",
       "      <td>0</td>\n",
       "      <td>0</td>\n",
       "      <td>0</td>\n",
       "      <td>0</td>\n",
       "      <td>0</td>\n",
       "      <td>0</td>\n",
       "      <td>0</td>\n",
       "      <td>1</td>\n",
       "      <td>0</td>\n",
       "      <td>0</td>\n",
       "    </tr>\n",
       "    <tr>\n",
       "      <th>3</th>\n",
       "      <td>123</td>\n",
       "      <td>20</td>\n",
       "      <td>0</td>\n",
       "      <td>91.9886</td>\n",
       "      <td>24.4</td>\n",
       "      <td>0</td>\n",
       "      <td>1</td>\n",
       "      <td>0</td>\n",
       "      <td>0</td>\n",
       "      <td>0</td>\n",
       "      <td>...</td>\n",
       "      <td>0</td>\n",
       "      <td>0</td>\n",
       "      <td>0</td>\n",
       "      <td>0</td>\n",
       "      <td>0</td>\n",
       "      <td>0</td>\n",
       "      <td>0</td>\n",
       "      <td>1</td>\n",
       "      <td>0</td>\n",
       "      <td>0</td>\n",
       "    </tr>\n",
       "    <tr>\n",
       "      <th>4</th>\n",
       "      <td>148</td>\n",
       "      <td>46</td>\n",
       "      <td>0</td>\n",
       "      <td>53.6492</td>\n",
       "      <td>24.4</td>\n",
       "      <td>0</td>\n",
       "      <td>1</td>\n",
       "      <td>0</td>\n",
       "      <td>0</td>\n",
       "      <td>0</td>\n",
       "      <td>...</td>\n",
       "      <td>0</td>\n",
       "      <td>0</td>\n",
       "      <td>0</td>\n",
       "      <td>0</td>\n",
       "      <td>0</td>\n",
       "      <td>0</td>\n",
       "      <td>0</td>\n",
       "      <td>1</td>\n",
       "      <td>0</td>\n",
       "      <td>0</td>\n",
       "    </tr>\n",
       "  </tbody>\n",
       "</table>\n",
       "<p>5 rows × 48 columns</p>\n",
       "</div>"
      ],
      "text/plain": [
       "   Unnamed: 0  building_id  meter  meter_reading  air_temperature  \\\n",
       "0          45           46      0        53.2397             25.0   \n",
       "1          72           74      0        43.0013             25.0   \n",
       "2          91           93      0        52.4206             25.0   \n",
       "3         123           20      0        91.9886             24.4   \n",
       "4         148           46      0        53.6492             24.4   \n",
       "\n",
       "   hour_00:00:00  hour_01:00:00  hour_02:00:00  hour_03:00:00  hour_04:00:00  \\\n",
       "0              1              0              0              0              0   \n",
       "1              1              0              0              0              0   \n",
       "2              1              0              0              0              0   \n",
       "3              0              1              0              0              0   \n",
       "4              0              1              0              0              0   \n",
       "\n",
       "   ...  month_Nov  month_Oct  month_Sep  dayOfWeek_0  dayOfWeek_1  \\\n",
       "0  ...          0          0          0            0            0   \n",
       "1  ...          0          0          0            0            0   \n",
       "2  ...          0          0          0            0            0   \n",
       "3  ...          0          0          0            0            0   \n",
       "4  ...          0          0          0            0            0   \n",
       "\n",
       "   dayOfWeek_2  dayOfWeek_3  dayOfWeek_4  dayOfWeek_5  dayOfWeek_6  \n",
       "0            0            0            1            0            0  \n",
       "1            0            0            1            0            0  \n",
       "2            0            0            1            0            0  \n",
       "3            0            0            1            0            0  \n",
       "4            0            0            1            0            0  \n",
       "\n",
       "[5 rows x 48 columns]"
      ]
     },
     "execution_count": 5,
     "metadata": {},
     "output_type": "execute_result"
    }
   ],
   "source": [
    "readyToTrain.head(5)"
   ]
  },
  {
   "cell_type": "code",
   "execution_count": 6,
   "metadata": {},
   "outputs": [
    {
     "name": "stdout",
     "output_type": "stream",
     "text": [
      "5.04\n",
      "10.08\n",
      "15.13\n",
      "20.17\n",
      "25.21\n",
      "30.25\n",
      "35.29\n",
      "40.34\n",
      "45.38\n",
      "50.42\n",
      "55.46\n",
      "60.50\n",
      "65.55\n",
      "70.59\n",
      "75.63\n",
      "80.67\n",
      "85.71\n",
      "90.76\n",
      "95.80\n",
      "2380\n"
     ]
    }
   ],
   "source": [
    "trainedModels = {}\n",
    "\n",
    "counter = 0\n",
    "oldPercent = 0.\n",
    "for building_id, meter in buildingMeters:\n",
    "    buildingMeterData = readyToTrain[(readyToTrain['building_id'] == building_id) & (readyToTrain['meter'] == meter)]\n",
    "    # TRAIN A MODEL USING buildingMeterData\n",
    "    y = buildingMeterData['meter_reading']\n",
    "    X = buildingMeterData[[\n",
    "        'hour_00:00:00',\n",
    "        'hour_01:00:00',\n",
    "        'hour_02:00:00',\n",
    "        'hour_03:00:00',\n",
    "        'hour_04:00:00',\n",
    "        'hour_05:00:00',\n",
    "        'hour_06:00:00',\n",
    "        'hour_07:00:00',\n",
    "        'hour_08:00:00',\n",
    "        'hour_09:00:00',\n",
    "        'hour_10:00:00',\n",
    "        'hour_11:00:00',\n",
    "        'hour_12:00:00',\n",
    "        'hour_13:00:00',\n",
    "        'hour_14:00:00',\n",
    "        'hour_15:00:00',\n",
    "        'hour_16:00:00',\n",
    "        'hour_17:00:00',\n",
    "        'hour_18:00:00',\n",
    "        'hour_19:00:00',\n",
    "        'hour_20:00:00',\n",
    "        'hour_21:00:00',\n",
    "        'hour_22:00:00',\n",
    "        'hour_23:00:00',\n",
    "        'month_Jan',\n",
    "        'month_Feb',\n",
    "        'month_Mar',\n",
    "        'month_Apr',\n",
    "        'month_May',\n",
    "        'month_Jun',\n",
    "        'month_Jul',\n",
    "        'month_Aug',\n",
    "        'month_Sep',\n",
    "        'month_Oct',\n",
    "        'month_Nov',\n",
    "        'month_Dec',\n",
    "        'dayOfWeek_0',\n",
    "        'dayOfWeek_1',\n",
    "        'dayOfWeek_2',\n",
    "        'dayOfWeek_3',\n",
    "        'dayOfWeek_4',\n",
    "        'dayOfWeek_5',\n",
    "        'dayOfWeek_6'\n",
    "    ]]\n",
    "    dtRegressor = tree.DecisionTreeRegressor()\n",
    "    trainedModels[(building_id, meter)] = dtRegressor.fit(X, y)\n",
    "    counter += 1\n",
    "    percent = 100. * counter / 2380\n",
    "    if percent - oldPercent > 5:\n",
    "        print('{0:.2f}'.format(percent))\n",
    "        oldPercent = percent\n",
    "\n",
    "print(len(trainedModels))"
   ]
  },
  {
   "cell_type": "code",
   "execution_count": 7,
   "metadata": {},
   "outputs": [],
   "source": [
    "#print(trainedModels[(93,0)].feature_importances_)\n",
    "del slimTraining\n",
    "del readyToTrain"
   ]
  },
  {
   "cell_type": "code",
   "execution_count": 9,
   "metadata": {},
   "outputs": [
    {
     "name": "stdout",
     "output_type": "stream",
     "text": [
      "(41697600, 4)\n"
     ]
    }
   ],
   "source": [
    "print(energyTest.shape)"
   ]
  },
  {
   "cell_type": "code",
   "execution_count": 14,
   "metadata": {},
   "outputs": [
    {
     "name": "stdout",
     "output_type": "stream",
     "text": [
      "5.00\n",
      "10.00\n",
      "15.00\n",
      "20.00\n",
      "25.00\n",
      "30.00\n",
      "35.00\n",
      "40.00\n",
      "45.00\n",
      "50.00\n",
      "55.00\n",
      "60.00\n",
      "65.00\n",
      "70.00\n",
      "75.00\n",
      "80.00\n",
      "85.00\n",
      "90.00\n",
      "95.00\n"
     ]
    }
   ],
   "source": [
    "# Note: Create a subdirectory named \"results\" before running\n",
    "dtrResults = \"row_id,meter_reading\\n\"\n",
    "\n",
    "counter = 0\n",
    "oldPercent = 0.\n",
    "for row in energyTest.itertuples(index=False):\n",
    "    row_id = str(row.row_id)\n",
    "    building_id = row.building_id\n",
    "    meter = row.meter\n",
    "    dateStr, hour = row.timestamp.split(\" \")\n",
    "    \n",
    "    date = datetime.datetime.strptime(dateStr, '%Y-%m-%d')\n",
    "    \n",
    "    month = date.strftime('%b')\n",
    "    dayOfWeek = str(date.weekday())\n",
    "    \n",
    "    features = pd.Series(0, index=[\n",
    "        'hour_00:00:00',\n",
    "        'hour_01:00:00',\n",
    "        'hour_02:00:00',\n",
    "        'hour_03:00:00',\n",
    "        'hour_04:00:00',\n",
    "        'hour_05:00:00',\n",
    "        'hour_06:00:00',\n",
    "        'hour_07:00:00',\n",
    "        'hour_08:00:00',\n",
    "        'hour_09:00:00',\n",
    "        'hour_10:00:00',\n",
    "        'hour_11:00:00',\n",
    "        'hour_12:00:00',\n",
    "        'hour_13:00:00',\n",
    "        'hour_14:00:00',\n",
    "        'hour_15:00:00',\n",
    "        'hour_16:00:00',\n",
    "        'hour_17:00:00',\n",
    "        'hour_18:00:00',\n",
    "        'hour_19:00:00',\n",
    "        'hour_20:00:00',\n",
    "        'hour_21:00:00',\n",
    "        'hour_22:00:00',\n",
    "        'hour_23:00:00',\n",
    "        'month_Jan',\n",
    "        'month_Feb',\n",
    "        'month_Mar',\n",
    "        'month_Apr',\n",
    "        'month_May',\n",
    "        'month_Jun',\n",
    "        'month_Jul',\n",
    "        'month_Aug',\n",
    "        'month_Sep',\n",
    "        'month_Oct',\n",
    "        'month_Nov',\n",
    "        'month_Dec',\n",
    "        'dayOfWeek_0',\n",
    "        'dayOfWeek_1',\n",
    "        'dayOfWeek_2',\n",
    "        'dayOfWeek_3',\n",
    "        'dayOfWeek_4',\n",
    "        'dayOfWeek_5',\n",
    "        'dayOfWeek_6'\n",
    "    ])\n",
    "    \n",
    "    features['hour_' + hour] = 1\n",
    "    features['month_' + month] = 1\n",
    "    features['dayOfWeek_' + dayOfWeek] = 1\n",
    "    \n",
    "    pred = trainedModels[(building_id, meter)].predict([features])[0]\n",
    "\n",
    "    dtrResults += row_id + \",\" + '{0:.4f}'.format(pred) + \"\\n\"\n",
    "    \n",
    "    counter += 1\n",
    "    percent = 100. * counter / 41697600\n",
    "    if percent - oldPercent > 5:\n",
    "        print('{0:.2f}'.format(percent))\n",
    "        oldPercent = percent\n",
    "    \n",
    "outFile = open(\"results/decisionTreeRegressor.csv\",\"w\")\n",
    "outFile.write(dtrResults)\n",
    "outFile.close()"
   ]
  },
  {
   "cell_type": "code",
   "execution_count": 7,
   "metadata": {},
   "outputs": [
    {
     "name": "stdout",
     "output_type": "stream",
     "text": [
      "Index(['building_id', 'meter', 'timestamp', 'meter_reading', 'site_id',\n",
      "       'primary_use', 'square_feet', 'year_built', 'floor_count',\n",
      "       'air_temperature', 'cloud_coverage', 'dew_temperature',\n",
      "       'precip_depth_1_hr', 'sea_level_pressure', 'wind_direction',\n",
      "       'wind_speed'],\n",
      "      dtype='object')\n"
     ]
    }
   ],
   "source": [
    "# Explore new dataframes\n",
    "#print(energyTrain.shape)\n",
    "#print(trainJoinBldg.shape)\n",
    "#thrownOut = energyTrain.shape[0] - trainJoinBldg.shape[0]\n",
    "#thrownOutPercent = 100.* thrownOut * 1./ energyTrain.shape[0]\n",
    "#print(\"% thrown out by merging with building data: \" + '{0:.2f}'.format(thrownOutPercent) + \"%\")\n",
    "#print(fullTraining.shape)\n",
    "#thrownOut = trainJoinBldg.shape[0] - fullTraining.shape[0]\n",
    "#thrownOutPercent = 100.* thrownOut * 1./ trainJoinBldg.shape[0]\n",
    "#print(\"% thrown out by merging with weather data: \" + '{0:.2f}'.format(thrownOutPercent) + \"%\")\n",
    "#print(trainJoinBldg.head(5))\n",
    "#print(fullTraining.head(5))\n",
    "print(fullTraining.columns)"
   ]
  },
  {
   "cell_type": "markdown",
   "metadata": {},
   "source": [
    "`fullTraining` now has all the provided training data merged into one dataframe. i.e. Each row contains the meter reading, building info, and weather for that site+timestamp all in one row.\n",
    "\n",
    "Only 0.45% of the rows get lost when merging with the weather data. This implies that not every site+timestamp is present in the weather data.\n",
    "\n",
    "I assume it will also be necessary to repeat these steps for the test data prior to making predictions; however, if weather data is not present for a given site+timestamp, we cannot just drop the row - we must still make a prediction."
   ]
  },
  {
   "cell_type": "markdown",
   "metadata": {},
   "source": [
    "---\n",
    "# Intermission: Manipulate the Data"
   ]
  },
  {
   "cell_type": "code",
   "execution_count": 5,
   "metadata": {},
   "outputs": [],
   "source": [
    "# Define functions that create new columns based on data from other columns\n",
    "def getMonth(row):\n",
    "    date = datetime.datetime.strptime(row['timestamp'], '%Y-%m-%d %H:%M:%S')\n",
    "    return date.strftime('%b')"
   ]
  },
  {
   "cell_type": "code",
   "execution_count": 5,
   "metadata": {},
   "outputs": [],
   "source": [
    "elecTrain = fullTraining[fullTraining['meter'] == 0]\n",
    "chillWaterTrain = fullTraining[fullTraining['meter'] == 1]\n",
    "steamTrain = fullTraining[fullTraining['meter'] == 2]\n",
    "hotWaterTrain = fullTraining[fullTraining['meter'] == 3]\n",
    "\n",
    "del fullTraining"
   ]
  },
  {
   "cell_type": "code",
   "execution_count": 8,
   "metadata": {},
   "outputs": [],
   "source": [
    "# Create new columns\n",
    "# elecTrain['month'] = elecTrain.apply(lambda row: getMonth(row), axis=1) ## Lambda way\n",
    "elecTrain[\"month\"] = \"\"\n",
    "for i, row in elecTrain.iterrows():\n",
    "     elecTrain.at[i,'month'] = datetime.datetime.strptime(row['timestamp'], '%Y-%m-%d %H:%M:%S').strftime('%b')"
   ]
  },
  {
   "cell_type": "code",
   "execution_count": 9,
   "metadata": {},
   "outputs": [
    {
     "name": "stdout",
     "output_type": "stream",
     "text": [
      "   building_id  meter            timestamp  meter_reading  site_id  \\\n",
      "0            0      0  2016-01-01 00:00:00            0.0        0   \n",
      "1            1      0  2016-01-01 00:00:00            0.0        0   \n",
      "2            2      0  2016-01-01 00:00:00            0.0        0   \n",
      "3            3      0  2016-01-01 00:00:00            0.0        0   \n",
      "4            4      0  2016-01-01 00:00:00            0.0        0   \n",
      "\n",
      "  primary_use  square_feet  year_built  floor_count  air_temperature  \\\n",
      "0   Education         7432      2008.0          NaN             25.0   \n",
      "1   Education         2720      2004.0          NaN             25.0   \n",
      "2   Education         5376      1991.0          NaN             25.0   \n",
      "3   Education        23685      2002.0          NaN             25.0   \n",
      "4   Education       116607      1975.0          NaN             25.0   \n",
      "\n",
      "   cloud_coverage  dew_temperature  precip_depth_1_hr  sea_level_pressure  \\\n",
      "0             6.0             20.0                NaN              1019.7   \n",
      "1             6.0             20.0                NaN              1019.7   \n",
      "2             6.0             20.0                NaN              1019.7   \n",
      "3             6.0             20.0                NaN              1019.7   \n",
      "4             6.0             20.0                NaN              1019.7   \n",
      "\n",
      "   wind_direction  wind_speed month  \n",
      "0             0.0         0.0   Jan  \n",
      "1             0.0         0.0   Jan  \n",
      "2             0.0         0.0   Jan  \n",
      "3             0.0         0.0   Jan  \n",
      "4             0.0         0.0   Jan  \n"
     ]
    }
   ],
   "source": [
    "print(elecTrain.head(5))"
   ]
  },
  {
   "cell_type": "markdown",
   "metadata": {},
   "source": [
    "---\n",
    "# 2. Linear Regression"
   ]
  },
  {
   "cell_type": "markdown",
   "metadata": {},
   "source": [
    "I have a hunch that we'll need separate models for workdays and holidays/weekends.\n",
    "So, we may end up needing a model for each of the following:\n",
    "\n",
    "* workday / electricity\n",
    "* workday / chilledwater\n",
    "* workday / steam\n",
    "* workday / hotwater\n",
    "* non-workday / electricity\n",
    "* non-workday / chilledwater\n",
    "* non-workday / steam\n",
    "* non-workday / hotwater\n",
    "\n",
    "And we could maybe even add the `primary_use` as yet another variable if we really want/need to."
   ]
  }
 ],
 "metadata": {
  "kernelspec": {
   "display_name": "Python 3",
   "language": "python",
   "name": "python3"
  },
  "language_info": {
   "codemirror_mode": {
    "name": "ipython",
    "version": 3
   },
   "file_extension": ".py",
   "mimetype": "text/x-python",
   "name": "python",
   "nbconvert_exporter": "python",
   "pygments_lexer": "ipython3",
   "version": "3.7.3"
  }
 },
 "nbformat": 4,
 "nbformat_minor": 2
}
