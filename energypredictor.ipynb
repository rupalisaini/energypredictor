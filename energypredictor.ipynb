{
 "cells": [
  {
   "cell_type": "markdown",
   "metadata": {},
   "source": [
    "# Import Statements and Magic Commands"
   ]
  },
  {
   "cell_type": "code",
   "execution_count": 1,
   "metadata": {},
   "outputs": [],
   "source": [
    "import datetime\n",
    "import numpy as np\n",
    "import pandas as pd\n",
    "import matplotlib.pyplot as plt\n",
    "from sklearn import linear_model\n",
    "from sklearn.metrics import mean_squared_log_error\n",
    "# WHEN CHECKING THE MODEL: use as np.sqrt(mean_squared_log_error( y_test, predictions ))\n",
    "from pandas.tseries.holiday import USFederalHolidayCalendar"
   ]
  },
  {
   "cell_type": "markdown",
   "metadata": {},
   "source": [
    "---\n",
    "# Load the Data"
   ]
  },
  {
   "cell_type": "markdown",
   "metadata": {},
   "source": [
    "### Building and Weather Data"
   ]
  },
  {
   "cell_type": "code",
   "execution_count": 2,
   "metadata": {
    "scrolled": true
   },
   "outputs": [],
   "source": [
    "# Note: These assume that the data has been saved to a subdirectory named \"energy\"\n",
    "bldgData = pd.read_csv(\"energy/building_metadata.csv\")\n",
    "weatherTrain = pd.read_csv(\"energy/weather_train.csv\")\n",
    "weatherTest = pd.read_csv(\"energy/weather_test.csv\")\n",
    "allWeather = weatherTrain.append(weatherTest)"
   ]
  },
  {
   "cell_type": "markdown",
   "metadata": {},
   "source": [
    "I'm combining the weather data into one dataframe. There's really no need for it to be separate. Plus, I have a hunch that the _current_ meter reading is better modeled as a function of the average of the _current_ weather data and the _last_ weather data. In other words, how much energy a building used in the last hour is based on the weather for the last hour, not necessarily the weather at the current timestamp. If this is the case, then the first prediction in the test data will need the last weather data from the training set."
   ]
  },
  {
   "cell_type": "markdown",
   "metadata": {},
   "source": [
    "### Training Data"
   ]
  },
  {
   "cell_type": "code",
   "execution_count": 3,
   "metadata": {},
   "outputs": [],
   "source": [
    "energyTrain = pd.read_csv(\"energy/train.csv\")"
   ]
  },
  {
   "cell_type": "markdown",
   "metadata": {},
   "source": [
    "### Test Data\n",
    "Warning: This will use a lot of memory! My virtual machine is sitting at 5.5 GB of RAM utilization right now."
   ]
  },
  {
   "cell_type": "code",
   "execution_count": 4,
   "metadata": {},
   "outputs": [],
   "source": [
    "energyTest = pd.read_csv(\"energy/test.csv\")"
   ]
  },
  {
   "cell_type": "markdown",
   "metadata": {},
   "source": [
    "### Explore the Data"
   ]
  },
  {
   "cell_type": "code",
   "execution_count": 4,
   "metadata": {},
   "outputs": [
    {
     "name": "stdout",
     "output_type": "stream",
     "text": [
      "   building_id  meter            timestamp  meter_reading\n",
      "0            0      0  2016-01-01 00:00:00            0.0\n",
      "1            1      0  2016-01-01 00:00:00            0.0\n",
      "2            2      0  2016-01-01 00:00:00            0.0\n",
      "3            3      0  2016-01-01 00:00:00            0.0\n",
      "4            4      0  2016-01-01 00:00:00            0.0\n"
     ]
    }
   ],
   "source": [
    "#print(bldgData.head(5))\n",
    "#print(allWeather.head(5))\n",
    "#print(allWeather.tail(5))\n",
    "print(energyTrain.head(5))"
   ]
  },
  {
   "cell_type": "markdown",
   "metadata": {},
   "source": [
    "---\n",
    "# 0. No Model\n",
    "\n",
    "Just submit the \"sample_submission.csv\" and see what score that yields.\n",
    "\n",
    "### Kaggle RMSLE score for No Model = "
   ]
  },
  {
   "cell_type": "markdown",
   "metadata": {},
   "source": [
    "---\n",
    "# 1.a. The \"Naïve Model\" - Version 1"
   ]
  },
  {
   "cell_type": "markdown",
   "metadata": {},
   "source": [
    "This model computes the average usage for a `(building_id, meter, hourly time)` tuple. This version of the Naïve Model is not aware of \"workdays\" vs. \"non-workdays\" (i.e. weekends and holidays)."
   ]
  },
  {
   "cell_type": "markdown",
   "metadata": {},
   "source": [
    "**Train**"
   ]
  },
  {
   "cell_type": "code",
   "execution_count": 6,
   "metadata": {},
   "outputs": [],
   "source": [
    "naiveModel = {}\n",
    "\n",
    "for row in energyTrain.itertuples(index=False):\n",
    "    building_id = str(row.building_id)\n",
    "    meter = str(row.meter)\n",
    "    time = row.timestamp.split(\" \")[1]\n",
    "    meter_reading = row.meter_reading\n",
    "    \n",
    "    key = building_id + \"-\" + meter + \"-\" + time\n",
    "    \n",
    "    if key in naiveModel:\n",
    "        naiveModel[key][0] += meter_reading\n",
    "        naiveModel[key][1] += 1.0\n",
    "    else:\n",
    "        naiveModel[key] = [meter_reading,1.0]\n",
    "        \n",
    "for key in naiveModel.keys():\n",
    "    totalUsed = naiveModel[key][0]\n",
    "    readingCount = naiveModel[key][1]\n",
    "    naiveModel[key] = totalUsed / readingCount"
   ]
  },
  {
   "cell_type": "markdown",
   "metadata": {},
   "source": [
    "**Predict**"
   ]
  },
  {
   "cell_type": "code",
   "execution_count": 7,
   "metadata": {},
   "outputs": [],
   "source": [
    "# Note: Create a subdirectory named \"results\" before running\n",
    "naiveResults = \"row_id,meter_reading\\n\"\n",
    "\n",
    "for row in energyTest.itertuples(index=False):\n",
    "    row_id = str(row.row_id)\n",
    "    building_id = str(row.building_id)\n",
    "    meter = str(row.meter)\n",
    "    time = row.timestamp.split(\" \")[1]\n",
    "    \n",
    "    key = building_id + \"-\" + meter + \"-\" + time\n",
    "    \n",
    "    pred = naiveModel[key]\n",
    "\n",
    "    naiveResults += row_id + \",\" + '{0:.4f}'.format(pred) + \"\\n\"\n",
    "    \n",
    "outFile = open(\"results/naiveResults01.csv\",\"w\")\n",
    "outFile.write(naiveResults)\n",
    "outFile.close()"
   ]
  },
  {
   "cell_type": "markdown",
   "metadata": {},
   "source": [
    "### Kaggle RMSLE score for the Naïve Method, Version 1 = 1.46"
   ]
  },
  {
   "cell_type": "markdown",
   "metadata": {},
   "source": [
    "---\n",
    "# 1.b. The \"Naïve Model\" - Version 2"
   ]
  },
  {
   "cell_type": "markdown",
   "metadata": {},
   "source": [
    "This model improves on Version 1 by computing two averages for each `(building_id, meter, hourly time)` tuple: one for \"workdays\" and one for \"non-workdays\" (i.e. weekends and holidays)."
   ]
  },
  {
   "cell_type": "markdown",
   "metadata": {},
   "source": [
    "**Train**"
   ]
  },
  {
   "cell_type": "code",
   "execution_count": 8,
   "metadata": {},
   "outputs": [],
   "source": [
    "cal = USFederalHolidayCalendar() # This assumes all of the buildings are in the US, but they are not.\n",
    "holidays = cal.holidays(start='2016-01-01', end='2018-12-31').to_pydatetime()\n",
    "\n",
    "naiveModel = {}\n",
    "\n",
    "for row in energyTrain.itertuples(index=False):\n",
    "    building_id = str(row.building_id)\n",
    "    meter = str(row.meter)\n",
    "    dateStr, time = row.timestamp.split(\" \")\n",
    "    meter_reading = row.meter_reading\n",
    "    \n",
    "    date = datetime.datetime.strptime(dateStr, '%Y-%m-%d')\n",
    "    \n",
    "    if (date in holidays) or (date.weekday() > 4):\n",
    "        workday = '0'\n",
    "    else:\n",
    "        workday = '1'\n",
    "    \n",
    "    key = workday + \"-\" + building_id + \"-\" + meter + \"-\" + time\n",
    "    \n",
    "    if key in naiveModel:\n",
    "        naiveModel[key][0] += meter_reading\n",
    "        naiveModel[key][1] += 1.0\n",
    "    else:\n",
    "        naiveModel[key] = [meter_reading,1.0] \n",
    "        \n",
    "for key in naiveModel.keys():\n",
    "    totalUsed = naiveModel[key][0]\n",
    "    readingCount = naiveModel[key][1]\n",
    "    naiveModel[key] = totalUsed / readingCount"
   ]
  },
  {
   "cell_type": "markdown",
   "metadata": {},
   "source": [
    "**Predict**"
   ]
  },
  {
   "cell_type": "code",
   "execution_count": 9,
   "metadata": {},
   "outputs": [],
   "source": [
    "# Note: Create a subdirectory named \"results\" before running\n",
    "naiveResults = \"row_id,meter_reading\\n\"\n",
    "\n",
    "for row in energyTest.itertuples(index=False):\n",
    "    row_id = str(row.row_id)\n",
    "    building_id = str(row.building_id)\n",
    "    meter = str(row.meter)\n",
    "    dateStr, time = row.timestamp.split(\" \")\n",
    "    \n",
    "    date = datetime.datetime.strptime(dateStr, '%Y-%m-%d')\n",
    "    \n",
    "    if (date in holidays) or (date.weekday() > 4):\n",
    "        workday = '0'\n",
    "    else:\n",
    "        workday = '1'\n",
    "    \n",
    "    key = workday + \"-\" + building_id + \"-\" + meter + \"-\" + time\n",
    "    \n",
    "    pred = naiveModel[key]\n",
    "\n",
    "    naiveResults += row_id + \",\" + '{0:.4f}'.format(pred) + \"\\n\"\n",
    "    \n",
    "outFile = open(\"results/naiveResults02.csv\",\"w\")\n",
    "outFile.write(naiveResults)\n",
    "outFile.close()"
   ]
  },
  {
   "cell_type": "markdown",
   "metadata": {},
   "source": [
    "### Kaggle RMSLE score for the Naïve Method, Version 2 = 1.45"
   ]
  },
  {
   "cell_type": "markdown",
   "metadata": {},
   "source": [
    "---\n",
    "# Intermission: Merge Training Data prior to Machine Learning"
   ]
  },
  {
   "cell_type": "code",
   "execution_count": 4,
   "metadata": {},
   "outputs": [],
   "source": [
    "trainJoinBldg = pd.merge(energyTrain, bldgData, on='building_id')\n",
    "fullTraining = pd.merge(trainJoinBldg, allWeather, on=['site_id', 'timestamp'])\n",
    "\n",
    "del energyTrain\n",
    "del trainJoinBldg\n",
    "del bldgData\n",
    "del weatherTrain\n",
    "del weatherTest\n",
    "del allWeather"
   ]
  },
  {
   "cell_type": "code",
   "execution_count": 10,
   "metadata": {},
   "outputs": [
    {
     "name": "stdout",
     "output_type": "stream",
     "text": [
      "2380\n"
     ]
    }
   ],
   "source": [
    "buildingMeters = []\n",
    "\n",
    "for row in fullTraining.itertuples(index=False):\n",
    "    if (row.building_id, row.meter) not in buildingMeters:\n",
    "        buildingMeters.append((row.building_id, row.meter))\n",
    "    \n",
    "print(len(buildingMeters))"
   ]
  },
  {
   "cell_type": "code",
   "execution_count": 16,
   "metadata": {},
   "outputs": [
    {
     "name": "stdout",
     "output_type": "stream",
     "text": [
      "5.04\n",
      "10.08\n",
      "15.13\n",
      "20.17\n",
      "25.21\n",
      "30.25\n",
      "35.29\n",
      "40.34\n",
      "45.38\n",
      "50.42\n",
      "55.46\n",
      "60.50\n",
      "65.55\n",
      "70.59\n",
      "75.63\n",
      "80.67\n",
      "85.71\n",
      "90.76\n",
      "95.80\n",
      "2380\n"
     ]
    }
   ],
   "source": [
    "trainedModels = {}\n",
    "\n",
    "counter = 0\n",
    "oldPercent = 0.\n",
    "for building_id, meter in buildingMeters:\n",
    "    buildingMeterData = fullTraining[(fullTraining['building_id'] == building_id) & (fullTraining['meter'] == meter)]\n",
    "    # TRAIN A MODEL USING buildingMeterData\n",
    "    # y_vals = buildingMeterData[meter_reading]\n",
    "    # x_vals = buildingMeterData[whatever,else,we,need]\n",
    "    trainedModel = \"I'm a model\" #training happens here\n",
    "    trainedModels[(building_id, meter)] = trainedModel\n",
    "    counter += 1\n",
    "    percent = 100. * counter / 2380\n",
    "    if percent - oldPercent > 5:\n",
    "        print('{0:.2f}'.format(percent))\n",
    "        oldPercent = percent\n",
    "\n",
    "print(len(trainedModels))"
   ]
  },
  {
   "cell_type": "code",
   "execution_count": 8,
   "metadata": {},
   "outputs": [
    {
     "name": "stdout",
     "output_type": "stream",
     "text": [
      "(20125605, 16)\n"
     ]
    }
   ],
   "source": [
    "print(fullTraining.shape)"
   ]
  },
  {
   "cell_type": "code",
   "execution_count": 7,
   "metadata": {},
   "outputs": [
    {
     "name": "stdout",
     "output_type": "stream",
     "text": [
      "Index(['building_id', 'meter', 'timestamp', 'meter_reading', 'site_id',\n",
      "       'primary_use', 'square_feet', 'year_built', 'floor_count',\n",
      "       'air_temperature', 'cloud_coverage', 'dew_temperature',\n",
      "       'precip_depth_1_hr', 'sea_level_pressure', 'wind_direction',\n",
      "       'wind_speed'],\n",
      "      dtype='object')\n"
     ]
    }
   ],
   "source": [
    "# Explore new dataframes\n",
    "#print(energyTrain.shape)\n",
    "#print(trainJoinBldg.shape)\n",
    "#thrownOut = energyTrain.shape[0] - trainJoinBldg.shape[0]\n",
    "#thrownOutPercent = 100.* thrownOut * 1./ energyTrain.shape[0]\n",
    "#print(\"% thrown out by merging with building data: \" + '{0:.2f}'.format(thrownOutPercent) + \"%\")\n",
    "#print(fullTraining.shape)\n",
    "#thrownOut = trainJoinBldg.shape[0] - fullTraining.shape[0]\n",
    "#thrownOutPercent = 100.* thrownOut * 1./ trainJoinBldg.shape[0]\n",
    "#print(\"% thrown out by merging with weather data: \" + '{0:.2f}'.format(thrownOutPercent) + \"%\")\n",
    "#print(trainJoinBldg.head(5))\n",
    "#print(fullTraining.head(5))\n",
    "print(fullTraining.columns)"
   ]
  },
  {
   "cell_type": "markdown",
   "metadata": {},
   "source": [
    "`fullTraining` now has all the provided training data merged into one dataframe. i.e. Each row contains the meter reading, building info, and weather for that site+timestamp all in one row.\n",
    "\n",
    "Only 0.45% of the rows get lost when merging with the weather data. This implies that not every site+timestamp is present in the weather data.\n",
    "\n",
    "I assume it will also be necessary to repeat these steps for the test data prior to making predictions; however, if weather data is not present for a given site+timestamp, we cannot just drop the row - we must still make a prediction."
   ]
  },
  {
   "cell_type": "markdown",
   "metadata": {},
   "source": [
    "---\n",
    "# Intermission: Manipulate the Data"
   ]
  },
  {
   "cell_type": "code",
   "execution_count": 5,
   "metadata": {},
   "outputs": [],
   "source": [
    "# Define functions that create new columns based on data from other columns\n",
    "def getMonth(row):\n",
    "    date = datetime.datetime.strptime(row['timestamp'], '%Y-%m-%d %H:%M:%S')\n",
    "    return date.strftime('%b')"
   ]
  },
  {
   "cell_type": "code",
   "execution_count": 5,
   "metadata": {},
   "outputs": [],
   "source": [
    "elecTrain = fullTraining[fullTraining['meter'] == 0]\n",
    "chillWaterTrain = fullTraining[fullTraining['meter'] == 1]\n",
    "steamTrain = fullTraining[fullTraining['meter'] == 2]\n",
    "hotWaterTrain = fullTraining[fullTraining['meter'] == 3]\n",
    "\n",
    "del fullTraining"
   ]
  },
  {
   "cell_type": "code",
   "execution_count": 8,
   "metadata": {},
   "outputs": [],
   "source": [
    "# Create new columns\n",
    "# elecTrain['month'] = elecTrain.apply(lambda row: getMonth(row), axis=1) ## Lambda way\n",
    "elecTrain[\"month\"] = \"\"\n",
    "for i, row in elecTrain.iterrows():\n",
    "     elecTrain.at[i,'month'] = datetime.datetime.strptime(row['timestamp'], '%Y-%m-%d %H:%M:%S').strftime('%b')"
   ]
  },
  {
   "cell_type": "code",
   "execution_count": 9,
   "metadata": {},
   "outputs": [
    {
     "name": "stdout",
     "output_type": "stream",
     "text": [
      "   building_id  meter            timestamp  meter_reading  site_id  \\\n",
      "0            0      0  2016-01-01 00:00:00            0.0        0   \n",
      "1            1      0  2016-01-01 00:00:00            0.0        0   \n",
      "2            2      0  2016-01-01 00:00:00            0.0        0   \n",
      "3            3      0  2016-01-01 00:00:00            0.0        0   \n",
      "4            4      0  2016-01-01 00:00:00            0.0        0   \n",
      "\n",
      "  primary_use  square_feet  year_built  floor_count  air_temperature  \\\n",
      "0   Education         7432      2008.0          NaN             25.0   \n",
      "1   Education         2720      2004.0          NaN             25.0   \n",
      "2   Education         5376      1991.0          NaN             25.0   \n",
      "3   Education        23685      2002.0          NaN             25.0   \n",
      "4   Education       116607      1975.0          NaN             25.0   \n",
      "\n",
      "   cloud_coverage  dew_temperature  precip_depth_1_hr  sea_level_pressure  \\\n",
      "0             6.0             20.0                NaN              1019.7   \n",
      "1             6.0             20.0                NaN              1019.7   \n",
      "2             6.0             20.0                NaN              1019.7   \n",
      "3             6.0             20.0                NaN              1019.7   \n",
      "4             6.0             20.0                NaN              1019.7   \n",
      "\n",
      "   wind_direction  wind_speed month  \n",
      "0             0.0         0.0   Jan  \n",
      "1             0.0         0.0   Jan  \n",
      "2             0.0         0.0   Jan  \n",
      "3             0.0         0.0   Jan  \n",
      "4             0.0         0.0   Jan  \n"
     ]
    }
   ],
   "source": [
    "print(elecTrain.head(5))"
   ]
  },
  {
   "cell_type": "markdown",
   "metadata": {},
   "source": [
    "---\n",
    "# 2. Linear Regression"
   ]
  },
  {
   "cell_type": "markdown",
   "metadata": {},
   "source": [
    "I have a hunch that we'll need separate models for workdays and holidays/weekends.\n",
    "So, we may end up needing a model for each of the following:\n",
    "\n",
    "* workday / electricity\n",
    "* workday / chilledwater\n",
    "* workday / steam\n",
    "* workday / hotwater\n",
    "* non-workday / electricity\n",
    "* non-workday / chilledwater\n",
    "* non-workday / steam\n",
    "* non-workday / hotwater\n",
    "\n",
    "And we could maybe even add the `primary_use` as yet another variable if we really want/need to."
   ]
  }
 ],
 "metadata": {
  "kernelspec": {
   "display_name": "Python 3",
   "language": "python",
   "name": "python3"
  },
  "language_info": {
   "codemirror_mode": {
    "name": "ipython",
    "version": 3
   },
   "file_extension": ".py",
   "mimetype": "text/x-python",
   "name": "python",
   "nbconvert_exporter": "python",
   "pygments_lexer": "ipython3",
   "version": "3.7.3"
  }
 },
 "nbformat": 4,
 "nbformat_minor": 2
}
