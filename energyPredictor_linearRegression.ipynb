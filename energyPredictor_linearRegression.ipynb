{
 "cells": [
  {
   "cell_type": "code",
   "execution_count": 16,
   "metadata": {},
   "outputs": [],
   "source": [
    "import datetime\n",
    "import numpy as np\n",
    "import pandas as pd\n",
    "import matplotlib.pyplot as plt\n",
    "from sklearn import linear_model\n",
    "from sklearn.metrics import mean_squared_log_error\n",
    "# WHEN CHECKING THE MODEL: use as np.sqrt(mean_squared_log_error( y_test, predictions ))\n",
    "from pandas.tseries.holiday import USFederalHolidayCalendar\n",
    "import seaborn as seabornInstance \n",
    "from sklearn.model_selection import train_test_split \n",
    "from sklearn.linear_model import LinearRegression\n",
    "from sklearn.feature_selection import SelectKBest\n",
    "from sklearn.feature_selection import chi2\n",
    "from sklearn import metrics\n",
    "from sklearn import tree\n",
    "from sklearn import preprocessing\n",
    "%matplotlib inline"
   ]
  },
  {
   "cell_type": "markdown",
   "metadata": {},
   "source": [
    "---\n",
    "# Load the Data"
   ]
  },
  {
   "cell_type": "markdown",
   "metadata": {},
   "source": [
    "### Building and Weather Data"
   ]
  },
  {
   "cell_type": "code",
   "execution_count": 2,
   "metadata": {
    "scrolled": true
   },
   "outputs": [],
   "source": [
    "# Note: These assume that the data has been saved to a subdirectory named \"energy\"\n",
    "bldgData = pd.read_csv(\"energy/building_metadata.csv\")\n",
    "weatherTrain = pd.read_csv(\"energy/weather_train.csv\")\n",
    "weatherTest = pd.read_csv(\"energy/weather_test.csv\")\n",
    "allWeather = weatherTrain.append(weatherTest)"
   ]
  },
  {
   "cell_type": "markdown",
   "metadata": {},
   "source": [
    "### Training Data"
   ]
  },
  {
   "cell_type": "code",
   "execution_count": 3,
   "metadata": {},
   "outputs": [],
   "source": [
    "energyTrain = pd.read_csv(\"energy/train.csv\")"
   ]
  },
  {
   "cell_type": "markdown",
   "metadata": {},
   "source": [
    "### Test Data\n",
    "Warning: This will use a lot of memory! My virtual machine is sitting at 5.5 GB of RAM utilization right now."
   ]
  },
  {
   "cell_type": "code",
   "execution_count": 4,
   "metadata": {},
   "outputs": [],
   "source": [
    "energyTest = pd.read_csv(\"energy/test.csv\")"
   ]
  },
  {
   "cell_type": "markdown",
   "metadata": {},
   "source": [
    "### Explore the Data"
   ]
  },
  {
   "cell_type": "code",
   "execution_count": 7,
   "metadata": {
    "scrolled": true
   },
   "outputs": [
    {
     "name": "stdout",
     "output_type": "stream",
     "text": [
      "(41697600, 4)\n",
      "(20216100, 4)\n"
     ]
    }
   ],
   "source": [
    "print(energyTest.shape)\n",
    "print(energyTrain.shape)"
   ]
  },
  {
   "cell_type": "code",
   "execution_count": 5,
   "metadata": {},
   "outputs": [],
   "source": [
    "trainJoinBldg = pd.merge(energyTrain, bldgData, on='building_id')\n",
    "fullTraining = pd.merge(trainJoinBldg, allWeather, how='left', on=['site_id', 'timestamp'])"
   ]
  },
  {
   "cell_type": "code",
   "execution_count": 89,
   "metadata": {},
   "outputs": [
    {
     "name": "stdout",
     "output_type": "stream",
     "text": [
      "(20216100, 4)\n",
      "(20216100, 9)\n",
      "% thrown out by merging with building data: 0.00%\n",
      "(20216100, 16)\n",
      "% thrown out by merging with weather data: 0.00%\n",
      "Index(['building_id', 'meter', 'timestamp', 'meter_reading', 'site_id',\n",
      "       'primary_use', 'square_feet', 'year_built', 'floor_count',\n",
      "       'air_temperature', 'cloud_coverage', 'dew_temperature',\n",
      "       'precip_depth_1_hr', 'sea_level_pressure', 'wind_direction',\n",
      "       'wind_speed'],\n",
      "      dtype='object')\n"
     ]
    }
   ],
   "source": [
    "# Explore new dataframes\n",
    "print(energyTrain.shape)\n",
    "print(trainJoinBldg.shape)\n",
    "thrownOut = energyTrain.shape[0] - trainJoinBldg.shape[0]\n",
    "thrownOutPercent = 100.* thrownOut * 1./ energyTrain.shape[0]\n",
    "print(\"% thrown out by merging with building data: \" + '{0:.2f}'.format(thrownOutPercent) + \"%\")\n",
    "print(fullTraining.shape)\n",
    "thrownOut = trainJoinBldg.shape[0] - fullTraining.shape[0]\n",
    "thrownOutPercent = 100.* thrownOut * 1./ trainJoinBldg.shape[0]\n",
    "print(\"% thrown out by merging with weather data: \" + '{0:.2f}'.format(thrownOutPercent) + \"%\")\n",
    "#print(trainJoinBldg.head(5))\n",
    "#print(fullTraining.head(5))\n",
    "print(fullTraining.columns)"
   ]
  },
  {
   "cell_type": "markdown",
   "metadata": {},
   "source": [
    "`fullTraining` now has all the provided training data merged into one dataframe. i.e. Each row contains the meter reading, building info, and weather for that site+timestamp all in one row.\n",
    "\n",
    "Only 0.45% of the rows get lost when merging with the weather data. This implies that not every site+timestamp is present in the weather data.\n",
    "\n",
    "I assume it will also be necessary to repeat these steps for the test data prior to making predictions; however, if weather data is not present for a given site+timestamp, we cannot just drop the row - we must still make a prediction."
   ]
  },
  {
   "cell_type": "markdown",
   "metadata": {},
   "source": [
    "---\n",
    "# 2. Linear Regression"
   ]
  },
  {
   "cell_type": "markdown",
   "metadata": {},
   "source": [
    "I have a hunch that we'll need separate models for workdays and holidays/weekends.\n",
    "So, we may end up needing a model for each of the following:\n",
    "\n",
    "* workday / electricity\n",
    "* workday / chilledwater\n",
    "* workday / steam\n",
    "* workday / hotwater\n",
    "* non-workday / electricity\n",
    "* non-workday / chilledwater\n",
    "* non-workday / steam\n",
    "* non-workday / hotwater\n",
    "\n",
    "And we could maybe even add the `primary_use` as yet another variable if we really want/need to."
   ]
  },
  {
   "cell_type": "markdown",
   "metadata": {},
   "source": [
    "---\n",
    "# 2. Sample General Linear Regression Model"
   ]
  },
  {
   "cell_type": "code",
   "execution_count": 8,
   "metadata": {},
   "outputs": [],
   "source": [
    "#Splitting into features and labels\n",
    "X = fullTraining2[['square_feet', 'year_built', 'floor_count', 'air_temperature', 'cloud_coverage', 'dew_temperature', 'sea_level_pressure', 'wind_direction', 'wind_speed']].values\n",
    "y = fullTraining2['meter_reading'].values\n",
    "\n",
    "#replace null values with column means\n",
    "indsX = np.where(np.isnan(X))\n",
    "col_mean = np.nanmean(X, axis=1)\n",
    "X[indsX] = np.take(col_mean, indsX[1])"
   ]
  },
  {
   "cell_type": "code",
   "execution_count": 7,
   "metadata": {},
   "outputs": [
    {
     "data": {
      "text/plain": [
       "LinearRegression(copy_X=True, fit_intercept=True, n_jobs=1, normalize=False)"
      ]
     },
     "execution_count": 7,
     "metadata": {},
     "output_type": "execute_result"
    }
   ],
   "source": [
    "regressor = LinearRegression()\n",
    "regressor.fit(X, y)"
   ]
  },
  {
   "cell_type": "markdown",
   "metadata": {},
   "source": [
    "## Coefficients"
   ]
  },
  {
   "cell_type": "code",
   "execution_count": 8,
   "metadata": {},
   "outputs": [
    {
     "data": {
      "text/html": [
       "<div>\n",
       "<style scoped>\n",
       "    .dataframe tbody tr th:only-of-type {\n",
       "        vertical-align: middle;\n",
       "    }\n",
       "\n",
       "    .dataframe tbody tr th {\n",
       "        vertical-align: top;\n",
       "    }\n",
       "\n",
       "    .dataframe thead th {\n",
       "        text-align: right;\n",
       "    }\n",
       "</style>\n",
       "<table border=\"1\" class=\"dataframe\">\n",
       "  <thead>\n",
       "    <tr style=\"text-align: right;\">\n",
       "      <th></th>\n",
       "      <th>Coefficient</th>\n",
       "    </tr>\n",
       "  </thead>\n",
       "  <tbody>\n",
       "    <tr>\n",
       "      <th>square_feet</th>\n",
       "      <td>0.032131</td>\n",
       "    </tr>\n",
       "    <tr>\n",
       "      <th>year_built</th>\n",
       "      <td>-2.459565</td>\n",
       "    </tr>\n",
       "    <tr>\n",
       "      <th>floor_count</th>\n",
       "      <td>1.107654</td>\n",
       "    </tr>\n",
       "    <tr>\n",
       "      <th>air_temperature</th>\n",
       "      <td>2.129612</td>\n",
       "    </tr>\n",
       "    <tr>\n",
       "      <th>cloud_coverage</th>\n",
       "      <td>0.062166</td>\n",
       "    </tr>\n",
       "    <tr>\n",
       "      <th>dew_temperature</th>\n",
       "      <td>-7.816598</td>\n",
       "    </tr>\n",
       "    <tr>\n",
       "      <th>precip_depth_1_hr</th>\n",
       "      <td>-0.168671</td>\n",
       "    </tr>\n",
       "    <tr>\n",
       "      <th>sea_level_pressure</th>\n",
       "      <td>0.126288</td>\n",
       "    </tr>\n",
       "    <tr>\n",
       "      <th>wind_direction</th>\n",
       "      <td>-0.347320</td>\n",
       "    </tr>\n",
       "    <tr>\n",
       "      <th>wind_speed</th>\n",
       "      <td>-0.078368</td>\n",
       "    </tr>\n",
       "  </tbody>\n",
       "</table>\n",
       "</div>"
      ],
      "text/plain": [
       "                    Coefficient\n",
       "square_feet            0.032131\n",
       "year_built            -2.459565\n",
       "floor_count            1.107654\n",
       "air_temperature        2.129612\n",
       "cloud_coverage         0.062166\n",
       "dew_temperature       -7.816598\n",
       "precip_depth_1_hr     -0.168671\n",
       "sea_level_pressure     0.126288\n",
       "wind_direction        -0.347320\n",
       "wind_speed            -0.078368"
      ]
     },
     "execution_count": 8,
     "metadata": {},
     "output_type": "execute_result"
    }
   ],
   "source": [
    "coeff_df = pd.DataFrame(regressor.coef_, [['square_feet', 'year_built', 'floor_count', 'air_temperature', 'cloud_coverage', 'dew_temperature', 'precip_depth_1_hr', 'sea_level_pressure', 'wind_direction', 'wind_speed']], columns=['Coefficient'])  \n",
    "coeff_df"
   ]
  },
  {
   "cell_type": "markdown",
   "metadata": {},
   "source": [
    "---\n",
    "# Testing General Linear Regression Model"
   ]
  },
  {
   "cell_type": "code",
   "execution_count": 9,
   "metadata": {
    "scrolled": true
   },
   "outputs": [],
   "source": [
    "testJoinBldg = pd.merge(energyTest, bldgData, on='building_id')\n",
    "fullTesting = pd.merge(testJoinBldg, allWeather, how='left', on=['site_id', 'timestamp'])"
   ]
  },
  {
   "cell_type": "code",
   "execution_count": 10,
   "metadata": {},
   "outputs": [],
   "source": [
    "X_test = fullTesting[['square_feet', 'year_built', 'floor_count', 'air_temperature', 'cloud_coverage', 'dew_temperature', 'precip_depth_1_hr', 'sea_level_pressure', 'wind_direction', 'wind_speed']].values\n",
    "#X_test = fullTesting[['air_temperature', 'dew_temperature']].values"
   ]
  },
  {
   "cell_type": "code",
   "execution_count": 11,
   "metadata": {},
   "outputs": [],
   "source": [
    "inds = np.where(np.isnan(X_test))"
   ]
  },
  {
   "cell_type": "code",
   "execution_count": 12,
   "metadata": {},
   "outputs": [],
   "source": [
    "col_mean = np.nanmean(X_test, axis=1)\n",
    "X_test[inds] = np.take(col_mean, inds[1])"
   ]
  },
  {
   "cell_type": "code",
   "execution_count": 13,
   "metadata": {},
   "outputs": [],
   "source": [
    "y_pred = regressor.predict(X_test)"
   ]
  },
  {
   "cell_type": "code",
   "execution_count": 16,
   "metadata": {},
   "outputs": [
    {
     "name": "stdout",
     "output_type": "stream",
     "text": [
      "[-3681.90173244 -3823.46345567 -3706.14990701 -3144.92365245\n",
      "   -92.86407147]\n"
     ]
    }
   ],
   "source": [
    "print(y_pred[:5])"
   ]
  },
  {
   "cell_type": "code",
   "execution_count": 15,
   "metadata": {},
   "outputs": [
    {
     "name": "stdout",
     "output_type": "stream",
     "text": [
      "[[7.4320000e+03 2.0080000e+03 1.0656875e+03 1.7800000e+01 4.0000000e+00\n",
      "  1.1700000e+01 3.8831875e+03 1.0214000e+03 1.0000000e+02 3.6000000e+00]\n",
      " [2.7200000e+03 2.0040000e+03 1.0656875e+03 1.7800000e+01 4.0000000e+00\n",
      "  1.1700000e+01 3.8831875e+03 1.0214000e+03 1.0000000e+02 3.6000000e+00]\n",
      " [5.3760000e+03 1.9910000e+03 1.0656875e+03 1.7800000e+01 4.0000000e+00\n",
      "  1.1700000e+01 3.8831875e+03 1.0214000e+03 1.0000000e+02 3.6000000e+00]\n",
      " [2.3685000e+04 2.0020000e+03 1.0656875e+03 1.7800000e+01 4.0000000e+00\n",
      "  1.1700000e+01 3.8831875e+03 1.0214000e+03 1.0000000e+02 3.6000000e+00]\n",
      " [1.1660700e+05 1.9750000e+03 1.0656875e+03 1.7800000e+01 4.0000000e+00\n",
      "  1.1700000e+01 3.8831875e+03 1.0214000e+03 1.0000000e+02 3.6000000e+00]]\n"
     ]
    }
   ],
   "source": [
    "print(X_test[:5])"
   ]
  },
  {
   "cell_type": "markdown",
   "metadata": {},
   "source": [
    "---\n",
    "# 2. Sample General Linear Regression Model 2 - feature manipulation"
   ]
  },
  {
   "cell_type": "code",
   "execution_count": 135,
   "metadata": {},
   "outputs": [],
   "source": [
    "fullTraining2 = fullTraining\n",
    "airTempMean = fullTraining2['air_temperature'].mean()\n",
    "fullTraining2['air_temperature'] - airTempMean\n",
    "fullTraining2['air_temperature'] = fullTraining2['air_temperature'].abs()\n",
    "dewTempMean = fullTraining2['dew_temperature'].mean()\n",
    "fullTraining2['dew_temperature'] - dewTempMean\n",
    "fullTraining2['dew_temperature'] = fullTraining2['dew_temperature'].abs()\n",
    "fullTraining2['year_built'] = 2019 - fullTraining2['year_built']"
   ]
  },
  {
   "cell_type": "code",
   "execution_count": 136,
   "metadata": {},
   "outputs": [
    {
     "name": "stderr",
     "output_type": "stream",
     "text": [
      "/anaconda3/lib/python3.7/site-packages/ipykernel_launcher.py:7: RuntimeWarning: Mean of empty slice\n",
      "  import sys\n"
     ]
    }
   ],
   "source": [
    "#Splitting into features and labels\n",
    "X = fullTraining2[['year_built', 'air_temperature', 'dew_temperature']].values\n",
    "y = fullTraining2['meter_reading'].values\n",
    "\n",
    "#replace null values with column means\n",
    "indsX = np.where(np.isnan(X))\n",
    "col_mean = np.nanmean(X, axis=1)\n",
    "X[indsX] = np.take(col_mean, indsX[1])"
   ]
  },
  {
   "cell_type": "code",
   "execution_count": 137,
   "metadata": {
    "scrolled": false
   },
   "outputs": [
    {
     "name": "stdout",
     "output_type": "stream",
     "text": [
      "(20216100, 3)\n",
      "(20216100,)\n"
     ]
    }
   ],
   "source": [
    "print(X.shape)\n",
    "print(y.shape)"
   ]
  },
  {
   "cell_type": "code",
   "execution_count": 138,
   "metadata": {},
   "outputs": [],
   "source": [
    "X_train, X_test, y_train, y_test = train_test_split(X, y, test_size=0.2, random_state=0)"
   ]
  },
  {
   "cell_type": "code",
   "execution_count": 139,
   "metadata": {},
   "outputs": [
    {
     "data": {
      "text/plain": [
       "LinearRegression(copy_X=True, fit_intercept=True, n_jobs=1, normalize=False)"
      ]
     },
     "execution_count": 139,
     "metadata": {},
     "output_type": "execute_result"
    }
   ],
   "source": [
    "regressor = LinearRegression()\n",
    "regressor.fit(X_train, y_train)"
   ]
  },
  {
   "cell_type": "markdown",
   "metadata": {},
   "source": [
    "## Coefficients"
   ]
  },
  {
   "cell_type": "code",
   "execution_count": 140,
   "metadata": {},
   "outputs": [
    {
     "data": {
      "text/html": [
       "<div>\n",
       "<style scoped>\n",
       "    .dataframe tbody tr th:only-of-type {\n",
       "        vertical-align: middle;\n",
       "    }\n",
       "\n",
       "    .dataframe tbody tr th {\n",
       "        vertical-align: top;\n",
       "    }\n",
       "\n",
       "    .dataframe thead th {\n",
       "        text-align: right;\n",
       "    }\n",
       "</style>\n",
       "<table border=\"1\" class=\"dataframe\">\n",
       "  <thead>\n",
       "    <tr style=\"text-align: right;\">\n",
       "      <th></th>\n",
       "      <th>Coefficient</th>\n",
       "    </tr>\n",
       "  </thead>\n",
       "  <tbody>\n",
       "    <tr>\n",
       "      <th>year_built</th>\n",
       "      <td>-2.335449</td>\n",
       "    </tr>\n",
       "    <tr>\n",
       "      <th>air_temperature</th>\n",
       "      <td>-1.368348</td>\n",
       "    </tr>\n",
       "    <tr>\n",
       "      <th>dew_temperature</th>\n",
       "      <td>-2.063452</td>\n",
       "    </tr>\n",
       "  </tbody>\n",
       "</table>\n",
       "</div>"
      ],
      "text/plain": [
       "                 Coefficient\n",
       "year_built         -2.335449\n",
       "air_temperature    -1.368348\n",
       "dew_temperature    -2.063452"
      ]
     },
     "execution_count": 140,
     "metadata": {},
     "output_type": "execute_result"
    }
   ],
   "source": [
    "coeff_df = pd.DataFrame(regressor.coef_, [['year_built', 'air_temperature', 'dew_temperature']], columns=['Coefficient'])  \n",
    "#coeff_df = pd.DataFrame(regressor.coef_, [['air_temperature', 'dew_temperature']], columns=['Coefficient'])  \n",
    "coeff_df"
   ]
  },
  {
   "cell_type": "code",
   "execution_count": 141,
   "metadata": {},
   "outputs": [],
   "source": [
    "y_pred = regressor.predict(X_test)"
   ]
  },
  {
   "cell_type": "code",
   "execution_count": 142,
   "metadata": {},
   "outputs": [
    {
     "data": {
      "text/html": [
       "<div>\n",
       "<style scoped>\n",
       "    .dataframe tbody tr th:only-of-type {\n",
       "        vertical-align: middle;\n",
       "    }\n",
       "\n",
       "    .dataframe tbody tr th {\n",
       "        vertical-align: top;\n",
       "    }\n",
       "\n",
       "    .dataframe thead th {\n",
       "        text-align: right;\n",
       "    }\n",
       "</style>\n",
       "<table border=\"1\" class=\"dataframe\">\n",
       "  <thead>\n",
       "    <tr style=\"text-align: right;\">\n",
       "      <th></th>\n",
       "      <th>Actual</th>\n",
       "      <th>Predicted</th>\n",
       "    </tr>\n",
       "  </thead>\n",
       "  <tbody>\n",
       "    <tr>\n",
       "      <th>0</th>\n",
       "      <td>109.0000</td>\n",
       "      <td>3348.859663</td>\n",
       "    </tr>\n",
       "    <tr>\n",
       "      <th>1</th>\n",
       "      <td>17.4250</td>\n",
       "      <td>3346.646260</td>\n",
       "    </tr>\n",
       "    <tr>\n",
       "      <th>2</th>\n",
       "      <td>4.1231</td>\n",
       "      <td>417.346824</td>\n",
       "    </tr>\n",
       "    <tr>\n",
       "      <th>3</th>\n",
       "      <td>1089.8000</td>\n",
       "      <td>3342.871281</td>\n",
       "    </tr>\n",
       "    <tr>\n",
       "      <th>4</th>\n",
       "      <td>82.9440</td>\n",
       "      <td>316.509866</td>\n",
       "    </tr>\n",
       "    <tr>\n",
       "      <th>5</th>\n",
       "      <td>65.4333</td>\n",
       "      <td>3337.567073</td>\n",
       "    </tr>\n",
       "    <tr>\n",
       "      <th>6</th>\n",
       "      <td>6.0000</td>\n",
       "      <td>3288.800991</td>\n",
       "    </tr>\n",
       "    <tr>\n",
       "      <th>7</th>\n",
       "      <td>8.7921</td>\n",
       "      <td>315.398601</td>\n",
       "    </tr>\n",
       "    <tr>\n",
       "      <th>8</th>\n",
       "      <td>185.0000</td>\n",
       "      <td>3334.467967</td>\n",
       "    </tr>\n",
       "    <tr>\n",
       "      <th>9</th>\n",
       "      <td>0.3332</td>\n",
       "      <td>3351.902375</td>\n",
       "    </tr>\n",
       "    <tr>\n",
       "      <th>10</th>\n",
       "      <td>156.0000</td>\n",
       "      <td>3329.810769</td>\n",
       "    </tr>\n",
       "    <tr>\n",
       "      <th>11</th>\n",
       "      <td>1099.9400</td>\n",
       "      <td>3349.980130</td>\n",
       "    </tr>\n",
       "    <tr>\n",
       "      <th>12</th>\n",
       "      <td>800.2930</td>\n",
       "      <td>3308.253831</td>\n",
       "    </tr>\n",
       "    <tr>\n",
       "      <th>13</th>\n",
       "      <td>35.6946</td>\n",
       "      <td>3338.574752</td>\n",
       "    </tr>\n",
       "    <tr>\n",
       "      <th>14</th>\n",
       "      <td>20.3000</td>\n",
       "      <td>3310.742645</td>\n",
       "    </tr>\n",
       "    <tr>\n",
       "      <th>15</th>\n",
       "      <td>202.9180</td>\n",
       "      <td>3282.966932</td>\n",
       "    </tr>\n",
       "    <tr>\n",
       "      <th>16</th>\n",
       "      <td>520.6700</td>\n",
       "      <td>3291.779008</td>\n",
       "    </tr>\n",
       "    <tr>\n",
       "      <th>17</th>\n",
       "      <td>639.6950</td>\n",
       "      <td>203.034417</td>\n",
       "    </tr>\n",
       "    <tr>\n",
       "      <th>18</th>\n",
       "      <td>12.0000</td>\n",
       "      <td>3281.728861</td>\n",
       "    </tr>\n",
       "    <tr>\n",
       "      <th>19</th>\n",
       "      <td>54.2294</td>\n",
       "      <td>3315.718532</td>\n",
       "    </tr>\n",
       "    <tr>\n",
       "      <th>20</th>\n",
       "      <td>14.3430</td>\n",
       "      <td>349.334449</td>\n",
       "    </tr>\n",
       "    <tr>\n",
       "      <th>21</th>\n",
       "      <td>10.2000</td>\n",
       "      <td>398.404862</td>\n",
       "    </tr>\n",
       "    <tr>\n",
       "      <th>22</th>\n",
       "      <td>899.6400</td>\n",
       "      <td>3336.272608</td>\n",
       "    </tr>\n",
       "    <tr>\n",
       "      <th>23</th>\n",
       "      <td>76.2805</td>\n",
       "      <td>3286.033691</td>\n",
       "    </tr>\n",
       "    <tr>\n",
       "      <th>24</th>\n",
       "      <td>93.4900</td>\n",
       "      <td>3280.280073</td>\n",
       "    </tr>\n",
       "  </tbody>\n",
       "</table>\n",
       "</div>"
      ],
      "text/plain": [
       "       Actual    Predicted\n",
       "0    109.0000  3348.859663\n",
       "1     17.4250  3346.646260\n",
       "2      4.1231   417.346824\n",
       "3   1089.8000  3342.871281\n",
       "4     82.9440   316.509866\n",
       "5     65.4333  3337.567073\n",
       "6      6.0000  3288.800991\n",
       "7      8.7921   315.398601\n",
       "8    185.0000  3334.467967\n",
       "9      0.3332  3351.902375\n",
       "10   156.0000  3329.810769\n",
       "11  1099.9400  3349.980130\n",
       "12   800.2930  3308.253831\n",
       "13    35.6946  3338.574752\n",
       "14    20.3000  3310.742645\n",
       "15   202.9180  3282.966932\n",
       "16   520.6700  3291.779008\n",
       "17   639.6950   203.034417\n",
       "18    12.0000  3281.728861\n",
       "19    54.2294  3315.718532\n",
       "20    14.3430   349.334449\n",
       "21    10.2000   398.404862\n",
       "22   899.6400  3336.272608\n",
       "23    76.2805  3286.033691\n",
       "24    93.4900  3280.280073"
      ]
     },
     "execution_count": 142,
     "metadata": {},
     "output_type": "execute_result"
    }
   ],
   "source": [
    "df = pd.DataFrame({'Actual': y_test, 'Predicted': y_pred})\n",
    "df1 = df.head(25)\n",
    "df1"
   ]
  },
  {
   "cell_type": "code",
   "execution_count": 143,
   "metadata": {},
   "outputs": [
    {
     "name": "stdout",
     "output_type": "stream",
     "text": [
      "Mean Absolute Error: 3783.9188629980654\n",
      "Mean Squared Error: 23906148884.744812\n",
      "Root Mean Squared Error: 154616.1339729616\n"
     ]
    }
   ],
   "source": [
    "print('Mean Absolute Error:', metrics.mean_absolute_error(y_test, y_pred))  \n",
    "print('Mean Squared Error:', metrics.mean_squared_error(y_test, y_pred))  \n",
    "print('Root Mean Squared Error:', np.sqrt(metrics.mean_squared_error(y_test, y_pred)))"
   ]
  },
  {
   "cell_type": "markdown",
   "metadata": {},
   "source": [
    "---\n",
    "# Testing Linear Regression Model 2"
   ]
  },
  {
   "cell_type": "code",
   "execution_count": 118,
   "metadata": {
    "scrolled": true
   },
   "outputs": [],
   "source": [
    "testJoinBldg = pd.merge(energyTest, bldgData, sort=True, on='building_id')\n",
    "fullTesting2 = pd.merge(testJoinBldg, allWeather, sort=True, how='left', on=['site_id', 'timestamp'])"
   ]
  },
  {
   "cell_type": "code",
   "execution_count": 119,
   "metadata": {},
   "outputs": [
    {
     "name": "stdout",
     "output_type": "stream",
     "text": [
      "(41697600, 4)\n",
      "(41697600, 9)\n",
      "% thrown out by merging with building data: 0.00%\n",
      "(41697600, 16)\n",
      "% thrown out by merging with weather data: 0.00%\n",
      "Index(['row_id', 'building_id', 'meter', 'timestamp', 'site_id', 'primary_use',\n",
      "       'square_feet', 'year_built', 'floor_count', 'air_temperature',\n",
      "       'cloud_coverage', 'dew_temperature', 'precip_depth_1_hr',\n",
      "       'sea_level_pressure', 'wind_direction', 'wind_speed'],\n",
      "      dtype='object')\n"
     ]
    }
   ],
   "source": [
    "# Explore new dataframes\n",
    "print(energyTest.shape)\n",
    "print(testJoinBldg.shape)\n",
    "thrownOut = energyTest.shape[0] - testJoinBldg.shape[0]\n",
    "thrownOutPercent = 100.* thrownOut * 1./ energyTest.shape[0]\n",
    "print(\"% thrown out by merging with building data: \" + '{0:.2f}'.format(thrownOutPercent) + \"%\")\n",
    "print(fullTesting2.shape)\n",
    "thrownOut = testJoinBldg.shape[0] - fullTesting2.shape[0]\n",
    "thrownOutPercent = 100.* thrownOut * 1./ trainJoinBldg.shape[0]\n",
    "print(\"% thrown out by merging with weather data: \" + '{0:.2f}'.format(thrownOutPercent) + \"%\")\n",
    "#print(trainJoinBldg.head(5))\n",
    "#print(fullTraining.head(5))\n",
    "print(fullTesting2.columns)"
   ]
  },
  {
   "cell_type": "code",
   "execution_count": 120,
   "metadata": {},
   "outputs": [],
   "source": [
    "tempMean = fullTesting2['air_temperature'].mean()\n",
    "fullTesting2['air_temperature'] - tempMean\n",
    "fullTesting2['air_temperature'] = fullTesting2['air_temperature'].abs()\n",
    "dewtempMean = fullTesting2['dew_temperature'].mean()\n",
    "fullTesting2['dew_temperature'] - dewtempMean\n",
    "fullTesting2['dew_temperature'] = fullTesting2['dew_temperature'].abs()\n",
    "fullTesting2['year_built'] = 2019 - fullTesting2['year_built']"
   ]
  },
  {
   "cell_type": "code",
   "execution_count": 121,
   "metadata": {},
   "outputs": [],
   "source": [
    "X_test = fullTesting2[['year_built', 'air_temperature', 'dew_temperature']].values\n",
    "#X_test = fullTesting[['air_temperature', 'dew_temperature']].values"
   ]
  },
  {
   "cell_type": "code",
   "execution_count": 124,
   "metadata": {},
   "outputs": [
    {
     "name": "stdout",
     "output_type": "stream",
     "text": [
      "(41697600, 16)\n",
      "(41697600, 3)\n"
     ]
    }
   ],
   "source": [
    "print(fullTesting2.shape)\n",
    "print(X_test.shape)"
   ]
  },
  {
   "cell_type": "code",
   "execution_count": 125,
   "metadata": {},
   "outputs": [],
   "source": [
    "inds = np.where(np.isnan(X_test))"
   ]
  },
  {
   "cell_type": "code",
   "execution_count": 126,
   "metadata": {},
   "outputs": [
    {
     "name": "stderr",
     "output_type": "stream",
     "text": [
      "/anaconda3/lib/python3.7/site-packages/ipykernel_launcher.py:1: RuntimeWarning: Mean of empty slice\n",
      "  \"\"\"Entry point for launching an IPython kernel.\n"
     ]
    }
   ],
   "source": [
    "col_mean = np.nanmean(X_test, axis=1)\n",
    "X_test[inds] = np.take(col_mean, inds[1])"
   ]
  },
  {
   "cell_type": "code",
   "execution_count": 127,
   "metadata": {},
   "outputs": [],
   "source": [
    "y_test_pred = regressor.predict(X_test)"
   ]
  },
  {
   "cell_type": "code",
   "execution_count": 128,
   "metadata": {},
   "outputs": [
    {
     "name": "stdout",
     "output_type": "stream",
     "text": [
      "[2870.51834273 2697.68288332 2135.96764022 2611.26515361 1444.62580256]\n"
     ]
    }
   ],
   "source": [
    "print(y_test_pred[:5])"
   ]
  },
  {
   "cell_type": "code",
   "execution_count": 129,
   "metadata": {},
   "outputs": [
    {
     "name": "stdout",
     "output_type": "stream",
     "text": [
      "[[11.  17.8 11.7]\n",
      " [15.  17.8 11.7]\n",
      " [28.  17.8 11.7]\n",
      " [17.  17.8 11.7]\n",
      " [44.  17.8 11.7]]\n"
     ]
    }
   ],
   "source": [
    "print(X_test[:5])"
   ]
  },
  {
   "cell_type": "code",
   "execution_count": 130,
   "metadata": {},
   "outputs": [],
   "source": [
    "row_ids = fullTesting2['row_id']\n",
    "pred = pd.DataFrame(y_test_pred)\n",
    "linear01 = pd.concat([row_ids, pred], axis=1)\n",
    "linear01.columns = ['row_id', 'meter_reading']"
   ]
  },
  {
   "cell_type": "code",
   "execution_count": 131,
   "metadata": {},
   "outputs": [
    {
     "name": "stdout",
     "output_type": "stream",
     "text": [
      "   row_id  meter_reading\n",
      "0       0    2870.518343\n",
      "1       1    2697.682883\n",
      "2       2    2135.967640\n",
      "3       3    2611.265154\n",
      "4       4    1444.625803\n",
      "Index(['row_id', 'meter_reading'], dtype='object')\n",
      "(41697600, 2)\n",
      "0    0\n",
      "1    1\n",
      "2    2\n",
      "3    3\n",
      "4    4\n",
      "Name: row_id, dtype: int64\n"
     ]
    }
   ],
   "source": [
    "print(linear01.head(5))\n",
    "print(linear01.columns)\n",
    "print(linear01.shape)\n",
    "print(row_ids.head(5))"
   ]
  },
  {
   "cell_type": "code",
   "execution_count": 132,
   "metadata": {},
   "outputs": [],
   "source": [
    "linear01.to_csv('linearRegression01.csv', index=False)"
   ]
  },
  {
   "cell_type": "code",
   "execution_count": 133,
   "metadata": {},
   "outputs": [
    {
     "name": "stdout",
     "output_type": "stream",
     "text": [
      "   row_id  meter_reading\n",
      "0       0    2870.518343\n",
      "1       1    2697.682883\n",
      "2       2    2135.967640\n",
      "3       3    2611.265154\n",
      "4       4    1444.625803\n"
     ]
    }
   ],
   "source": [
    "resultTest = pd.read_csv(\"linearRegression01.csv\")\n",
    "print(resultTest.head(5))"
   ]
  },
  {
   "cell_type": "code",
   "execution_count": 134,
   "metadata": {},
   "outputs": [
    {
     "name": "stdout",
     "output_type": "stream",
     "text": [
      "(41697600, 2)\n"
     ]
    }
   ],
   "source": [
    "print(resultTest.shape)"
   ]
  },
  {
   "cell_type": "markdown",
   "metadata": {},
   "source": [
    "# Feature Selection"
   ]
  },
  {
   "cell_type": "code",
   "execution_count": 62,
   "metadata": {},
   "outputs": [],
   "source": [
    "fullTraining2 = fullTraining\n",
    "airTempMean = fullTraining2['air_temperature'].mean()\n",
    "fullTraining2['air_temperature'] - airTempMean\n",
    "fullTraining2['air_temperature'] = fullTraining2['air_temperature'].abs()\n",
    "dewTempMean = fullTraining2['dew_temperature'].mean()\n",
    "fullTraining2['dew_temperature'] - dewTempMean\n",
    "fullTraining2['dew_temperature'] = fullTraining2['dew_temperature'].abs()"
   ]
  },
  {
   "cell_type": "code",
   "execution_count": 63,
   "metadata": {},
   "outputs": [],
   "source": [
    "#Splitting into features and labels\n",
    "X = fullTraining2[['square_feet', 'year_built', 'floor_count', 'air_temperature', 'cloud_coverage', 'dew_temperature', 'sea_level_pressure', 'wind_direction', 'wind_speed']].values\n",
    "#X = fullTraining[['air_temperature', 'dew_temperature']].values\n",
    "y = fullTraining2['meter_reading'].values\n",
    "\n",
    "#replace null values with column means\n",
    "indsX = np.where(np.isnan(X))\n",
    "col_mean = np.nanmean(X, axis=1)\n",
    "X[indsX] = np.take(col_mean, indsX[1])"
   ]
  },
  {
   "cell_type": "code",
   "execution_count": 64,
   "metadata": {},
   "outputs": [],
   "source": [
    "X_feat = pd.DataFrame(X)\n",
    "y_feat = pd.DataFrame(y)"
   ]
  },
  {
   "cell_type": "code",
   "execution_count": 65,
   "metadata": {},
   "outputs": [
    {
     "data": {
      "image/png": "[encoded data removed]",
      "text/plain": [
       "<Figure size 1440x1440 with 2 Axes>"
      ]
     },
     "metadata": {
      "needs_background": "light"
     },
     "output_type": "display_data"
    }
   ],
   "source": [
    "corrmat = fullTraining2.corr()\n",
    "top_corr_features = corrmat.index\n",
    "plt.figure(figsize=(20,20))\n",
    "#plot heat map\n",
    "g=seabornInstance.heatmap(fullTraining2[top_corr_features].corr(),annot=True,cmap=\"RdYlGn\")"
   ]
  },
  {
   "cell_type": "markdown",
   "metadata": {},
   "source": [
    "# Linear Regression Model 3"
   ]
  },
  {
   "cell_type": "code",
   "execution_count": 69,
   "metadata": {},
   "outputs": [],
   "source": [
    "fullTraining3 = fullTraining\n",
    "fullTraining3['year_built'] = -fullTraining3['year_built'] + 2019\n",
    "q = fullTraining3[\"meter_reading\"].quantile(0.99)\n",
    "fullTraining3 = fullTraining3[fullTraining3[\"meter_reading\"] < q]\n",
    "fullTraining3 = fullTraining3[fullTraining3[\"meter_reading\"] > -q]\n",
    "#fullTraining3['year_built'] = -fullTraining3['year_built'] + 2019"
   ]
  },
  {
   "cell_type": "code",
   "execution_count": 71,
   "metadata": {},
   "outputs": [
    {
     "name": "stdout",
     "output_type": "stream",
     "text": [
      "(20216100, 16)\n",
      "(20013897, 16)\n",
      "% thrown out by merging with building data: 1.00%\n"
     ]
    }
   ],
   "source": [
    "# Explore new dataframes\n",
    "print(fullTraining.shape)\n",
    "print(fullTraining3.shape)\n",
    "thrownOut = fullTraining.shape[0] - fullTraining3.shape[0]\n",
    "thrownOutPercent = 100.* thrownOut * 1./ fullTraining.shape[0]\n",
    "print(\"% thrown out by merging with building data: \" + '{0:.2f}'.format(thrownOutPercent) + \"%\")"
   ]
  },
  {
   "cell_type": "code",
   "execution_count": 72,
   "metadata": {},
   "outputs": [
    {
     "name": "stderr",
     "output_type": "stream",
     "text": [
      "/anaconda3/lib/python3.7/site-packages/ipykernel_launcher.py:7: RuntimeWarning: Mean of empty slice\n",
      "  import sys\n"
     ]
    }
   ],
   "source": [
    "#Splitting into features and labels\n",
    "X = fullTraining3[['year_built', 'floor_count']].values\n",
    "y = fullTraining3['meter_reading'].values\n",
    "\n",
    "#replace null values with column means\n",
    "indsX = np.where(np.isnan(X))\n",
    "col_mean = np.nanmean(X, axis=1)\n",
    "X[indsX] = np.take(col_mean, indsX[1])"
   ]
  },
  {
   "cell_type": "code",
   "execution_count": 73,
   "metadata": {},
   "outputs": [],
   "source": [
    "X_train, X_test, y_train, y_test = train_test_split(X, y, test_size=0.2, random_state=0)"
   ]
  },
  {
   "cell_type": "code",
   "execution_count": 74,
   "metadata": {},
   "outputs": [
    {
     "data": {
      "text/plain": [
       "LinearRegression(copy_X=True, fit_intercept=True, n_jobs=1, normalize=False)"
      ]
     },
     "execution_count": 74,
     "metadata": {},
     "output_type": "execute_result"
    }
   ],
   "source": [
    "regressor = LinearRegression()\n",
    "regressor.fit(X_train, y_train)"
   ]
  },
  {
   "cell_type": "markdown",
   "metadata": {},
   "source": [
    "## Coefficients"
   ]
  },
  {
   "cell_type": "code",
   "execution_count": 75,
   "metadata": {},
   "outputs": [
    {
     "data": {
      "text/html": [
       "<div>\n",
       "<style scoped>\n",
       "    .dataframe tbody tr th:only-of-type {\n",
       "        vertical-align: middle;\n",
       "    }\n",
       "\n",
       "    .dataframe tbody tr th {\n",
       "        vertical-align: top;\n",
       "    }\n",
       "\n",
       "    .dataframe thead th {\n",
       "        text-align: right;\n",
       "    }\n",
       "</style>\n",
       "<table border=\"1\" class=\"dataframe\">\n",
       "  <thead>\n",
       "    <tr style=\"text-align: right;\">\n",
       "      <th></th>\n",
       "      <th>Coefficient</th>\n",
       "    </tr>\n",
       "  </thead>\n",
       "  <tbody>\n",
       "    <tr>\n",
       "      <th>year_built</th>\n",
       "      <td>-1.224691</td>\n",
       "    </tr>\n",
       "    <tr>\n",
       "      <th>floor_count</th>\n",
       "      <td>22.451837</td>\n",
       "    </tr>\n",
       "  </tbody>\n",
       "</table>\n",
       "</div>"
      ],
      "text/plain": [
       "             Coefficient\n",
       "year_built     -1.224691\n",
       "floor_count    22.451837"
      ]
     },
     "execution_count": 75,
     "metadata": {},
     "output_type": "execute_result"
    }
   ],
   "source": [
    "coeff_df = pd.DataFrame(regressor.coef_, [['year_built', 'floor_count']], columns=['Coefficient'])  \n",
    "coeff_df"
   ]
  },
  {
   "cell_type": "code",
   "execution_count": 76,
   "metadata": {},
   "outputs": [],
   "source": [
    "y_pred = regressor.predict(X_test)"
   ]
  },
  {
   "cell_type": "code",
   "execution_count": 77,
   "metadata": {},
   "outputs": [
    {
     "data": {
      "text/html": [
       "<div>\n",
       "<style scoped>\n",
       "    .dataframe tbody tr th:only-of-type {\n",
       "        vertical-align: middle;\n",
       "    }\n",
       "\n",
       "    .dataframe tbody tr th {\n",
       "        vertical-align: top;\n",
       "    }\n",
       "\n",
       "    .dataframe thead th {\n",
       "        text-align: right;\n",
       "    }\n",
       "</style>\n",
       "<table border=\"1\" class=\"dataframe\">\n",
       "  <thead>\n",
       "    <tr style=\"text-align: right;\">\n",
       "      <th></th>\n",
       "      <th>Actual</th>\n",
       "      <th>Predicted</th>\n",
       "    </tr>\n",
       "  </thead>\n",
       "  <tbody>\n",
       "    <tr>\n",
       "      <th>0</th>\n",
       "      <td>23.9550</td>\n",
       "      <td>335.612958</td>\n",
       "    </tr>\n",
       "    <tr>\n",
       "      <th>1</th>\n",
       "      <td>46.2200</td>\n",
       "      <td>335.612958</td>\n",
       "    </tr>\n",
       "    <tr>\n",
       "      <th>2</th>\n",
       "      <td>57.4375</td>\n",
       "      <td>335.612958</td>\n",
       "    </tr>\n",
       "    <tr>\n",
       "      <th>3</th>\n",
       "      <td>176.6860</td>\n",
       "      <td>335.612958</td>\n",
       "    </tr>\n",
       "    <tr>\n",
       "      <th>4</th>\n",
       "      <td>28.7000</td>\n",
       "      <td>335.612958</td>\n",
       "    </tr>\n",
       "    <tr>\n",
       "      <th>5</th>\n",
       "      <td>0.0000</td>\n",
       "      <td>301.321623</td>\n",
       "    </tr>\n",
       "    <tr>\n",
       "      <th>6</th>\n",
       "      <td>29.3071</td>\n",
       "      <td>285.400646</td>\n",
       "    </tr>\n",
       "    <tr>\n",
       "      <th>7</th>\n",
       "      <td>0.0000</td>\n",
       "      <td>335.612958</td>\n",
       "    </tr>\n",
       "    <tr>\n",
       "      <th>8</th>\n",
       "      <td>1337.2200</td>\n",
       "      <td>296.422861</td>\n",
       "    </tr>\n",
       "    <tr>\n",
       "      <th>9</th>\n",
       "      <td>102.3760</td>\n",
       "      <td>327.040124</td>\n",
       "    </tr>\n",
       "    <tr>\n",
       "      <th>10</th>\n",
       "      <td>156.7800</td>\n",
       "      <td>335.612958</td>\n",
       "    </tr>\n",
       "    <tr>\n",
       "      <th>11</th>\n",
       "      <td>18.7500</td>\n",
       "      <td>121.706931</td>\n",
       "    </tr>\n",
       "    <tr>\n",
       "      <th>12</th>\n",
       "      <td>375.0700</td>\n",
       "      <td>333.163577</td>\n",
       "    </tr>\n",
       "    <tr>\n",
       "      <th>13</th>\n",
       "      <td>549.2400</td>\n",
       "      <td>253.558693</td>\n",
       "    </tr>\n",
       "    <tr>\n",
       "      <th>14</th>\n",
       "      <td>26.0000</td>\n",
       "      <td>335.612958</td>\n",
       "    </tr>\n",
       "    <tr>\n",
       "      <th>15</th>\n",
       "      <td>0.0000</td>\n",
       "      <td>335.612958</td>\n",
       "    </tr>\n",
       "    <tr>\n",
       "      <th>16</th>\n",
       "      <td>214.2500</td>\n",
       "      <td>173.548871</td>\n",
       "    </tr>\n",
       "    <tr>\n",
       "      <th>17</th>\n",
       "      <td>86.8200</td>\n",
       "      <td>240.087097</td>\n",
       "    </tr>\n",
       "    <tr>\n",
       "      <th>18</th>\n",
       "      <td>46.1333</td>\n",
       "      <td>335.612958</td>\n",
       "    </tr>\n",
       "    <tr>\n",
       "      <th>19</th>\n",
       "      <td>73.3263</td>\n",
       "      <td>246.210549</td>\n",
       "    </tr>\n",
       "    <tr>\n",
       "      <th>20</th>\n",
       "      <td>488.0000</td>\n",
       "      <td>335.612958</td>\n",
       "    </tr>\n",
       "    <tr>\n",
       "      <th>21</th>\n",
       "      <td>16.0000</td>\n",
       "      <td>335.612958</td>\n",
       "    </tr>\n",
       "    <tr>\n",
       "      <th>22</th>\n",
       "      <td>22.0000</td>\n",
       "      <td>219.267358</td>\n",
       "    </tr>\n",
       "    <tr>\n",
       "      <th>23</th>\n",
       "      <td>70.0000</td>\n",
       "      <td>335.612958</td>\n",
       "    </tr>\n",
       "    <tr>\n",
       "      <th>24</th>\n",
       "      <td>0.0000</td>\n",
       "      <td>308.669766</td>\n",
       "    </tr>\n",
       "  </tbody>\n",
       "</table>\n",
       "</div>"
      ],
      "text/plain": [
       "       Actual   Predicted\n",
       "0     23.9550  335.612958\n",
       "1     46.2200  335.612958\n",
       "2     57.4375  335.612958\n",
       "3    176.6860  335.612958\n",
       "4     28.7000  335.612958\n",
       "5      0.0000  301.321623\n",
       "6     29.3071  285.400646\n",
       "7      0.0000  335.612958\n",
       "8   1337.2200  296.422861\n",
       "9    102.3760  327.040124\n",
       "10   156.7800  335.612958\n",
       "11    18.7500  121.706931\n",
       "12   375.0700  333.163577\n",
       "13   549.2400  253.558693\n",
       "14    26.0000  335.612958\n",
       "15     0.0000  335.612958\n",
       "16   214.2500  173.548871\n",
       "17    86.8200  240.087097\n",
       "18    46.1333  335.612958\n",
       "19    73.3263  246.210549\n",
       "20   488.0000  335.612958\n",
       "21    16.0000  335.612958\n",
       "22    22.0000  219.267358\n",
       "23    70.0000  335.612958\n",
       "24     0.0000  308.669766"
      ]
     },
     "execution_count": 77,
     "metadata": {},
     "output_type": "execute_result"
    }
   ],
   "source": [
    "df = pd.DataFrame({'Actual': y_test, 'Predicted': y_pred})\n",
    "df1 = df.head(25)\n",
    "df1"
   ]
  },
  {
   "cell_type": "code",
   "execution_count": 78,
   "metadata": {},
   "outputs": [
    {
     "name": "stdout",
     "output_type": "stream",
     "text": [
      "Mean Absolute Error: 329.17664908105417\n",
      "Mean Squared Error: 371609.6597010172\n",
      "Root Mean Squared Error: 609.5979492263874\n"
     ]
    }
   ],
   "source": [
    "print('Mean Absolute Error:', metrics.mean_absolute_error(y_test, y_pred))  \n",
    "print('Mean Squared Error:', metrics.mean_squared_error(y_test, y_pred))  \n",
    "print('Root Mean Squared Error:', np.sqrt(metrics.mean_squared_error(y_test, y_pred)))"
   ]
  },
  {
   "cell_type": "markdown",
   "metadata": {},
   "source": [
    "---\n",
    "# Testing Linear Regression Model 3"
   ]
  },
  {
   "cell_type": "code",
   "execution_count": 79,
   "metadata": {
    "scrolled": true
   },
   "outputs": [],
   "source": [
    "testJoinBldg = pd.merge(energyTest, bldgData, sort=True, on='building_id')\n",
    "fullTesting3 = pd.merge(testJoinBldg, allWeather, sort=True, how='left', on=['site_id', 'timestamp'])"
   ]
  },
  {
   "cell_type": "code",
   "execution_count": 80,
   "metadata": {},
   "outputs": [],
   "source": [
    "fullTesting3['year_built'] = -fullTesting3['year_built'] + 2019"
   ]
  },
  {
   "cell_type": "code",
   "execution_count": 81,
   "metadata": {},
   "outputs": [],
   "source": [
    "X_test = fullTesting3[['year_built', 'floor_count']].values"
   ]
  },
  {
   "cell_type": "code",
   "execution_count": 82,
   "metadata": {},
   "outputs": [
    {
     "name": "stderr",
     "output_type": "stream",
     "text": [
      "/anaconda3/lib/python3.7/site-packages/ipykernel_launcher.py:2: RuntimeWarning: Mean of empty slice\n",
      "  \n"
     ]
    }
   ],
   "source": [
    "inds = np.where(np.isnan(X_test))\n",
    "col_mean = np.nanmean(X_test, axis=1)\n",
    "X_test[inds] = np.take(col_mean, inds[1])"
   ]
  },
  {
   "cell_type": "code",
   "execution_count": 83,
   "metadata": {},
   "outputs": [],
   "source": [
    "y_test_pred = regressor.predict(X_test)"
   ]
  },
  {
   "cell_type": "code",
   "execution_count": 84,
   "metadata": {
    "scrolled": true
   },
   "outputs": [
    {
     "name": "stdout",
     "output_type": "stream",
     "text": [
      "[425.42030405 420.52154194 404.60056506 418.07216088 385.0055166 ]\n"
     ]
    }
   ],
   "source": [
    "print(y_test_pred[:5])"
   ]
  },
  {
   "cell_type": "code",
   "execution_count": 85,
   "metadata": {
    "scrolled": true
   },
   "outputs": [
    {
     "name": "stdout",
     "output_type": "stream",
     "text": [
      "[[11. 15.]\n",
      " [15. 15.]\n",
      " [28. 15.]\n",
      " [17. 15.]\n",
      " [44. 15.]]\n"
     ]
    }
   ],
   "source": [
    "print(X_test[:5])"
   ]
  },
  {
   "cell_type": "code",
   "execution_count": 86,
   "metadata": {},
   "outputs": [],
   "source": [
    "row_ids = fullTesting3['row_id']\n",
    "pred = pd.DataFrame(y_test_pred)\n",
    "linear01 = pd.concat([row_ids, pred], axis=1)\n",
    "linear01.columns = ['row_id', 'meter_reading']"
   ]
  },
  {
   "cell_type": "code",
   "execution_count": 87,
   "metadata": {},
   "outputs": [
    {
     "name": "stdout",
     "output_type": "stream",
     "text": [
      "   row_id  meter_reading\n",
      "0       0     425.420304\n",
      "1       1     420.521542\n",
      "2       2     404.600565\n",
      "3       3     418.072161\n",
      "4       4     385.005517\n",
      "Index(['row_id', 'meter_reading'], dtype='object')\n",
      "(41697600, 2)\n",
      "0    0\n",
      "1    1\n",
      "2    2\n",
      "3    3\n",
      "4    4\n",
      "Name: row_id, dtype: int64\n"
     ]
    }
   ],
   "source": [
    "print(linear01.head(5))\n",
    "print(linear01.columns)\n",
    "print(linear01.shape)\n",
    "print(row_ids.head(5))"
   ]
  },
  {
   "cell_type": "code",
   "execution_count": 91,
   "metadata": {},
   "outputs": [],
   "source": [
    "linear01.to_csv('linearRegression03.csv', index=False)"
   ]
  },
  {
   "cell_type": "code",
   "execution_count": 92,
   "metadata": {},
   "outputs": [
    {
     "name": "stdout",
     "output_type": "stream",
     "text": [
      "   row_id  meter_reading\n",
      "0       0     425.420304\n",
      "1       1     420.521542\n",
      "2       2     404.600565\n",
      "3       3     418.072161\n",
      "4       4     385.005517\n"
     ]
    }
   ],
   "source": [
    "resultTest = pd.read_csv(\"linearRegression03.csv\")\n",
    "print(resultTest.head(5))"
   ]
  },
  {
   "cell_type": "code",
   "execution_count": 93,
   "metadata": {},
   "outputs": [
    {
     "name": "stdout",
     "output_type": "stream",
     "text": [
      "(41697600, 2)\n"
     ]
    }
   ],
   "source": [
    "print(resultTest.shape)"
   ]
  },
  {
   "cell_type": "markdown",
   "metadata": {},
   "source": [
    "# Linear Regression Separate Models"
   ]
  },
  {
   "cell_type": "code",
   "execution_count": 5,
   "metadata": {},
   "outputs": [],
   "source": [
    "trainJoinBldg = pd.merge(energyTrain, bldgData, on='building_id')\n",
    "fullTraining = pd.merge(trainJoinBldg, allWeather, how='left', on=['site_id', 'timestamp'])"
   ]
  },
  {
   "cell_type": "code",
   "execution_count": 6,
   "metadata": {},
   "outputs": [],
   "source": [
    "fullTraining4 = fullTraining\n",
    "fullTraining4[\"timestamp\"] = pd.to_datetime(fullTraining4[\"timestamp\"])"
   ]
  },
  {
   "cell_type": "code",
   "execution_count": 32,
   "metadata": {},
   "outputs": [
    {
     "data": {
      "text/plain": [
       "[0, 1, 2, 3, 4, 5, 6, 7, 8, 9, 10, 11, 12, 13, 14, 15]"
      ]
     },
     "execution_count": 32,
     "metadata": {},
     "output_type": "execute_result"
    }
   ],
   "source": [
    "fullTraining4['site_id'].unique().tolist()"
   ]
  },
  {
   "cell_type": "code",
   "execution_count": 7,
   "metadata": {},
   "outputs": [],
   "source": [
    "#this takes a while (around 3 minutes)\n",
    "fullTraining4['workday'] = [1 if x.weekday() > 4 else 0 for x in fullTraining4['timestamp']]"
   ]
  },
  {
   "cell_type": "code",
   "execution_count": 8,
   "metadata": {},
   "outputs": [],
   "source": [
    "sr = fullTraining4['timestamp']\n",
    "fullTraining4['hour'] = sr.dt.hour"
   ]
  },
  {
   "cell_type": "code",
   "execution_count": 9,
   "metadata": {},
   "outputs": [
    {
     "name": "stdout",
     "output_type": "stream",
     "text": [
      "   building_id  meter           timestamp  meter_reading  site_id primary_use  \\\n",
      "0            0      0 2016-01-01 00:00:00            0.0        0   Education   \n",
      "1            0      0 2016-01-01 01:00:00            0.0        0   Education   \n",
      "2            0      0 2016-01-01 02:00:00            0.0        0   Education   \n",
      "3            0      0 2016-01-01 03:00:00            0.0        0   Education   \n",
      "4            0      0 2016-01-01 04:00:00            0.0        0   Education   \n",
      "\n",
      "   square_feet  year_built  floor_count  air_temperature  cloud_coverage  \\\n",
      "0         7432      2008.0          NaN             25.0             6.0   \n",
      "1         7432      2008.0          NaN             24.4             NaN   \n",
      "2         7432      2008.0          NaN             22.8             2.0   \n",
      "3         7432      2008.0          NaN             21.1             2.0   \n",
      "4         7432      2008.0          NaN             20.0             2.0   \n",
      "\n",
      "   dew_temperature  precip_depth_1_hr  sea_level_pressure  wind_direction  \\\n",
      "0             20.0                NaN              1019.7             0.0   \n",
      "1             21.1               -1.0              1020.2            70.0   \n",
      "2             21.1                0.0              1020.2             0.0   \n",
      "3             20.6                0.0              1020.1             0.0   \n",
      "4             20.0               -1.0              1020.0           250.0   \n",
      "\n",
      "   wind_speed  workday  hour  \n",
      "0         0.0        0     0  \n",
      "1         1.5        0     1  \n",
      "2         0.0        0     2  \n",
      "3         0.0        0     3  \n",
      "4         2.6        0     4  \n"
     ]
    }
   ],
   "source": [
    "print(fullTraining4.head(5))"
   ]
  },
  {
   "cell_type": "code",
   "execution_count": 14,
   "metadata": {},
   "outputs": [],
   "source": [
    "fullTraining4Dummies = pd.get_dummies(fullTraining4, columns=['meter', 'primary_use', 'site_id'], drop_first=True)"
   ]
  },
  {
   "cell_type": "code",
   "execution_count": 15,
   "metadata": {},
   "outputs": [
    {
     "name": "stdout",
     "output_type": "stream",
     "text": [
      "Index(['building_id', 'timestamp', 'meter_reading', 'square_feet',\n",
      "       'year_built', 'floor_count', 'air_temperature', 'cloud_coverage',\n",
      "       'dew_temperature', 'precip_depth_1_hr', 'sea_level_pressure',\n",
      "       'wind_direction', 'wind_speed', 'workday', 'hour', 'meter_1', 'meter_2',\n",
      "       'meter_3', 'primary_use_Entertainment/public assembly',\n",
      "       'primary_use_Food sales and service', 'primary_use_Healthcare',\n",
      "       'primary_use_Lodging/residential',\n",
      "       'primary_use_Manufacturing/industrial', 'primary_use_Office',\n",
      "       'primary_use_Other', 'primary_use_Parking',\n",
      "       'primary_use_Public services', 'primary_use_Religious worship',\n",
      "       'primary_use_Retail', 'primary_use_Services',\n",
      "       'primary_use_Technology/science', 'primary_use_Utility',\n",
      "       'primary_use_Warehouse/storage', 'site_id_1', 'site_id_2', 'site_id_3',\n",
      "       'site_id_4', 'site_id_5', 'site_id_6', 'site_id_7', 'site_id_8',\n",
      "       'site_id_9', 'site_id_10', 'site_id_11', 'site_id_12', 'site_id_13',\n",
      "       'site_id_14', 'site_id_15'],\n",
      "      dtype='object')\n"
     ]
    }
   ],
   "source": [
    "print(fullTraining4Dummies.columns)"
   ]
  },
  {
   "cell_type": "code",
   "execution_count": 17,
   "metadata": {},
   "outputs": [],
   "source": [
    "airTempMean = fullTraining4Dummies['air_temperature'].mean()\n",
    "fullTraining4Dummies['air_temperature'] - airTempMean\n",
    "fullTraining4Dummies['air_temperature'] = fullTraining4Dummies['air_temperature'].abs()\n",
    "fullTraining4Dummies['year_built'] = 2019 - fullTraining4Dummies['year_built']"
   ]
  },
  {
   "cell_type": "code",
   "execution_count": 62,
   "metadata": {},
   "outputs": [],
   "source": [
    "#Splitting into features and labels\n",
    "X = fullTraining4Dummies[['year_built', 'air_temperature', 'hour']].values\n",
    "y = fullTraining4Dummies['meter_reading'].values\n",
    "\n",
    "#replace null values with column means\n",
    "indsX = np.where(np.isnan(X))\n",
    "col_mean = np.nanmean(X, axis=1)\n",
    "X[indsX] = np.take(col_mean, indsX[1])"
   ]
  },
  {
   "cell_type": "code",
   "execution_count": 63,
   "metadata": {
    "scrolled": true
   },
   "outputs": [
    {
     "name": "stdout",
     "output_type": "stream",
     "text": [
      "(20216100, 3)\n",
      "(20216100,)\n"
     ]
    }
   ],
   "source": [
    "print(X.shape)\n",
    "print(y.shape)"
   ]
  },
  {
   "cell_type": "code",
   "execution_count": 64,
   "metadata": {},
   "outputs": [],
   "source": [
    "X_train, X_test, y_train, y_test = train_test_split(X, y, test_size=0.2, random_state=0)"
   ]
  },
  {
   "cell_type": "code",
   "execution_count": 65,
   "metadata": {},
   "outputs": [
    {
     "data": {
      "text/plain": [
       "LinearRegression(copy_X=True, fit_intercept=True, n_jobs=1, normalize=False)"
      ]
     },
     "execution_count": 65,
     "metadata": {},
     "output_type": "execute_result"
    }
   ],
   "source": [
    "regressor = LinearRegression()\n",
    "regressor.fit(X_train, y_train)"
   ]
  },
  {
   "cell_type": "markdown",
   "metadata": {},
   "source": [
    "## Coefficients"
   ]
  },
  {
   "cell_type": "code",
   "execution_count": 66,
   "metadata": {},
   "outputs": [
    {
     "data": {
      "text/html": [
       "<div>\n",
       "<style scoped>\n",
       "    .dataframe tbody tr th:only-of-type {\n",
       "        vertical-align: middle;\n",
       "    }\n",
       "\n",
       "    .dataframe tbody tr th {\n",
       "        vertical-align: top;\n",
       "    }\n",
       "\n",
       "    .dataframe thead th {\n",
       "        text-align: right;\n",
       "    }\n",
       "</style>\n",
       "<table border=\"1\" class=\"dataframe\">\n",
       "  <thead>\n",
       "    <tr style=\"text-align: right;\">\n",
       "      <th></th>\n",
       "      <th>Coefficient</th>\n",
       "    </tr>\n",
       "  </thead>\n",
       "  <tbody>\n",
       "    <tr>\n",
       "      <th>year_built</th>\n",
       "      <td>-41.512773</td>\n",
       "    </tr>\n",
       "    <tr>\n",
       "      <th>air_temperature</th>\n",
       "      <td>-81.087282</td>\n",
       "    </tr>\n",
       "    <tr>\n",
       "      <th>hour</th>\n",
       "      <td>27.859458</td>\n",
       "    </tr>\n",
       "  </tbody>\n",
       "</table>\n",
       "</div>"
      ],
      "text/plain": [
       "                 Coefficient\n",
       "year_built        -41.512773\n",
       "air_temperature   -81.087282\n",
       "hour               27.859458"
      ]
     },
     "execution_count": 66,
     "metadata": {},
     "output_type": "execute_result"
    }
   ],
   "source": [
    "coeff_df = pd.DataFrame(regressor.coef_, [['year_built', 'air_temperature', 'hour']], columns=['Coefficient'])  \n",
    "#coeff_df = pd.DataFrame(regressor.coef_, [['air_temperature', 'dew_temperature']], columns=['Coefficient'])  \n",
    "coeff_df"
   ]
  },
  {
   "cell_type": "code",
   "execution_count": 67,
   "metadata": {},
   "outputs": [],
   "source": [
    "y_pred = regressor.predict(X_test)"
   ]
  },
  {
   "cell_type": "code",
   "execution_count": 68,
   "metadata": {},
   "outputs": [
    {
     "data": {
      "text/html": [
       "<div>\n",
       "<style scoped>\n",
       "    .dataframe tbody tr th:only-of-type {\n",
       "        vertical-align: middle;\n",
       "    }\n",
       "\n",
       "    .dataframe tbody tr th {\n",
       "        vertical-align: top;\n",
       "    }\n",
       "\n",
       "    .dataframe thead th {\n",
       "        text-align: right;\n",
       "    }\n",
       "</style>\n",
       "<table border=\"1\" class=\"dataframe\">\n",
       "  <thead>\n",
       "    <tr style=\"text-align: right;\">\n",
       "      <th></th>\n",
       "      <th>Actual</th>\n",
       "      <th>Predicted</th>\n",
       "    </tr>\n",
       "  </thead>\n",
       "  <tbody>\n",
       "    <tr>\n",
       "      <th>0</th>\n",
       "      <td>109.0000</td>\n",
       "      <td>3638.436740</td>\n",
       "    </tr>\n",
       "    <tr>\n",
       "      <th>1</th>\n",
       "      <td>17.4250</td>\n",
       "      <td>3386.252701</td>\n",
       "    </tr>\n",
       "    <tr>\n",
       "      <th>2</th>\n",
       "      <td>4.1231</td>\n",
       "      <td>362.731120</td>\n",
       "    </tr>\n",
       "    <tr>\n",
       "      <th>3</th>\n",
       "      <td>1089.8000</td>\n",
       "      <td>3826.386401</td>\n",
       "    </tr>\n",
       "    <tr>\n",
       "      <th>4</th>\n",
       "      <td>82.9440</td>\n",
       "      <td>521.471689</td>\n",
       "    </tr>\n",
       "    <tr>\n",
       "      <th>5</th>\n",
       "      <td>65.4333</td>\n",
       "      <td>3386.252701</td>\n",
       "    </tr>\n",
       "    <tr>\n",
       "      <th>6</th>\n",
       "      <td>6.0000</td>\n",
       "      <td>2327.313857</td>\n",
       "    </tr>\n",
       "    <tr>\n",
       "      <th>7</th>\n",
       "      <td>8.7921</td>\n",
       "      <td>1174.399304</td>\n",
       "    </tr>\n",
       "    <tr>\n",
       "      <th>8</th>\n",
       "      <td>185.0000</td>\n",
       "      <td>2720.294804</td>\n",
       "    </tr>\n",
       "    <tr>\n",
       "      <th>9</th>\n",
       "      <td>0.3332</td>\n",
       "      <td>4389.421924</td>\n",
       "    </tr>\n",
       "    <tr>\n",
       "      <th>10</th>\n",
       "      <td>156.0000</td>\n",
       "      <td>3737.190391</td>\n",
       "    </tr>\n",
       "    <tr>\n",
       "      <th>11</th>\n",
       "      <td>1099.9400</td>\n",
       "      <td>3875.267489</td>\n",
       "    </tr>\n",
       "    <tr>\n",
       "      <th>12</th>\n",
       "      <td>800.2930</td>\n",
       "      <td>1907.973067</td>\n",
       "    </tr>\n",
       "    <tr>\n",
       "      <th>13</th>\n",
       "      <td>35.6946</td>\n",
       "      <td>3570.262357</td>\n",
       "    </tr>\n",
       "    <tr>\n",
       "      <th>14</th>\n",
       "      <td>20.3000</td>\n",
       "      <td>2838.799186</td>\n",
       "    </tr>\n",
       "    <tr>\n",
       "      <th>15</th>\n",
       "      <td>202.9180</td>\n",
       "      <td>1966.589809</td>\n",
       "    </tr>\n",
       "    <tr>\n",
       "      <th>16</th>\n",
       "      <td>520.6700</td>\n",
       "      <td>1960.972174</td>\n",
       "    </tr>\n",
       "    <tr>\n",
       "      <th>17</th>\n",
       "      <td>639.6950</td>\n",
       "      <td>2258.284880</td>\n",
       "    </tr>\n",
       "    <tr>\n",
       "      <th>18</th>\n",
       "      <td>12.0000</td>\n",
       "      <td>1743.714141</td>\n",
       "    </tr>\n",
       "    <tr>\n",
       "      <th>19</th>\n",
       "      <td>54.2294</td>\n",
       "      <td>3397.259254</td>\n",
       "    </tr>\n",
       "    <tr>\n",
       "      <th>20</th>\n",
       "      <td>14.3430</td>\n",
       "      <td>2112.657213</td>\n",
       "    </tr>\n",
       "    <tr>\n",
       "      <th>21</th>\n",
       "      <td>10.2000</td>\n",
       "      <td>201.878514</td>\n",
       "    </tr>\n",
       "    <tr>\n",
       "      <th>22</th>\n",
       "      <td>899.6400</td>\n",
       "      <td>3694.155657</td>\n",
       "    </tr>\n",
       "    <tr>\n",
       "      <th>23</th>\n",
       "      <td>76.2805</td>\n",
       "      <td>2394.268044</td>\n",
       "    </tr>\n",
       "    <tr>\n",
       "      <th>24</th>\n",
       "      <td>93.4900</td>\n",
       "      <td>2293.836763</td>\n",
       "    </tr>\n",
       "  </tbody>\n",
       "</table>\n",
       "</div>"
      ],
      "text/plain": [
       "       Actual    Predicted\n",
       "0    109.0000  3638.436740\n",
       "1     17.4250  3386.252701\n",
       "2      4.1231   362.731120\n",
       "3   1089.8000  3826.386401\n",
       "4     82.9440   521.471689\n",
       "5     65.4333  3386.252701\n",
       "6      6.0000  2327.313857\n",
       "7      8.7921  1174.399304\n",
       "8    185.0000  2720.294804\n",
       "9      0.3332  4389.421924\n",
       "10   156.0000  3737.190391\n",
       "11  1099.9400  3875.267489\n",
       "12   800.2930  1907.973067\n",
       "13    35.6946  3570.262357\n",
       "14    20.3000  2838.799186\n",
       "15   202.9180  1966.589809\n",
       "16   520.6700  1960.972174\n",
       "17   639.6950  2258.284880\n",
       "18    12.0000  1743.714141\n",
       "19    54.2294  3397.259254\n",
       "20    14.3430  2112.657213\n",
       "21    10.2000   201.878514\n",
       "22   899.6400  3694.155657\n",
       "23    76.2805  2394.268044\n",
       "24    93.4900  2293.836763"
      ]
     },
     "execution_count": 68,
     "metadata": {},
     "output_type": "execute_result"
    }
   ],
   "source": [
    "df = pd.DataFrame({'Actual': y_test, 'Predicted': y_pred})\n",
    "df1 = df.head(25)\n",
    "df1"
   ]
  },
  {
   "cell_type": "code",
   "execution_count": 69,
   "metadata": {
    "scrolled": true
   },
   "outputs": [
    {
     "name": "stdout",
     "output_type": "stream",
     "text": [
      "Mean Absolute Error: 3870.378413082835\n",
      "Mean Squared Error: 23906519297.11692\n",
      "Root Mean Squared Error: 154617.33181347078\n"
     ]
    }
   ],
   "source": [
    "print('Mean Absolute Error:', metrics.mean_absolute_error(y_test, y_pred))  \n",
    "print('Mean Squared Error:', metrics.mean_squared_error(y_test, y_pred))  \n",
    "print('Root Mean Squared Error:', np.sqrt(metrics.mean_squared_error(y_test, y_pred)))"
   ]
  },
  {
   "cell_type": "markdown",
   "metadata": {},
   "source": [
    "## New Approach"
   ]
  },
  {
   "cell_type": "code",
   "execution_count": 19,
   "metadata": {},
   "outputs": [
    {
     "data": {
      "image/png": "[encoded data removed]",
      "text/plain": [
       "<Figure size 1440x1440 with 2 Axes>"
      ]
     },
     "metadata": {
      "needs_background": "light"
     },
     "output_type": "display_data"
    }
   ],
   "source": [
    "corrmat = fullTraining4.corr()\n",
    "top_corr_features = corrmat.index\n",
    "plt.figure(figsize=(20,20))\n",
    "#plot heat map\n",
    "g=seabornInstance.heatmap(fullTraining4[top_corr_features].corr(),annot=True,cmap=\"RdYlGn\")"
   ]
  },
  {
   "cell_type": "code",
   "execution_count": 35,
   "metadata": {},
   "outputs": [],
   "source": [
    "uses = fullTraining4['primary_use'].unique().tolist()\n",
    "usage_models = {}\n",
    "\n",
    "for use in uses:\n",
    "    usage_models[use + \"_model\"] = fullTraining4.loc[fullTraining4.primary_use == use]"
   ]
  },
  {
   "cell_type": "code",
   "execution_count": 36,
   "metadata": {},
   "outputs": [
    {
     "data": {
      "text/plain": [
       "[0, 1, 3, 2]"
      ]
     },
     "execution_count": 36,
     "metadata": {},
     "output_type": "execute_result"
    }
   ],
   "source": [
    "m = usage_models['Education_model']\n",
    "m[m['meter_reading'] == 0]['meter'].unique().tolist()"
   ]
  },
  {
   "cell_type": "code",
   "execution_count": 38,
   "metadata": {},
   "outputs": [],
   "source": [
    "sites = fullTraining4['site_id'].unique().tolist()\n",
    "site_usage_models = {}\n",
    "for model in usage_models:\n",
    "    currModel = usage_models[model]\n",
    "    for site in sites:\n",
    "        site_usage_models[\"site\" + str(site) + \"_\" + model] = currModel.loc[currModel.site_id == site]"
   ]
  },
  {
   "cell_type": "code",
   "execution_count": 39,
   "metadata": {},
   "outputs": [],
   "source": [
    "meters = fullTraining4['meter'].unique().tolist()\n",
    "usage_meters_models = {}\n",
    "for model in site_usage_models:\n",
    "    currModel = site_usage_models[model]\n",
    "    for meter in meters:\n",
    "        usage_meters_models[\"meter\" + str(meter) + \"_\" + model] = currModel.loc[currModel.meter == meter]"
   ]
  },
  {
   "cell_type": "code",
   "execution_count": 44,
   "metadata": {},
   "outputs": [],
   "source": [
    "usage_meters_site_workday_models = {}\n",
    "for model in usage_meters_models:\n",
    "    usage_meters_site_workday_models[\"workday_\" + model] = usage_meters_models[model].loc[usage_meters_models[model].workday == 0]\n",
    "    usage_meters_site_workday_models[\"nonworkday_\" + model] = usage_meters_models[model].loc[usage_meters_models[model].workday == 1]"
   ]
  },
  {
   "cell_type": "code",
   "execution_count": 55,
   "metadata": {},
   "outputs": [
    {
     "name": "stdout",
     "output_type": "stream",
     "text": [
      "dict_keys(['workday_meter0_site0_Education_model', 'nonworkday_meter0_site0_Education_model', 'workday_meter1_site0_Education_model', 'nonworkday_meter1_site0_Education_model', 'workday_meter3_site0_Education_model', 'nonworkday_meter3_site0_Education_model', 'workday_meter2_site0_Education_model', 'nonworkday_meter2_site0_Education_model', 'workday_meter0_site1_Education_model', 'nonworkday_meter0_site1_Education_model', 'workday_meter1_site1_Education_model', 'nonworkday_meter1_site1_Education_model', 'workday_meter3_site1_Education_model', 'nonworkday_meter3_site1_Education_model', 'workday_meter2_site1_Education_model', 'nonworkday_meter2_site1_Education_model', 'workday_meter0_site2_Education_model', 'nonworkday_meter0_site2_Education_model', 'workday_meter1_site2_Education_model', 'nonworkday_meter1_site2_Education_model', 'workday_meter3_site2_Education_model', 'nonworkday_meter3_site2_Education_model', 'workday_meter2_site2_Education_model', 'nonworkday_meter2_site2_Education_model', 'workday_meter0_site3_Education_model', 'nonworkday_meter0_site3_Education_model', 'workday_meter1_site3_Education_model', 'nonworkday_meter1_site3_Education_model', 'workday_meter3_site3_Education_model', 'nonworkday_meter3_site3_Education_model', 'workday_meter2_site3_Education_model', 'nonworkday_meter2_site3_Education_model', 'workday_meter0_site4_Education_model', 'nonworkday_meter0_site4_Education_model', 'workday_meter1_site4_Education_model', 'nonworkday_meter1_site4_Education_model', 'workday_meter3_site4_Education_model', 'nonworkday_meter3_site4_Education_model', 'workday_meter2_site4_Education_model', 'nonworkday_meter2_site4_Education_model', 'workday_meter0_site5_Education_model', 'nonworkday_meter0_site5_Education_model', 'workday_meter1_site5_Education_model', 'nonworkday_meter1_site5_Education_model', 'workday_meter3_site5_Education_model', 'nonworkday_meter3_site5_Education_model', 'workday_meter2_site5_Education_model', 'nonworkday_meter2_site5_Education_model', 'workday_meter0_site6_Education_model', 'nonworkday_meter0_site6_Education_model', 'workday_meter1_site6_Education_model', 'nonworkday_meter1_site6_Education_model', 'workday_meter3_site6_Education_model', 'nonworkday_meter3_site6_Education_model', 'workday_meter2_site6_Education_model', 'nonworkday_meter2_site6_Education_model', 'workday_meter0_site7_Education_model', 'nonworkday_meter0_site7_Education_model', 'workday_meter1_site7_Education_model', 'nonworkday_meter1_site7_Education_model', 'workday_meter3_site7_Education_model', 'nonworkday_meter3_site7_Education_model', 'workday_meter2_site7_Education_model', 'nonworkday_meter2_site7_Education_model', 'workday_meter0_site8_Education_model', 'nonworkday_meter0_site8_Education_model', 'workday_meter1_site8_Education_model', 'nonworkday_meter1_site8_Education_model', 'workday_meter3_site8_Education_model', 'nonworkday_meter3_site8_Education_model', 'workday_meter2_site8_Education_model', 'nonworkday_meter2_site8_Education_model', 'workday_meter0_site9_Education_model', 'nonworkday_meter0_site9_Education_model', 'workday_meter1_site9_Education_model', 'nonworkday_meter1_site9_Education_model', 'workday_meter3_site9_Education_model', 'nonworkday_meter3_site9_Education_model', 'workday_meter2_site9_Education_model', 'nonworkday_meter2_site9_Education_model', 'workday_meter0_site10_Education_model', 'nonworkday_meter0_site10_Education_model', 'workday_meter1_site10_Education_model', 'nonworkday_meter1_site10_Education_model', 'workday_meter3_site10_Education_model', 'nonworkday_meter3_site10_Education_model', 'workday_meter2_site10_Education_model', 'nonworkday_meter2_site10_Education_model', 'workday_meter0_site11_Education_model', 'nonworkday_meter0_site11_Education_model', 'workday_meter1_site11_Education_model', 'nonworkday_meter1_site11_Education_model', 'workday_meter3_site11_Education_model', 'nonworkday_meter3_site11_Education_model', 'workday_meter2_site11_Education_model', 'nonworkday_meter2_site11_Education_model', 'workday_meter0_site12_Education_model', 'nonworkday_meter0_site12_Education_model', 'workday_meter1_site12_Education_model', 'nonworkday_meter1_site12_Education_model', 'workday_meter3_site12_Education_model', 'nonworkday_meter3_site12_Education_model', 'workday_meter2_site12_Education_model', 'nonworkday_meter2_site12_Education_model', 'workday_meter0_site13_Education_model', 'nonworkday_meter0_site13_Education_model', 'workday_meter1_site13_Education_model', 'nonworkday_meter1_site13_Education_model', 'workday_meter3_site13_Education_model', 'nonworkday_meter3_site13_Education_model', 'workday_meter2_site13_Education_model', 'nonworkday_meter2_site13_Education_model', 'workday_meter0_site14_Education_model', 'nonworkday_meter0_site14_Education_model', 'workday_meter1_site14_Education_model', 'nonworkday_meter1_site14_Education_model', 'workday_meter3_site14_Education_model', 'nonworkday_meter3_site14_Education_model', 'workday_meter2_site14_Education_model', 'nonworkday_meter2_site14_Education_model', 'workday_meter0_site15_Education_model', 'nonworkday_meter0_site15_Education_model', 'workday_meter1_site15_Education_model', 'nonworkday_meter1_site15_Education_model', 'workday_meter3_site15_Education_model', 'nonworkday_meter3_site15_Education_model', 'workday_meter2_site15_Education_model', 'nonworkday_meter2_site15_Education_model', 'workday_meter0_site0_Lodging/residential_model', 'nonworkday_meter0_site0_Lodging/residential_model', 'workday_meter1_site0_Lodging/residential_model', 'nonworkday_meter1_site0_Lodging/residential_model', 'workday_meter3_site0_Lodging/residential_model', 'nonworkday_meter3_site0_Lodging/residential_model', 'workday_meter2_site0_Lodging/residential_model', 'nonworkday_meter2_site0_Lodging/residential_model', 'workday_meter0_site1_Lodging/residential_model', 'nonworkday_meter0_site1_Lodging/residential_model', 'workday_meter1_site1_Lodging/residential_model', 'nonworkday_meter1_site1_Lodging/residential_model', 'workday_meter3_site1_Lodging/residential_model', 'nonworkday_meter3_site1_Lodging/residential_model', 'workday_meter2_site1_Lodging/residential_model', 'nonworkday_meter2_site1_Lodging/residential_model', 'workday_meter0_site2_Lodging/residential_model', 'nonworkday_meter0_site2_Lodging/residential_model', 'workday_meter1_site2_Lodging/residential_model', 'nonworkday_meter1_site2_Lodging/residential_model', 'workday_meter3_site2_Lodging/residential_model', 'nonworkday_meter3_site2_Lodging/residential_model', 'workday_meter2_site2_Lodging/residential_model', 'nonworkday_meter2_site2_Lodging/residential_model', 'workday_meter0_site3_Lodging/residential_model', 'nonworkday_meter0_site3_Lodging/residential_model', 'workday_meter1_site3_Lodging/residential_model', 'nonworkday_meter1_site3_Lodging/residential_model', 'workday_meter3_site3_Lodging/residential_model', 'nonworkday_meter3_site3_Lodging/residential_model', 'workday_meter2_site3_Lodging/residential_model', 'nonworkday_meter2_site3_Lodging/residential_model', 'workday_meter0_site4_Lodging/residential_model', 'nonworkday_meter0_site4_Lodging/residential_model', 'workday_meter1_site4_Lodging/residential_model', 'nonworkday_meter1_site4_Lodging/residential_model', 'workday_meter3_site4_Lodging/residential_model', 'nonworkday_meter3_site4_Lodging/residential_model', 'workday_meter2_site4_Lodging/residential_model', 'nonworkday_meter2_site4_Lodging/residential_model', 'workday_meter0_site5_Lodging/residential_model', 'nonworkday_meter0_site5_Lodging/residential_model', 'workday_meter1_site5_Lodging/residential_model', 'nonworkday_meter1_site5_Lodging/residential_model', 'workday_meter3_site5_Lodging/residential_model', 'nonworkday_meter3_site5_Lodging/residential_model', 'workday_meter2_site5_Lodging/residential_model', 'nonworkday_meter2_site5_Lodging/residential_model', 'workday_meter0_site6_Lodging/residential_model', 'nonworkday_meter0_site6_Lodging/residential_model', 'workday_meter1_site6_Lodging/residential_model', 'nonworkday_meter1_site6_Lodging/residential_model', 'workday_meter3_site6_Lodging/residential_model', 'nonworkday_meter3_site6_Lodging/residential_model', 'workday_meter2_site6_Lodging/residential_model', 'nonworkday_meter2_site6_Lodging/residential_model', 'workday_meter0_site7_Lodging/residential_model', 'nonworkday_meter0_site7_Lodging/residential_model', 'workday_meter1_site7_Lodging/residential_model', 'nonworkday_meter1_site7_Lodging/residential_model', 'workday_meter3_site7_Lodging/residential_model', 'nonworkday_meter3_site7_Lodging/residential_model', 'workday_meter2_site7_Lodging/residential_model', 'nonworkday_meter2_site7_Lodging/residential_model', 'workday_meter0_site8_Lodging/residential_model', 'nonworkday_meter0_site8_Lodging/residential_model', 'workday_meter1_site8_Lodging/residential_model', 'nonworkday_meter1_site8_Lodging/residential_model', 'workday_meter3_site8_Lodging/residential_model', 'nonworkday_meter3_site8_Lodging/residential_model', 'workday_meter2_site8_Lodging/residential_model', 'nonworkday_meter2_site8_Lodging/residential_model', 'workday_meter0_site9_Lodging/residential_model', 'nonworkday_meter0_site9_Lodging/residential_model', 'workday_meter1_site9_Lodging/residential_model', 'nonworkday_meter1_site9_Lodging/residential_model', 'workday_meter3_site9_Lodging/residential_model', 'nonworkday_meter3_site9_Lodging/residential_model', 'workday_meter2_site9_Lodging/residential_model', 'nonworkday_meter2_site9_Lodging/residential_model', 'workday_meter0_site10_Lodging/residential_model', 'nonworkday_meter0_site10_Lodging/residential_model', 'workday_meter1_site10_Lodging/residential_model', 'nonworkday_meter1_site10_Lodging/residential_model', 'workday_meter3_site10_Lodging/residential_model', 'nonworkday_meter3_site10_Lodging/residential_model', 'workday_meter2_site10_Lodging/residential_model', 'nonworkday_meter2_site10_Lodging/residential_model', 'workday_meter0_site11_Lodging/residential_model', 'nonworkday_meter0_site11_Lodging/residential_model', 'workday_meter1_site11_Lodging/residential_model', 'nonworkday_meter1_site11_Lodging/residential_model', 'workday_meter3_site11_Lodging/residential_model', 'nonworkday_meter3_site11_Lodging/residential_model', 'workday_meter2_site11_Lodging/residential_model', 'nonworkday_meter2_site11_Lodging/residential_model', 'workday_meter0_site12_Lodging/residential_model', 'nonworkday_meter0_site12_Lodging/residential_model', 'workday_meter1_site12_Lodging/residential_model', 'nonworkday_meter1_site12_Lodging/residential_model', 'workday_meter3_site12_Lodging/residential_model', 'nonworkday_meter3_site12_Lodging/residential_model', 'workday_meter2_site12_Lodging/residential_model', 'nonworkday_meter2_site12_Lodging/residential_model', 'workday_meter0_site13_Lodging/residential_model', 'nonworkday_meter0_site13_Lodging/residential_model', 'workday_meter1_site13_Lodging/residential_model', 'nonworkday_meter1_site13_Lodging/residential_model', 'workday_meter3_site13_Lodging/residential_model', 'nonworkday_meter3_site13_Lodging/residential_model', 'workday_meter2_site13_Lodging/residential_model', 'nonworkday_meter2_site13_Lodging/residential_model', 'workday_meter0_site14_Lodging/residential_model', 'nonworkday_meter0_site14_Lodging/residential_model', 'workday_meter1_site14_Lodging/residential_model', 'nonworkday_meter1_site14_Lodging/residential_model', 'workday_meter3_site14_Lodging/residential_model', 'nonworkday_meter3_site14_Lodging/residential_model', 'workday_meter2_site14_Lodging/residential_model', 'nonworkday_meter2_site14_Lodging/residential_model', 'workday_meter0_site15_Lodging/residential_model', 'nonworkday_meter0_site15_Lodging/residential_model', 'workday_meter1_site15_Lodging/residential_model', 'nonworkday_meter1_site15_Lodging/residential_model', 'workday_meter3_site15_Lodging/residential_model', 'nonworkday_meter3_site15_Lodging/residential_model', 'workday_meter2_site15_Lodging/residential_model', 'nonworkday_meter2_site15_Lodging/residential_model', 'workday_meter0_site0_Office_model', 'nonworkday_meter0_site0_Office_model', 'workday_meter1_site0_Office_model', 'nonworkday_meter1_site0_Office_model', 'workday_meter3_site0_Office_model', 'nonworkday_meter3_site0_Office_model', 'workday_meter2_site0_Office_model', 'nonworkday_meter2_site0_Office_model', 'workday_meter0_site1_Office_model', 'nonworkday_meter0_site1_Office_model', 'workday_meter1_site1_Office_model', 'nonworkday_meter1_site1_Office_model', 'workday_meter3_site1_Office_model', 'nonworkday_meter3_site1_Office_model', 'workday_meter2_site1_Office_model', 'nonworkday_meter2_site1_Office_model', 'workday_meter0_site2_Office_model', 'nonworkday_meter0_site2_Office_model', 'workday_meter1_site2_Office_model', 'nonworkday_meter1_site2_Office_model', 'workday_meter3_site2_Office_model', 'nonworkday_meter3_site2_Office_model', 'workday_meter2_site2_Office_model', 'nonworkday_meter2_site2_Office_model', 'workday_meter0_site3_Office_model', 'nonworkday_meter0_site3_Office_model', 'workday_meter1_site3_Office_model', 'nonworkday_meter1_site3_Office_model', 'workday_meter3_site3_Office_model', 'nonworkday_meter3_site3_Office_model', 'workday_meter2_site3_Office_model', 'nonworkday_meter2_site3_Office_model', 'workday_meter0_site4_Office_model', 'nonworkday_meter0_site4_Office_model', 'workday_meter1_site4_Office_model', 'nonworkday_meter1_site4_Office_model', 'workday_meter3_site4_Office_model', 'nonworkday_meter3_site4_Office_model', 'workday_meter2_site4_Office_model', 'nonworkday_meter2_site4_Office_model', 'workday_meter0_site5_Office_model', 'nonworkday_meter0_site5_Office_model', 'workday_meter1_site5_Office_model', 'nonworkday_meter1_site5_Office_model', 'workday_meter3_site5_Office_model', 'nonworkday_meter3_site5_Office_model', 'workday_meter2_site5_Office_model', 'nonworkday_meter2_site5_Office_model', 'workday_meter0_site6_Office_model', 'nonworkday_meter0_site6_Office_model', 'workday_meter1_site6_Office_model', 'nonworkday_meter1_site6_Office_model', 'workday_meter3_site6_Office_model', 'nonworkday_meter3_site6_Office_model', 'workday_meter2_site6_Office_model', 'nonworkday_meter2_site6_Office_model', 'workday_meter0_site7_Office_model', 'nonworkday_meter0_site7_Office_model', 'workday_meter1_site7_Office_model', 'nonworkday_meter1_site7_Office_model', 'workday_meter3_site7_Office_model', 'nonworkday_meter3_site7_Office_model', 'workday_meter2_site7_Office_model', 'nonworkday_meter2_site7_Office_model', 'workday_meter0_site8_Office_model', 'nonworkday_meter0_site8_Office_model', 'workday_meter1_site8_Office_model', 'nonworkday_meter1_site8_Office_model', 'workday_meter3_site8_Office_model', 'nonworkday_meter3_site8_Office_model', 'workday_meter2_site8_Office_model', 'nonworkday_meter2_site8_Office_model', 'workday_meter0_site9_Office_model', 'nonworkday_meter0_site9_Office_model', 'workday_meter1_site9_Office_model', 'nonworkday_meter1_site9_Office_model', 'workday_meter3_site9_Office_model', 'nonworkday_meter3_site9_Office_model', 'workday_meter2_site9_Office_model', 'nonworkday_meter2_site9_Office_model', 'workday_meter0_site10_Office_model', 'nonworkday_meter0_site10_Office_model', 'workday_meter1_site10_Office_model', 'nonworkday_meter1_site10_Office_model', 'workday_meter3_site10_Office_model', 'nonworkday_meter3_site10_Office_model', 'workday_meter2_site10_Office_model', 'nonworkday_meter2_site10_Office_model', 'workday_meter0_site11_Office_model', 'nonworkday_meter0_site11_Office_model', 'workday_meter1_site11_Office_model', 'nonworkday_meter1_site11_Office_model', 'workday_meter3_site11_Office_model', 'nonworkday_meter3_site11_Office_model', 'workday_meter2_site11_Office_model', 'nonworkday_meter2_site11_Office_model', 'workday_meter0_site12_Office_model', 'nonworkday_meter0_site12_Office_model', 'workday_meter1_site12_Office_model', 'nonworkday_meter1_site12_Office_model', 'workday_meter3_site12_Office_model', 'nonworkday_meter3_site12_Office_model', 'workday_meter2_site12_Office_model', 'nonworkday_meter2_site12_Office_model', 'workday_meter0_site13_Office_model', 'nonworkday_meter0_site13_Office_model', 'workday_meter1_site13_Office_model', 'nonworkday_meter1_site13_Office_model', 'workday_meter3_site13_Office_model', 'nonworkday_meter3_site13_Office_model', 'workday_meter2_site13_Office_model', 'nonworkday_meter2_site13_Office_model', 'workday_meter0_site14_Office_model', 'nonworkday_meter0_site14_Office_model', 'workday_meter1_site14_Office_model', 'nonworkday_meter1_site14_Office_model', 'workday_meter3_site14_Office_model', 'nonworkday_meter3_site14_Office_model', 'workday_meter2_site14_Office_model', 'nonworkday_meter2_site14_Office_model', 'workday_meter0_site15_Office_model', 'nonworkday_meter0_site15_Office_model', 'workday_meter1_site15_Office_model', 'nonworkday_meter1_site15_Office_model', 'workday_meter3_site15_Office_model', 'nonworkday_meter3_site15_Office_model', 'workday_meter2_site15_Office_model', 'nonworkday_meter2_site15_Office_model', 'workday_meter0_site0_Entertainment/public assembly_model', 'nonworkday_meter0_site0_Entertainment/public assembly_model', 'workday_meter1_site0_Entertainment/public assembly_model', 'nonworkday_meter1_site0_Entertainment/public assembly_model', 'workday_meter3_site0_Entertainment/public assembly_model', 'nonworkday_meter3_site0_Entertainment/public assembly_model', 'workday_meter2_site0_Entertainment/public assembly_model', 'nonworkday_meter2_site0_Entertainment/public assembly_model', 'workday_meter0_site1_Entertainment/public assembly_model', 'nonworkday_meter0_site1_Entertainment/public assembly_model', 'workday_meter1_site1_Entertainment/public assembly_model', 'nonworkday_meter1_site1_Entertainment/public assembly_model', 'workday_meter3_site1_Entertainment/public assembly_model', 'nonworkday_meter3_site1_Entertainment/public assembly_model', 'workday_meter2_site1_Entertainment/public assembly_model', 'nonworkday_meter2_site1_Entertainment/public assembly_model', 'workday_meter0_site2_Entertainment/public assembly_model', 'nonworkday_meter0_site2_Entertainment/public assembly_model', 'workday_meter1_site2_Entertainment/public assembly_model', 'nonworkday_meter1_site2_Entertainment/public assembly_model', 'workday_meter3_site2_Entertainment/public assembly_model', 'nonworkday_meter3_site2_Entertainment/public assembly_model', 'workday_meter2_site2_Entertainment/public assembly_model', 'nonworkday_meter2_site2_Entertainment/public assembly_model', 'workday_meter0_site3_Entertainment/public assembly_model', 'nonworkday_meter0_site3_Entertainment/public assembly_model', 'workday_meter1_site3_Entertainment/public assembly_model', 'nonworkday_meter1_site3_Entertainment/public assembly_model', 'workday_meter3_site3_Entertainment/public assembly_model', 'nonworkday_meter3_site3_Entertainment/public assembly_model', 'workday_meter2_site3_Entertainment/public assembly_model', 'nonworkday_meter2_site3_Entertainment/public assembly_model', 'workday_meter0_site4_Entertainment/public assembly_model', 'nonworkday_meter0_site4_Entertainment/public assembly_model', 'workday_meter1_site4_Entertainment/public assembly_model', 'nonworkday_meter1_site4_Entertainment/public assembly_model', 'workday_meter3_site4_Entertainment/public assembly_model', 'nonworkday_meter3_site4_Entertainment/public assembly_model', 'workday_meter2_site4_Entertainment/public assembly_model', 'nonworkday_meter2_site4_Entertainment/public assembly_model', 'workday_meter0_site5_Entertainment/public assembly_model', 'nonworkday_meter0_site5_Entertainment/public assembly_model', 'workday_meter1_site5_Entertainment/public assembly_model', 'nonworkday_meter1_site5_Entertainment/public assembly_model', 'workday_meter3_site5_Entertainment/public assembly_model', 'nonworkday_meter3_site5_Entertainment/public assembly_model', 'workday_meter2_site5_Entertainment/public assembly_model', 'nonworkday_meter2_site5_Entertainment/public assembly_model', 'workday_meter0_site6_Entertainment/public assembly_model', 'nonworkday_meter0_site6_Entertainment/public assembly_model', 'workday_meter1_site6_Entertainment/public assembly_model', 'nonworkday_meter1_site6_Entertainment/public assembly_model', 'workday_meter3_site6_Entertainment/public assembly_model', 'nonworkday_meter3_site6_Entertainment/public assembly_model', 'workday_meter2_site6_Entertainment/public assembly_model', 'nonworkday_meter2_site6_Entertainment/public assembly_model', 'workday_meter0_site7_Entertainment/public assembly_model', 'nonworkday_meter0_site7_Entertainment/public assembly_model', 'workday_meter1_site7_Entertainment/public assembly_model', 'nonworkday_meter1_site7_Entertainment/public assembly_model', 'workday_meter3_site7_Entertainment/public assembly_model', 'nonworkday_meter3_site7_Entertainment/public assembly_model', 'workday_meter2_site7_Entertainment/public assembly_model', 'nonworkday_meter2_site7_Entertainment/public assembly_model', 'workday_meter0_site8_Entertainment/public assembly_model', 'nonworkday_meter0_site8_Entertainment/public assembly_model', 'workday_meter1_site8_Entertainment/public assembly_model', 'nonworkday_meter1_site8_Entertainment/public assembly_model', 'workday_meter3_site8_Entertainment/public assembly_model', 'nonworkday_meter3_site8_Entertainment/public assembly_model', 'workday_meter2_site8_Entertainment/public assembly_model', 'nonworkday_meter2_site8_Entertainment/public assembly_model', 'workday_meter0_site9_Entertainment/public assembly_model', 'nonworkday_meter0_site9_Entertainment/public assembly_model', 'workday_meter1_site9_Entertainment/public assembly_model', 'nonworkday_meter1_site9_Entertainment/public assembly_model', 'workday_meter3_site9_Entertainment/public assembly_model', 'nonworkday_meter3_site9_Entertainment/public assembly_model', 'workday_meter2_site9_Entertainment/public assembly_model', 'nonworkday_meter2_site9_Entertainment/public assembly_model', 'workday_meter0_site10_Entertainment/public assembly_model', 'nonworkday_meter0_site10_Entertainment/public assembly_model', 'workday_meter1_site10_Entertainment/public assembly_model', 'nonworkday_meter1_site10_Entertainment/public assembly_model', 'workday_meter3_site10_Entertainment/public assembly_model', 'nonworkday_meter3_site10_Entertainment/public assembly_model', 'workday_meter2_site10_Entertainment/public assembly_model', 'nonworkday_meter2_site10_Entertainment/public assembly_model', 'workday_meter0_site11_Entertainment/public assembly_model', 'nonworkday_meter0_site11_Entertainment/public assembly_model', 'workday_meter1_site11_Entertainment/public assembly_model', 'nonworkday_meter1_site11_Entertainment/public assembly_model', 'workday_meter3_site11_Entertainment/public assembly_model', 'nonworkday_meter3_site11_Entertainment/public assembly_model', 'workday_meter2_site11_Entertainment/public assembly_model', 'nonworkday_meter2_site11_Entertainment/public assembly_model', 'workday_meter0_site12_Entertainment/public assembly_model', 'nonworkday_meter0_site12_Entertainment/public assembly_model', 'workday_meter1_site12_Entertainment/public assembly_model', 'nonworkday_meter1_site12_Entertainment/public assembly_model', 'workday_meter3_site12_Entertainment/public assembly_model', 'nonworkday_meter3_site12_Entertainment/public assembly_model', 'workday_meter2_site12_Entertainment/public assembly_model', 'nonworkday_meter2_site12_Entertainment/public assembly_model', 'workday_meter0_site13_Entertainment/public assembly_model', 'nonworkday_meter0_site13_Entertainment/public assembly_model', 'workday_meter1_site13_Entertainment/public assembly_model', 'nonworkday_meter1_site13_Entertainment/public assembly_model', 'workday_meter3_site13_Entertainment/public assembly_model', 'nonworkday_meter3_site13_Entertainment/public assembly_model', 'workday_meter2_site13_Entertainment/public assembly_model', 'nonworkday_meter2_site13_Entertainment/public assembly_model', 'workday_meter0_site14_Entertainment/public assembly_model', 'nonworkday_meter0_site14_Entertainment/public assembly_model', 'workday_meter1_site14_Entertainment/public assembly_model', 'nonworkday_meter1_site14_Entertainment/public assembly_model', 'workday_meter3_site14_Entertainment/public assembly_model', 'nonworkday_meter3_site14_Entertainment/public assembly_model', 'workday_meter2_site14_Entertainment/public assembly_model', 'nonworkday_meter2_site14_Entertainment/public assembly_model', 'workday_meter0_site15_Entertainment/public assembly_model', 'nonworkday_meter0_site15_Entertainment/public assembly_model', 'workday_meter1_site15_Entertainment/public assembly_model', 'nonworkday_meter1_site15_Entertainment/public assembly_model', 'workday_meter3_site15_Entertainment/public assembly_model', 'nonworkday_meter3_site15_Entertainment/public assembly_model', 'workday_meter2_site15_Entertainment/public assembly_model', 'nonworkday_meter2_site15_Entertainment/public assembly_model', 'workday_meter0_site0_Other_model', 'nonworkday_meter0_site0_Other_model', 'workday_meter1_site0_Other_model', 'nonworkday_meter1_site0_Other_model', 'workday_meter3_site0_Other_model', 'nonworkday_meter3_site0_Other_model', 'workday_meter2_site0_Other_model', 'nonworkday_meter2_site0_Other_model', 'workday_meter0_site1_Other_model', 'nonworkday_meter0_site1_Other_model', 'workday_meter1_site1_Other_model', 'nonworkday_meter1_site1_Other_model', 'workday_meter3_site1_Other_model', 'nonworkday_meter3_site1_Other_model', 'workday_meter2_site1_Other_model', 'nonworkday_meter2_site1_Other_model', 'workday_meter0_site2_Other_model', 'nonworkday_meter0_site2_Other_model', 'workday_meter1_site2_Other_model', 'nonworkday_meter1_site2_Other_model', 'workday_meter3_site2_Other_model', 'nonworkday_meter3_site2_Other_model', 'workday_meter2_site2_Other_model', 'nonworkday_meter2_site2_Other_model', 'workday_meter0_site3_Other_model', 'nonworkday_meter0_site3_Other_model', 'workday_meter1_site3_Other_model', 'nonworkday_meter1_site3_Other_model', 'workday_meter3_site3_Other_model', 'nonworkday_meter3_site3_Other_model', 'workday_meter2_site3_Other_model', 'nonworkday_meter2_site3_Other_model', 'workday_meter0_site4_Other_model', 'nonworkday_meter0_site4_Other_model', 'workday_meter1_site4_Other_model', 'nonworkday_meter1_site4_Other_model', 'workday_meter3_site4_Other_model', 'nonworkday_meter3_site4_Other_model', 'workday_meter2_site4_Other_model', 'nonworkday_meter2_site4_Other_model', 'workday_meter0_site5_Other_model', 'nonworkday_meter0_site5_Other_model', 'workday_meter1_site5_Other_model', 'nonworkday_meter1_site5_Other_model', 'workday_meter3_site5_Other_model', 'nonworkday_meter3_site5_Other_model', 'workday_meter2_site5_Other_model', 'nonworkday_meter2_site5_Other_model', 'workday_meter0_site6_Other_model', 'nonworkday_meter0_site6_Other_model', 'workday_meter1_site6_Other_model', 'nonworkday_meter1_site6_Other_model', 'workday_meter3_site6_Other_model', 'nonworkday_meter3_site6_Other_model', 'workday_meter2_site6_Other_model', 'nonworkday_meter2_site6_Other_model', 'workday_meter0_site7_Other_model', 'nonworkday_meter0_site7_Other_model', 'workday_meter1_site7_Other_model', 'nonworkday_meter1_site7_Other_model', 'workday_meter3_site7_Other_model', 'nonworkday_meter3_site7_Other_model', 'workday_meter2_site7_Other_model', 'nonworkday_meter2_site7_Other_model', 'workday_meter0_site8_Other_model', 'nonworkday_meter0_site8_Other_model', 'workday_meter1_site8_Other_model', 'nonworkday_meter1_site8_Other_model', 'workday_meter3_site8_Other_model', 'nonworkday_meter3_site8_Other_model', 'workday_meter2_site8_Other_model', 'nonworkday_meter2_site8_Other_model', 'workday_meter0_site9_Other_model', 'nonworkday_meter0_site9_Other_model', 'workday_meter1_site9_Other_model', 'nonworkday_meter1_site9_Other_model', 'workday_meter3_site9_Other_model', 'nonworkday_meter3_site9_Other_model', 'workday_meter2_site9_Other_model', 'nonworkday_meter2_site9_Other_model', 'workday_meter0_site10_Other_model', 'nonworkday_meter0_site10_Other_model', 'workday_meter1_site10_Other_model', 'nonworkday_meter1_site10_Other_model', 'workday_meter3_site10_Other_model', 'nonworkday_meter3_site10_Other_model', 'workday_meter2_site10_Other_model', 'nonworkday_meter2_site10_Other_model', 'workday_meter0_site11_Other_model', 'nonworkday_meter0_site11_Other_model', 'workday_meter1_site11_Other_model', 'nonworkday_meter1_site11_Other_model', 'workday_meter3_site11_Other_model', 'nonworkday_meter3_site11_Other_model', 'workday_meter2_site11_Other_model', 'nonworkday_meter2_site11_Other_model', 'workday_meter0_site12_Other_model', 'nonworkday_meter0_site12_Other_model', 'workday_meter1_site12_Other_model', 'nonworkday_meter1_site12_Other_model', 'workday_meter3_site12_Other_model', 'nonworkday_meter3_site12_Other_model', 'workday_meter2_site12_Other_model', 'nonworkday_meter2_site12_Other_model', 'workday_meter0_site13_Other_model', 'nonworkday_meter0_site13_Other_model', 'workday_meter1_site13_Other_model', 'nonworkday_meter1_site13_Other_model', 'workday_meter3_site13_Other_model', 'nonworkday_meter3_site13_Other_model', 'workday_meter2_site13_Other_model', 'nonworkday_meter2_site13_Other_model', 'workday_meter0_site14_Other_model', 'nonworkday_meter0_site14_Other_model', 'workday_meter1_site14_Other_model', 'nonworkday_meter1_site14_Other_model', 'workday_meter3_site14_Other_model', 'nonworkday_meter3_site14_Other_model', 'workday_meter2_site14_Other_model', 'nonworkday_meter2_site14_Other_model', 'workday_meter0_site15_Other_model', 'nonworkday_meter0_site15_Other_model', 'workday_meter1_site15_Other_model', 'nonworkday_meter1_site15_Other_model', 'workday_meter3_site15_Other_model', 'nonworkday_meter3_site15_Other_model', 'workday_meter2_site15_Other_model', 'nonworkday_meter2_site15_Other_model', 'workday_meter0_site0_Retail_model', 'nonworkday_meter0_site0_Retail_model', 'workday_meter1_site0_Retail_model', 'nonworkday_meter1_site0_Retail_model', 'workday_meter3_site0_Retail_model', 'nonworkday_meter3_site0_Retail_model', 'workday_meter2_site0_Retail_model', 'nonworkday_meter2_site0_Retail_model', 'workday_meter0_site1_Retail_model', 'nonworkday_meter0_site1_Retail_model', 'workday_meter1_site1_Retail_model', 'nonworkday_meter1_site1_Retail_model', 'workday_meter3_site1_Retail_model', 'nonworkday_meter3_site1_Retail_model', 'workday_meter2_site1_Retail_model', 'nonworkday_meter2_site1_Retail_model', 'workday_meter0_site2_Retail_model', 'nonworkday_meter0_site2_Retail_model', 'workday_meter1_site2_Retail_model', 'nonworkday_meter1_site2_Retail_model', 'workday_meter3_site2_Retail_model', 'nonworkday_meter3_site2_Retail_model', 'workday_meter2_site2_Retail_model', 'nonworkday_meter2_site2_Retail_model', 'workday_meter0_site3_Retail_model', 'nonworkday_meter0_site3_Retail_model', 'workday_meter1_site3_Retail_model', 'nonworkday_meter1_site3_Retail_model', 'workday_meter3_site3_Retail_model', 'nonworkday_meter3_site3_Retail_model', 'workday_meter2_site3_Retail_model', 'nonworkday_meter2_site3_Retail_model', 'workday_meter0_site4_Retail_model', 'nonworkday_meter0_site4_Retail_model', 'workday_meter1_site4_Retail_model', 'nonworkday_meter1_site4_Retail_model', 'workday_meter3_site4_Retail_model', 'nonworkday_meter3_site4_Retail_model', 'workday_meter2_site4_Retail_model', 'nonworkday_meter2_site4_Retail_model', 'workday_meter0_site5_Retail_model', 'nonworkday_meter0_site5_Retail_model', 'workday_meter1_site5_Retail_model', 'nonworkday_meter1_site5_Retail_model', 'workday_meter3_site5_Retail_model', 'nonworkday_meter3_site5_Retail_model', 'workday_meter2_site5_Retail_model', 'nonworkday_meter2_site5_Retail_model', 'workday_meter0_site6_Retail_model', 'nonworkday_meter0_site6_Retail_model', 'workday_meter1_site6_Retail_model', 'nonworkday_meter1_site6_Retail_model', 'workday_meter3_site6_Retail_model', 'nonworkday_meter3_site6_Retail_model', 'workday_meter2_site6_Retail_model', 'nonworkday_meter2_site6_Retail_model', 'workday_meter0_site7_Retail_model', 'nonworkday_meter0_site7_Retail_model', 'workday_meter1_site7_Retail_model', 'nonworkday_meter1_site7_Retail_model', 'workday_meter3_site7_Retail_model', 'nonworkday_meter3_site7_Retail_model', 'workday_meter2_site7_Retail_model', 'nonworkday_meter2_site7_Retail_model', 'workday_meter0_site8_Retail_model', 'nonworkday_meter0_site8_Retail_model', 'workday_meter1_site8_Retail_model', 'nonworkday_meter1_site8_Retail_model', 'workday_meter3_site8_Retail_model', 'nonworkday_meter3_site8_Retail_model', 'workday_meter2_site8_Retail_model', 'nonworkday_meter2_site8_Retail_model', 'workday_meter0_site9_Retail_model', 'nonworkday_meter0_site9_Retail_model', 'workday_meter1_site9_Retail_model', 'nonworkday_meter1_site9_Retail_model', 'workday_meter3_site9_Retail_model', 'nonworkday_meter3_site9_Retail_model', 'workday_meter2_site9_Retail_model', 'nonworkday_meter2_site9_Retail_model', 'workday_meter0_site10_Retail_model', 'nonworkday_meter0_site10_Retail_model', 'workday_meter1_site10_Retail_model', 'nonworkday_meter1_site10_Retail_model', 'workday_meter3_site10_Retail_model', 'nonworkday_meter3_site10_Retail_model', 'workday_meter2_site10_Retail_model', 'nonworkday_meter2_site10_Retail_model', 'workday_meter0_site11_Retail_model', 'nonworkday_meter0_site11_Retail_model', 'workday_meter1_site11_Retail_model', 'nonworkday_meter1_site11_Retail_model', 'workday_meter3_site11_Retail_model', 'nonworkday_meter3_site11_Retail_model', 'workday_meter2_site11_Retail_model', 'nonworkday_meter2_site11_Retail_model', 'workday_meter0_site12_Retail_model', 'nonworkday_meter0_site12_Retail_model', 'workday_meter1_site12_Retail_model', 'nonworkday_meter1_site12_Retail_model', 'workday_meter3_site12_Retail_model', 'nonworkday_meter3_site12_Retail_model', 'workday_meter2_site12_Retail_model', 'nonworkday_meter2_site12_Retail_model', 'workday_meter0_site13_Retail_model', 'nonworkday_meter0_site13_Retail_model', 'workday_meter1_site13_Retail_model', 'nonworkday_meter1_site13_Retail_model', 'workday_meter3_site13_Retail_model', 'nonworkday_meter3_site13_Retail_model', 'workday_meter2_site13_Retail_model', 'nonworkday_meter2_site13_Retail_model', 'workday_meter0_site14_Retail_model', 'nonworkday_meter0_site14_Retail_model', 'workday_meter1_site14_Retail_model', 'nonworkday_meter1_site14_Retail_model', 'workday_meter3_site14_Retail_model', 'nonworkday_meter3_site14_Retail_model', 'workday_meter2_site14_Retail_model', 'nonworkday_meter2_site14_Retail_model', 'workday_meter0_site15_Retail_model', 'nonworkday_meter0_site15_Retail_model', 'workday_meter1_site15_Retail_model', 'nonworkday_meter1_site15_Retail_model', 'workday_meter3_site15_Retail_model', 'nonworkday_meter3_site15_Retail_model', 'workday_meter2_site15_Retail_model', 'nonworkday_meter2_site15_Retail_model', 'workday_meter0_site0_Parking_model', 'nonworkday_meter0_site0_Parking_model', 'workday_meter1_site0_Parking_model', 'nonworkday_meter1_site0_Parking_model', 'workday_meter3_site0_Parking_model', 'nonworkday_meter3_site0_Parking_model', 'workday_meter2_site0_Parking_model', 'nonworkday_meter2_site0_Parking_model', 'workday_meter0_site1_Parking_model', 'nonworkday_meter0_site1_Parking_model', 'workday_meter1_site1_Parking_model', 'nonworkday_meter1_site1_Parking_model', 'workday_meter3_site1_Parking_model', 'nonworkday_meter3_site1_Parking_model', 'workday_meter2_site1_Parking_model', 'nonworkday_meter2_site1_Parking_model', 'workday_meter0_site2_Parking_model', 'nonworkday_meter0_site2_Parking_model', 'workday_meter1_site2_Parking_model', 'nonworkday_meter1_site2_Parking_model', 'workday_meter3_site2_Parking_model', 'nonworkday_meter3_site2_Parking_model', 'workday_meter2_site2_Parking_model', 'nonworkday_meter2_site2_Parking_model', 'workday_meter0_site3_Parking_model', 'nonworkday_meter0_site3_Parking_model', 'workday_meter1_site3_Parking_model', 'nonworkday_meter1_site3_Parking_model', 'workday_meter3_site3_Parking_model', 'nonworkday_meter3_site3_Parking_model', 'workday_meter2_site3_Parking_model', 'nonworkday_meter2_site3_Parking_model', 'workday_meter0_site4_Parking_model', 'nonworkday_meter0_site4_Parking_model', 'workday_meter1_site4_Parking_model', 'nonworkday_meter1_site4_Parking_model', 'workday_meter3_site4_Parking_model', 'nonworkday_meter3_site4_Parking_model', 'workday_meter2_site4_Parking_model', 'nonworkday_meter2_site4_Parking_model', 'workday_meter0_site5_Parking_model', 'nonworkday_meter0_site5_Parking_model', 'workday_meter1_site5_Parking_model', 'nonworkday_meter1_site5_Parking_model', 'workday_meter3_site5_Parking_model', 'nonworkday_meter3_site5_Parking_model', 'workday_meter2_site5_Parking_model', 'nonworkday_meter2_site5_Parking_model', 'workday_meter0_site6_Parking_model', 'nonworkday_meter0_site6_Parking_model', 'workday_meter1_site6_Parking_model', 'nonworkday_meter1_site6_Parking_model', 'workday_meter3_site6_Parking_model', 'nonworkday_meter3_site6_Parking_model', 'workday_meter2_site6_Parking_model', 'nonworkday_meter2_site6_Parking_model', 'workday_meter0_site7_Parking_model', 'nonworkday_meter0_site7_Parking_model', 'workday_meter1_site7_Parking_model', 'nonworkday_meter1_site7_Parking_model', 'workday_meter3_site7_Parking_model', 'nonworkday_meter3_site7_Parking_model', 'workday_meter2_site7_Parking_model', 'nonworkday_meter2_site7_Parking_model', 'workday_meter0_site8_Parking_model', 'nonworkday_meter0_site8_Parking_model', 'workday_meter1_site8_Parking_model', 'nonworkday_meter1_site8_Parking_model', 'workday_meter3_site8_Parking_model', 'nonworkday_meter3_site8_Parking_model', 'workday_meter2_site8_Parking_model', 'nonworkday_meter2_site8_Parking_model', 'workday_meter0_site9_Parking_model', 'nonworkday_meter0_site9_Parking_model', 'workday_meter1_site9_Parking_model', 'nonworkday_meter1_site9_Parking_model', 'workday_meter3_site9_Parking_model', 'nonworkday_meter3_site9_Parking_model', 'workday_meter2_site9_Parking_model', 'nonworkday_meter2_site9_Parking_model', 'workday_meter0_site10_Parking_model', 'nonworkday_meter0_site10_Parking_model', 'workday_meter1_site10_Parking_model', 'nonworkday_meter1_site10_Parking_model', 'workday_meter3_site10_Parking_model', 'nonworkday_meter3_site10_Parking_model', 'workday_meter2_site10_Parking_model', 'nonworkday_meter2_site10_Parking_model', 'workday_meter0_site11_Parking_model', 'nonworkday_meter0_site11_Parking_model', 'workday_meter1_site11_Parking_model', 'nonworkday_meter1_site11_Parking_model', 'workday_meter3_site11_Parking_model', 'nonworkday_meter3_site11_Parking_model', 'workday_meter2_site11_Parking_model', 'nonworkday_meter2_site11_Parking_model', 'workday_meter0_site12_Parking_model', 'nonworkday_meter0_site12_Parking_model', 'workday_meter1_site12_Parking_model', 'nonworkday_meter1_site12_Parking_model', 'workday_meter3_site12_Parking_model', 'nonworkday_meter3_site12_Parking_model', 'workday_meter2_site12_Parking_model', 'nonworkday_meter2_site12_Parking_model', 'workday_meter0_site13_Parking_model', 'nonworkday_meter0_site13_Parking_model', 'workday_meter1_site13_Parking_model', 'nonworkday_meter1_site13_Parking_model', 'workday_meter3_site13_Parking_model', 'nonworkday_meter3_site13_Parking_model', 'workday_meter2_site13_Parking_model', 'nonworkday_meter2_site13_Parking_model', 'workday_meter0_site14_Parking_model', 'nonworkday_meter0_site14_Parking_model', 'workday_meter1_site14_Parking_model', 'nonworkday_meter1_site14_Parking_model', 'workday_meter3_site14_Parking_model', 'nonworkday_meter3_site14_Parking_model', 'workday_meter2_site14_Parking_model', 'nonworkday_meter2_site14_Parking_model', 'workday_meter0_site15_Parking_model', 'nonworkday_meter0_site15_Parking_model', 'workday_meter1_site15_Parking_model', 'nonworkday_meter1_site15_Parking_model', 'workday_meter3_site15_Parking_model', 'nonworkday_meter3_site15_Parking_model', 'workday_meter2_site15_Parking_model', 'nonworkday_meter2_site15_Parking_model', 'workday_meter0_site0_Public services_model', 'nonworkday_meter0_site0_Public services_model', 'workday_meter1_site0_Public services_model', 'nonworkday_meter1_site0_Public services_model', 'workday_meter3_site0_Public services_model', 'nonworkday_meter3_site0_Public services_model', 'workday_meter2_site0_Public services_model', 'nonworkday_meter2_site0_Public services_model', 'workday_meter0_site1_Public services_model', 'nonworkday_meter0_site1_Public services_model', 'workday_meter1_site1_Public services_model', 'nonworkday_meter1_site1_Public services_model', 'workday_meter3_site1_Public services_model', 'nonworkday_meter3_site1_Public services_model', 'workday_meter2_site1_Public services_model', 'nonworkday_meter2_site1_Public services_model', 'workday_meter0_site2_Public services_model', 'nonworkday_meter0_site2_Public services_model', 'workday_meter1_site2_Public services_model', 'nonworkday_meter1_site2_Public services_model', 'workday_meter3_site2_Public services_model', 'nonworkday_meter3_site2_Public services_model', 'workday_meter2_site2_Public services_model', 'nonworkday_meter2_site2_Public services_model', 'workday_meter0_site3_Public services_model', 'nonworkday_meter0_site3_Public services_model', 'workday_meter1_site3_Public services_model', 'nonworkday_meter1_site3_Public services_model', 'workday_meter3_site3_Public services_model', 'nonworkday_meter3_site3_Public services_model', 'workday_meter2_site3_Public services_model', 'nonworkday_meter2_site3_Public services_model', 'workday_meter0_site4_Public services_model', 'nonworkday_meter0_site4_Public services_model', 'workday_meter1_site4_Public services_model', 'nonworkday_meter1_site4_Public services_model', 'workday_meter3_site4_Public services_model', 'nonworkday_meter3_site4_Public services_model', 'workday_meter2_site4_Public services_model', 'nonworkday_meter2_site4_Public services_model', 'workday_meter0_site5_Public services_model', 'nonworkday_meter0_site5_Public services_model', 'workday_meter1_site5_Public services_model', 'nonworkday_meter1_site5_Public services_model', 'workday_meter3_site5_Public services_model', 'nonworkday_meter3_site5_Public services_model', 'workday_meter2_site5_Public services_model', 'nonworkday_meter2_site5_Public services_model', 'workday_meter0_site6_Public services_model', 'nonworkday_meter0_site6_Public services_model', 'workday_meter1_site6_Public services_model', 'nonworkday_meter1_site6_Public services_model', 'workday_meter3_site6_Public services_model', 'nonworkday_meter3_site6_Public services_model', 'workday_meter2_site6_Public services_model', 'nonworkday_meter2_site6_Public services_model', 'workday_meter0_site7_Public services_model', 'nonworkday_meter0_site7_Public services_model', 'workday_meter1_site7_Public services_model', 'nonworkday_meter1_site7_Public services_model', 'workday_meter3_site7_Public services_model', 'nonworkday_meter3_site7_Public services_model', 'workday_meter2_site7_Public services_model', 'nonworkday_meter2_site7_Public services_model', 'workday_meter0_site8_Public services_model', 'nonworkday_meter0_site8_Public services_model', 'workday_meter1_site8_Public services_model', 'nonworkday_meter1_site8_Public services_model', 'workday_meter3_site8_Public services_model', 'nonworkday_meter3_site8_Public services_model', 'workday_meter2_site8_Public services_model', 'nonworkday_meter2_site8_Public services_model', 'workday_meter0_site9_Public services_model', 'nonworkday_meter0_site9_Public services_model', 'workday_meter1_site9_Public services_model', 'nonworkday_meter1_site9_Public services_model', 'workday_meter3_site9_Public services_model', 'nonworkday_meter3_site9_Public services_model', 'workday_meter2_site9_Public services_model', 'nonworkday_meter2_site9_Public services_model', 'workday_meter0_site10_Public services_model', 'nonworkday_meter0_site10_Public services_model', 'workday_meter1_site10_Public services_model', 'nonworkday_meter1_site10_Public services_model', 'workday_meter3_site10_Public services_model', 'nonworkday_meter3_site10_Public services_model', 'workday_meter2_site10_Public services_model', 'nonworkday_meter2_site10_Public services_model', 'workday_meter0_site11_Public services_model', 'nonworkday_meter0_site11_Public services_model', 'workday_meter1_site11_Public services_model', 'nonworkday_meter1_site11_Public services_model', 'workday_meter3_site11_Public services_model', 'nonworkday_meter3_site11_Public services_model', 'workday_meter2_site11_Public services_model', 'nonworkday_meter2_site11_Public services_model', 'workday_meter0_site12_Public services_model', 'nonworkday_meter0_site12_Public services_model', 'workday_meter1_site12_Public services_model', 'nonworkday_meter1_site12_Public services_model', 'workday_meter3_site12_Public services_model', 'nonworkday_meter3_site12_Public services_model', 'workday_meter2_site12_Public services_model', 'nonworkday_meter2_site12_Public services_model', 'workday_meter0_site13_Public services_model', 'nonworkday_meter0_site13_Public services_model', 'workday_meter1_site13_Public services_model', 'nonworkday_meter1_site13_Public services_model', 'workday_meter3_site13_Public services_model', 'nonworkday_meter3_site13_Public services_model', 'workday_meter2_site13_Public services_model', 'nonworkday_meter2_site13_Public services_model', 'workday_meter0_site14_Public services_model', 'nonworkday_meter0_site14_Public services_model', 'workday_meter1_site14_Public services_model', 'nonworkday_meter1_site14_Public services_model', 'workday_meter3_site14_Public services_model', 'nonworkday_meter3_site14_Public services_model', 'workday_meter2_site14_Public services_model', 'nonworkday_meter2_site14_Public services_model', 'workday_meter0_site15_Public services_model', 'nonworkday_meter0_site15_Public services_model', 'workday_meter1_site15_Public services_model', 'nonworkday_meter1_site15_Public services_model', 'workday_meter3_site15_Public services_model', 'nonworkday_meter3_site15_Public services_model', 'workday_meter2_site15_Public services_model', 'nonworkday_meter2_site15_Public services_model', 'workday_meter0_site0_Warehouse/storage_model', 'nonworkday_meter0_site0_Warehouse/storage_model', 'workday_meter1_site0_Warehouse/storage_model', 'nonworkday_meter1_site0_Warehouse/storage_model', 'workday_meter3_site0_Warehouse/storage_model', 'nonworkday_meter3_site0_Warehouse/storage_model', 'workday_meter2_site0_Warehouse/storage_model', 'nonworkday_meter2_site0_Warehouse/storage_model', 'workday_meter0_site1_Warehouse/storage_model', 'nonworkday_meter0_site1_Warehouse/storage_model', 'workday_meter1_site1_Warehouse/storage_model', 'nonworkday_meter1_site1_Warehouse/storage_model', 'workday_meter3_site1_Warehouse/storage_model', 'nonworkday_meter3_site1_Warehouse/storage_model', 'workday_meter2_site1_Warehouse/storage_model', 'nonworkday_meter2_site1_Warehouse/storage_model', 'workday_meter0_site2_Warehouse/storage_model', 'nonworkday_meter0_site2_Warehouse/storage_model', 'workday_meter1_site2_Warehouse/storage_model', 'nonworkday_meter1_site2_Warehouse/storage_model', 'workday_meter3_site2_Warehouse/storage_model', 'nonworkday_meter3_site2_Warehouse/storage_model', 'workday_meter2_site2_Warehouse/storage_model', 'nonworkday_meter2_site2_Warehouse/storage_model', 'workday_meter0_site3_Warehouse/storage_model', 'nonworkday_meter0_site3_Warehouse/storage_model', 'workday_meter1_site3_Warehouse/storage_model', 'nonworkday_meter1_site3_Warehouse/storage_model', 'workday_meter3_site3_Warehouse/storage_model', 'nonworkday_meter3_site3_Warehouse/storage_model', 'workday_meter2_site3_Warehouse/storage_model', 'nonworkday_meter2_site3_Warehouse/storage_model', 'workday_meter0_site4_Warehouse/storage_model', 'nonworkday_meter0_site4_Warehouse/storage_model', 'workday_meter1_site4_Warehouse/storage_model', 'nonworkday_meter1_site4_Warehouse/storage_model', 'workday_meter3_site4_Warehouse/storage_model', 'nonworkday_meter3_site4_Warehouse/storage_model', 'workday_meter2_site4_Warehouse/storage_model', 'nonworkday_meter2_site4_Warehouse/storage_model', 'workday_meter0_site5_Warehouse/storage_model', 'nonworkday_meter0_site5_Warehouse/storage_model', 'workday_meter1_site5_Warehouse/storage_model', 'nonworkday_meter1_site5_Warehouse/storage_model', 'workday_meter3_site5_Warehouse/storage_model', 'nonworkday_meter3_site5_Warehouse/storage_model', 'workday_meter2_site5_Warehouse/storage_model', 'nonworkday_meter2_site5_Warehouse/storage_model', 'workday_meter0_site6_Warehouse/storage_model', 'nonworkday_meter0_site6_Warehouse/storage_model', 'workday_meter1_site6_Warehouse/storage_model', 'nonworkday_meter1_site6_Warehouse/storage_model', 'workday_meter3_site6_Warehouse/storage_model', 'nonworkday_meter3_site6_Warehouse/storage_model', 'workday_meter2_site6_Warehouse/storage_model', 'nonworkday_meter2_site6_Warehouse/storage_model', 'workday_meter0_site7_Warehouse/storage_model', 'nonworkday_meter0_site7_Warehouse/storage_model', 'workday_meter1_site7_Warehouse/storage_model', 'nonworkday_meter1_site7_Warehouse/storage_model', 'workday_meter3_site7_Warehouse/storage_model', 'nonworkday_meter3_site7_Warehouse/storage_model', 'workday_meter2_site7_Warehouse/storage_model', 'nonworkday_meter2_site7_Warehouse/storage_model', 'workday_meter0_site8_Warehouse/storage_model', 'nonworkday_meter0_site8_Warehouse/storage_model', 'workday_meter1_site8_Warehouse/storage_model', 'nonworkday_meter1_site8_Warehouse/storage_model', 'workday_meter3_site8_Warehouse/storage_model', 'nonworkday_meter3_site8_Warehouse/storage_model', 'workday_meter2_site8_Warehouse/storage_model', 'nonworkday_meter2_site8_Warehouse/storage_model', 'workday_meter0_site9_Warehouse/storage_model', 'nonworkday_meter0_site9_Warehouse/storage_model', 'workday_meter1_site9_Warehouse/storage_model', 'nonworkday_meter1_site9_Warehouse/storage_model', 'workday_meter3_site9_Warehouse/storage_model', 'nonworkday_meter3_site9_Warehouse/storage_model', 'workday_meter2_site9_Warehouse/storage_model', 'nonworkday_meter2_site9_Warehouse/storage_model', 'workday_meter0_site10_Warehouse/storage_model', 'nonworkday_meter0_site10_Warehouse/storage_model', 'workday_meter1_site10_Warehouse/storage_model', 'nonworkday_meter1_site10_Warehouse/storage_model', 'workday_meter3_site10_Warehouse/storage_model', 'nonworkday_meter3_site10_Warehouse/storage_model', 'workday_meter2_site10_Warehouse/storage_model', 'nonworkday_meter2_site10_Warehouse/storage_model', 'workday_meter0_site11_Warehouse/storage_model', 'nonworkday_meter0_site11_Warehouse/storage_model', 'workday_meter1_site11_Warehouse/storage_model', 'nonworkday_meter1_site11_Warehouse/storage_model', 'workday_meter3_site11_Warehouse/storage_model', 'nonworkday_meter3_site11_Warehouse/storage_model', 'workday_meter2_site11_Warehouse/storage_model', 'nonworkday_meter2_site11_Warehouse/storage_model', 'workday_meter0_site12_Warehouse/storage_model', 'nonworkday_meter0_site12_Warehouse/storage_model', 'workday_meter1_site12_Warehouse/storage_model', 'nonworkday_meter1_site12_Warehouse/storage_model', 'workday_meter3_site12_Warehouse/storage_model', 'nonworkday_meter3_site12_Warehouse/storage_model', 'workday_meter2_site12_Warehouse/storage_model', 'nonworkday_meter2_site12_Warehouse/storage_model', 'workday_meter0_site13_Warehouse/storage_model', 'nonworkday_meter0_site13_Warehouse/storage_model', 'workday_meter1_site13_Warehouse/storage_model', 'nonworkday_meter1_site13_Warehouse/storage_model', 'workday_meter3_site13_Warehouse/storage_model', 'nonworkday_meter3_site13_Warehouse/storage_model', 'workday_meter2_site13_Warehouse/storage_model', 'nonworkday_meter2_site13_Warehouse/storage_model', 'workday_meter0_site14_Warehouse/storage_model', 'nonworkday_meter0_site14_Warehouse/storage_model', 'workday_meter1_site14_Warehouse/storage_model', 'nonworkday_meter1_site14_Warehouse/storage_model', 'workday_meter3_site14_Warehouse/storage_model', 'nonworkday_meter3_site14_Warehouse/storage_model', 'workday_meter2_site14_Warehouse/storage_model', 'nonworkday_meter2_site14_Warehouse/storage_model', 'workday_meter0_site15_Warehouse/storage_model', 'nonworkday_meter0_site15_Warehouse/storage_model', 'workday_meter1_site15_Warehouse/storage_model', 'nonworkday_meter1_site15_Warehouse/storage_model', 'workday_meter3_site15_Warehouse/storage_model', 'nonworkday_meter3_site15_Warehouse/storage_model', 'workday_meter2_site15_Warehouse/storage_model', 'nonworkday_meter2_site15_Warehouse/storage_model', 'workday_meter0_site0_Food sales and service_model', 'nonworkday_meter0_site0_Food sales and service_model', 'workday_meter1_site0_Food sales and service_model', 'nonworkday_meter1_site0_Food sales and service_model', 'workday_meter3_site0_Food sales and service_model', 'nonworkday_meter3_site0_Food sales and service_model', 'workday_meter2_site0_Food sales and service_model', 'nonworkday_meter2_site0_Food sales and service_model', 'workday_meter0_site1_Food sales and service_model', 'nonworkday_meter0_site1_Food sales and service_model', 'workday_meter1_site1_Food sales and service_model', 'nonworkday_meter1_site1_Food sales and service_model', 'workday_meter3_site1_Food sales and service_model', 'nonworkday_meter3_site1_Food sales and service_model', 'workday_meter2_site1_Food sales and service_model', 'nonworkday_meter2_site1_Food sales and service_model', 'workday_meter0_site2_Food sales and service_model', 'nonworkday_meter0_site2_Food sales and service_model', 'workday_meter1_site2_Food sales and service_model', 'nonworkday_meter1_site2_Food sales and service_model', 'workday_meter3_site2_Food sales and service_model', 'nonworkday_meter3_site2_Food sales and service_model', 'workday_meter2_site2_Food sales and service_model', 'nonworkday_meter2_site2_Food sales and service_model', 'workday_meter0_site3_Food sales and service_model', 'nonworkday_meter0_site3_Food sales and service_model', 'workday_meter1_site3_Food sales and service_model', 'nonworkday_meter1_site3_Food sales and service_model', 'workday_meter3_site3_Food sales and service_model', 'nonworkday_meter3_site3_Food sales and service_model', 'workday_meter2_site3_Food sales and service_model', 'nonworkday_meter2_site3_Food sales and service_model', 'workday_meter0_site4_Food sales and service_model', 'nonworkday_meter0_site4_Food sales and service_model', 'workday_meter1_site4_Food sales and service_model', 'nonworkday_meter1_site4_Food sales and service_model', 'workday_meter3_site4_Food sales and service_model', 'nonworkday_meter3_site4_Food sales and service_model', 'workday_meter2_site4_Food sales and service_model', 'nonworkday_meter2_site4_Food sales and service_model', 'workday_meter0_site5_Food sales and service_model', 'nonworkday_meter0_site5_Food sales and service_model', 'workday_meter1_site5_Food sales and service_model', 'nonworkday_meter1_site5_Food sales and service_model', 'workday_meter3_site5_Food sales and service_model', 'nonworkday_meter3_site5_Food sales and service_model', 'workday_meter2_site5_Food sales and service_model', 'nonworkday_meter2_site5_Food sales and service_model', 'workday_meter0_site6_Food sales and service_model', 'nonworkday_meter0_site6_Food sales and service_model', 'workday_meter1_site6_Food sales and service_model', 'nonworkday_meter1_site6_Food sales and service_model', 'workday_meter3_site6_Food sales and service_model', 'nonworkday_meter3_site6_Food sales and service_model', 'workday_meter2_site6_Food sales and service_model', 'nonworkday_meter2_site6_Food sales and service_model', 'workday_meter0_site7_Food sales and service_model', 'nonworkday_meter0_site7_Food sales and service_model', 'workday_meter1_site7_Food sales and service_model', 'nonworkday_meter1_site7_Food sales and service_model', 'workday_meter3_site7_Food sales and service_model', 'nonworkday_meter3_site7_Food sales and service_model', 'workday_meter2_site7_Food sales and service_model', 'nonworkday_meter2_site7_Food sales and service_model', 'workday_meter0_site8_Food sales and service_model', 'nonworkday_meter0_site8_Food sales and service_model', 'workday_meter1_site8_Food sales and service_model', 'nonworkday_meter1_site8_Food sales and service_model', 'workday_meter3_site8_Food sales and service_model', 'nonworkday_meter3_site8_Food sales and service_model', 'workday_meter2_site8_Food sales and service_model', 'nonworkday_meter2_site8_Food sales and service_model', 'workday_meter0_site9_Food sales and service_model', 'nonworkday_meter0_site9_Food sales and service_model', 'workday_meter1_site9_Food sales and service_model', 'nonworkday_meter1_site9_Food sales and service_model', 'workday_meter3_site9_Food sales and service_model', 'nonworkday_meter3_site9_Food sales and service_model', 'workday_meter2_site9_Food sales and service_model', 'nonworkday_meter2_site9_Food sales and service_model', 'workday_meter0_site10_Food sales and service_model', 'nonworkday_meter0_site10_Food sales and service_model', 'workday_meter1_site10_Food sales and service_model', 'nonworkday_meter1_site10_Food sales and service_model', 'workday_meter3_site10_Food sales and service_model', 'nonworkday_meter3_site10_Food sales and service_model', 'workday_meter2_site10_Food sales and service_model', 'nonworkday_meter2_site10_Food sales and service_model', 'workday_meter0_site11_Food sales and service_model', 'nonworkday_meter0_site11_Food sales and service_model', 'workday_meter1_site11_Food sales and service_model', 'nonworkday_meter1_site11_Food sales and service_model', 'workday_meter3_site11_Food sales and service_model', 'nonworkday_meter3_site11_Food sales and service_model', 'workday_meter2_site11_Food sales and service_model', 'nonworkday_meter2_site11_Food sales and service_model', 'workday_meter0_site12_Food sales and service_model', 'nonworkday_meter0_site12_Food sales and service_model', 'workday_meter1_site12_Food sales and service_model', 'nonworkday_meter1_site12_Food sales and service_model', 'workday_meter3_site12_Food sales and service_model', 'nonworkday_meter3_site12_Food sales and service_model', 'workday_meter2_site12_Food sales and service_model', 'nonworkday_meter2_site12_Food sales and service_model', 'workday_meter0_site13_Food sales and service_model', 'nonworkday_meter0_site13_Food sales and service_model', 'workday_meter1_site13_Food sales and service_model', 'nonworkday_meter1_site13_Food sales and service_model', 'workday_meter3_site13_Food sales and service_model', 'nonworkday_meter3_site13_Food sales and service_model', 'workday_meter2_site13_Food sales and service_model', 'nonworkday_meter2_site13_Food sales and service_model', 'workday_meter0_site14_Food sales and service_model', 'nonworkday_meter0_site14_Food sales and service_model', 'workday_meter1_site14_Food sales and service_model', 'nonworkday_meter1_site14_Food sales and service_model', 'workday_meter3_site14_Food sales and service_model', 'nonworkday_meter3_site14_Food sales and service_model', 'workday_meter2_site14_Food sales and service_model', 'nonworkday_meter2_site14_Food sales and service_model', 'workday_meter0_site15_Food sales and service_model', 'nonworkday_meter0_site15_Food sales and service_model', 'workday_meter1_site15_Food sales and service_model', 'nonworkday_meter1_site15_Food sales and service_model', 'workday_meter3_site15_Food sales and service_model', 'nonworkday_meter3_site15_Food sales and service_model', 'workday_meter2_site15_Food sales and service_model', 'nonworkday_meter2_site15_Food sales and service_model', 'workday_meter0_site0_Religious worship_model', 'nonworkday_meter0_site0_Religious worship_model', 'workday_meter1_site0_Religious worship_model', 'nonworkday_meter1_site0_Religious worship_model', 'workday_meter3_site0_Religious worship_model', 'nonworkday_meter3_site0_Religious worship_model', 'workday_meter2_site0_Religious worship_model', 'nonworkday_meter2_site0_Religious worship_model', 'workday_meter0_site1_Religious worship_model', 'nonworkday_meter0_site1_Religious worship_model', 'workday_meter1_site1_Religious worship_model', 'nonworkday_meter1_site1_Religious worship_model', 'workday_meter3_site1_Religious worship_model', 'nonworkday_meter3_site1_Religious worship_model', 'workday_meter2_site1_Religious worship_model', 'nonworkday_meter2_site1_Religious worship_model', 'workday_meter0_site2_Religious worship_model', 'nonworkday_meter0_site2_Religious worship_model', 'workday_meter1_site2_Religious worship_model', 'nonworkday_meter1_site2_Religious worship_model', 'workday_meter3_site2_Religious worship_model', 'nonworkday_meter3_site2_Religious worship_model', 'workday_meter2_site2_Religious worship_model', 'nonworkday_meter2_site2_Religious worship_model', 'workday_meter0_site3_Religious worship_model', 'nonworkday_meter0_site3_Religious worship_model', 'workday_meter1_site3_Religious worship_model', 'nonworkday_meter1_site3_Religious worship_model', 'workday_meter3_site3_Religious worship_model', 'nonworkday_meter3_site3_Religious worship_model', 'workday_meter2_site3_Religious worship_model', 'nonworkday_meter2_site3_Religious worship_model', 'workday_meter0_site4_Religious worship_model', 'nonworkday_meter0_site4_Religious worship_model', 'workday_meter1_site4_Religious worship_model', 'nonworkday_meter1_site4_Religious worship_model', 'workday_meter3_site4_Religious worship_model', 'nonworkday_meter3_site4_Religious worship_model', 'workday_meter2_site4_Religious worship_model', 'nonworkday_meter2_site4_Religious worship_model', 'workday_meter0_site5_Religious worship_model', 'nonworkday_meter0_site5_Religious worship_model', 'workday_meter1_site5_Religious worship_model', 'nonworkday_meter1_site5_Religious worship_model', 'workday_meter3_site5_Religious worship_model', 'nonworkday_meter3_site5_Religious worship_model', 'workday_meter2_site5_Religious worship_model', 'nonworkday_meter2_site5_Religious worship_model', 'workday_meter0_site6_Religious worship_model', 'nonworkday_meter0_site6_Religious worship_model', 'workday_meter1_site6_Religious worship_model', 'nonworkday_meter1_site6_Religious worship_model', 'workday_meter3_site6_Religious worship_model', 'nonworkday_meter3_site6_Religious worship_model', 'workday_meter2_site6_Religious worship_model', 'nonworkday_meter2_site6_Religious worship_model', 'workday_meter0_site7_Religious worship_model', 'nonworkday_meter0_site7_Religious worship_model', 'workday_meter1_site7_Religious worship_model', 'nonworkday_meter1_site7_Religious worship_model', 'workday_meter3_site7_Religious worship_model', 'nonworkday_meter3_site7_Religious worship_model', 'workday_meter2_site7_Religious worship_model', 'nonworkday_meter2_site7_Religious worship_model', 'workday_meter0_site8_Religious worship_model', 'nonworkday_meter0_site8_Religious worship_model', 'workday_meter1_site8_Religious worship_model', 'nonworkday_meter1_site8_Religious worship_model', 'workday_meter3_site8_Religious worship_model', 'nonworkday_meter3_site8_Religious worship_model', 'workday_meter2_site8_Religious worship_model', 'nonworkday_meter2_site8_Religious worship_model', 'workday_meter0_site9_Religious worship_model', 'nonworkday_meter0_site9_Religious worship_model', 'workday_meter1_site9_Religious worship_model', 'nonworkday_meter1_site9_Religious worship_model', 'workday_meter3_site9_Religious worship_model', 'nonworkday_meter3_site9_Religious worship_model', 'workday_meter2_site9_Religious worship_model', 'nonworkday_meter2_site9_Religious worship_model', 'workday_meter0_site10_Religious worship_model', 'nonworkday_meter0_site10_Religious worship_model', 'workday_meter1_site10_Religious worship_model', 'nonworkday_meter1_site10_Religious worship_model', 'workday_meter3_site10_Religious worship_model', 'nonworkday_meter3_site10_Religious worship_model', 'workday_meter2_site10_Religious worship_model', 'nonworkday_meter2_site10_Religious worship_model', 'workday_meter0_site11_Religious worship_model', 'nonworkday_meter0_site11_Religious worship_model', 'workday_meter1_site11_Religious worship_model', 'nonworkday_meter1_site11_Religious worship_model', 'workday_meter3_site11_Religious worship_model', 'nonworkday_meter3_site11_Religious worship_model', 'workday_meter2_site11_Religious worship_model', 'nonworkday_meter2_site11_Religious worship_model', 'workday_meter0_site12_Religious worship_model', 'nonworkday_meter0_site12_Religious worship_model', 'workday_meter1_site12_Religious worship_model', 'nonworkday_meter1_site12_Religious worship_model', 'workday_meter3_site12_Religious worship_model', 'nonworkday_meter3_site12_Religious worship_model', 'workday_meter2_site12_Religious worship_model', 'nonworkday_meter2_site12_Religious worship_model', 'workday_meter0_site13_Religious worship_model', 'nonworkday_meter0_site13_Religious worship_model', 'workday_meter1_site13_Religious worship_model', 'nonworkday_meter1_site13_Religious worship_model', 'workday_meter3_site13_Religious worship_model', 'nonworkday_meter3_site13_Religious worship_model', 'workday_meter2_site13_Religious worship_model', 'nonworkday_meter2_site13_Religious worship_model', 'workday_meter0_site14_Religious worship_model', 'nonworkday_meter0_site14_Religious worship_model', 'workday_meter1_site14_Religious worship_model', 'nonworkday_meter1_site14_Religious worship_model', 'workday_meter3_site14_Religious worship_model', 'nonworkday_meter3_site14_Religious worship_model', 'workday_meter2_site14_Religious worship_model', 'nonworkday_meter2_site14_Religious worship_model', 'workday_meter0_site15_Religious worship_model', 'nonworkday_meter0_site15_Religious worship_model', 'workday_meter1_site15_Religious worship_model', 'nonworkday_meter1_site15_Religious worship_model', 'workday_meter3_site15_Religious worship_model', 'nonworkday_meter3_site15_Religious worship_model', 'workday_meter2_site15_Religious worship_model', 'nonworkday_meter2_site15_Religious worship_model', 'workday_meter0_site0_Healthcare_model', 'nonworkday_meter0_site0_Healthcare_model', 'workday_meter1_site0_Healthcare_model', 'nonworkday_meter1_site0_Healthcare_model', 'workday_meter3_site0_Healthcare_model', 'nonworkday_meter3_site0_Healthcare_model', 'workday_meter2_site0_Healthcare_model', 'nonworkday_meter2_site0_Healthcare_model', 'workday_meter0_site1_Healthcare_model', 'nonworkday_meter0_site1_Healthcare_model', 'workday_meter1_site1_Healthcare_model', 'nonworkday_meter1_site1_Healthcare_model', 'workday_meter3_site1_Healthcare_model', 'nonworkday_meter3_site1_Healthcare_model', 'workday_meter2_site1_Healthcare_model', 'nonworkday_meter2_site1_Healthcare_model', 'workday_meter0_site2_Healthcare_model', 'nonworkday_meter0_site2_Healthcare_model', 'workday_meter1_site2_Healthcare_model', 'nonworkday_meter1_site2_Healthcare_model', 'workday_meter3_site2_Healthcare_model', 'nonworkday_meter3_site2_Healthcare_model', 'workday_meter2_site2_Healthcare_model', 'nonworkday_meter2_site2_Healthcare_model', 'workday_meter0_site3_Healthcare_model', 'nonworkday_meter0_site3_Healthcare_model', 'workday_meter1_site3_Healthcare_model', 'nonworkday_meter1_site3_Healthcare_model', 'workday_meter3_site3_Healthcare_model', 'nonworkday_meter3_site3_Healthcare_model', 'workday_meter2_site3_Healthcare_model', 'nonworkday_meter2_site3_Healthcare_model', 'workday_meter0_site4_Healthcare_model', 'nonworkday_meter0_site4_Healthcare_model', 'workday_meter1_site4_Healthcare_model', 'nonworkday_meter1_site4_Healthcare_model', 'workday_meter3_site4_Healthcare_model', 'nonworkday_meter3_site4_Healthcare_model', 'workday_meter2_site4_Healthcare_model', 'nonworkday_meter2_site4_Healthcare_model', 'workday_meter0_site5_Healthcare_model', 'nonworkday_meter0_site5_Healthcare_model', 'workday_meter1_site5_Healthcare_model', 'nonworkday_meter1_site5_Healthcare_model', 'workday_meter3_site5_Healthcare_model', 'nonworkday_meter3_site5_Healthcare_model', 'workday_meter2_site5_Healthcare_model', 'nonworkday_meter2_site5_Healthcare_model', 'workday_meter0_site6_Healthcare_model', 'nonworkday_meter0_site6_Healthcare_model', 'workday_meter1_site6_Healthcare_model', 'nonworkday_meter1_site6_Healthcare_model', 'workday_meter3_site6_Healthcare_model', 'nonworkday_meter3_site6_Healthcare_model', 'workday_meter2_site6_Healthcare_model', 'nonworkday_meter2_site6_Healthcare_model', 'workday_meter0_site7_Healthcare_model', 'nonworkday_meter0_site7_Healthcare_model', 'workday_meter1_site7_Healthcare_model', 'nonworkday_meter1_site7_Healthcare_model', 'workday_meter3_site7_Healthcare_model', 'nonworkday_meter3_site7_Healthcare_model', 'workday_meter2_site7_Healthcare_model', 'nonworkday_meter2_site7_Healthcare_model', 'workday_meter0_site8_Healthcare_model', 'nonworkday_meter0_site8_Healthcare_model', 'workday_meter1_site8_Healthcare_model', 'nonworkday_meter1_site8_Healthcare_model', 'workday_meter3_site8_Healthcare_model', 'nonworkday_meter3_site8_Healthcare_model', 'workday_meter2_site8_Healthcare_model', 'nonworkday_meter2_site8_Healthcare_model', 'workday_meter0_site9_Healthcare_model', 'nonworkday_meter0_site9_Healthcare_model', 'workday_meter1_site9_Healthcare_model', 'nonworkday_meter1_site9_Healthcare_model', 'workday_meter3_site9_Healthcare_model', 'nonworkday_meter3_site9_Healthcare_model', 'workday_meter2_site9_Healthcare_model', 'nonworkday_meter2_site9_Healthcare_model', 'workday_meter0_site10_Healthcare_model', 'nonworkday_meter0_site10_Healthcare_model', 'workday_meter1_site10_Healthcare_model', 'nonworkday_meter1_site10_Healthcare_model', 'workday_meter3_site10_Healthcare_model', 'nonworkday_meter3_site10_Healthcare_model', 'workday_meter2_site10_Healthcare_model', 'nonworkday_meter2_site10_Healthcare_model', 'workday_meter0_site11_Healthcare_model', 'nonworkday_meter0_site11_Healthcare_model', 'workday_meter1_site11_Healthcare_model', 'nonworkday_meter1_site11_Healthcare_model', 'workday_meter3_site11_Healthcare_model', 'nonworkday_meter3_site11_Healthcare_model', 'workday_meter2_site11_Healthcare_model', 'nonworkday_meter2_site11_Healthcare_model', 'workday_meter0_site12_Healthcare_model', 'nonworkday_meter0_site12_Healthcare_model', 'workday_meter1_site12_Healthcare_model', 'nonworkday_meter1_site12_Healthcare_model', 'workday_meter3_site12_Healthcare_model', 'nonworkday_meter3_site12_Healthcare_model', 'workday_meter2_site12_Healthcare_model', 'nonworkday_meter2_site12_Healthcare_model', 'workday_meter0_site13_Healthcare_model', 'nonworkday_meter0_site13_Healthcare_model', 'workday_meter1_site13_Healthcare_model', 'nonworkday_meter1_site13_Healthcare_model', 'workday_meter3_site13_Healthcare_model', 'nonworkday_meter3_site13_Healthcare_model', 'workday_meter2_site13_Healthcare_model', 'nonworkday_meter2_site13_Healthcare_model', 'workday_meter0_site14_Healthcare_model', 'nonworkday_meter0_site14_Healthcare_model', 'workday_meter1_site14_Healthcare_model', 'nonworkday_meter1_site14_Healthcare_model', 'workday_meter3_site14_Healthcare_model', 'nonworkday_meter3_site14_Healthcare_model', 'workday_meter2_site14_Healthcare_model', 'nonworkday_meter2_site14_Healthcare_model', 'workday_meter0_site15_Healthcare_model', 'nonworkday_meter0_site15_Healthcare_model', 'workday_meter1_site15_Healthcare_model', 'nonworkday_meter1_site15_Healthcare_model', 'workday_meter3_site15_Healthcare_model', 'nonworkday_meter3_site15_Healthcare_model', 'workday_meter2_site15_Healthcare_model', 'nonworkday_meter2_site15_Healthcare_model', 'workday_meter0_site0_Utility_model', 'nonworkday_meter0_site0_Utility_model', 'workday_meter1_site0_Utility_model', 'nonworkday_meter1_site0_Utility_model', 'workday_meter3_site0_Utility_model', 'nonworkday_meter3_site0_Utility_model', 'workday_meter2_site0_Utility_model', 'nonworkday_meter2_site0_Utility_model', 'workday_meter0_site1_Utility_model', 'nonworkday_meter0_site1_Utility_model', 'workday_meter1_site1_Utility_model', 'nonworkday_meter1_site1_Utility_model', 'workday_meter3_site1_Utility_model', 'nonworkday_meter3_site1_Utility_model', 'workday_meter2_site1_Utility_model', 'nonworkday_meter2_site1_Utility_model', 'workday_meter0_site2_Utility_model', 'nonworkday_meter0_site2_Utility_model', 'workday_meter1_site2_Utility_model', 'nonworkday_meter1_site2_Utility_model', 'workday_meter3_site2_Utility_model', 'nonworkday_meter3_site2_Utility_model', 'workday_meter2_site2_Utility_model', 'nonworkday_meter2_site2_Utility_model', 'workday_meter0_site3_Utility_model', 'nonworkday_meter0_site3_Utility_model', 'workday_meter1_site3_Utility_model', 'nonworkday_meter1_site3_Utility_model', 'workday_meter3_site3_Utility_model', 'nonworkday_meter3_site3_Utility_model', 'workday_meter2_site3_Utility_model', 'nonworkday_meter2_site3_Utility_model', 'workday_meter0_site4_Utility_model', 'nonworkday_meter0_site4_Utility_model', 'workday_meter1_site4_Utility_model', 'nonworkday_meter1_site4_Utility_model', 'workday_meter3_site4_Utility_model', 'nonworkday_meter3_site4_Utility_model', 'workday_meter2_site4_Utility_model', 'nonworkday_meter2_site4_Utility_model', 'workday_meter0_site5_Utility_model', 'nonworkday_meter0_site5_Utility_model', 'workday_meter1_site5_Utility_model', 'nonworkday_meter1_site5_Utility_model', 'workday_meter3_site5_Utility_model', 'nonworkday_meter3_site5_Utility_model', 'workday_meter2_site5_Utility_model', 'nonworkday_meter2_site5_Utility_model', 'workday_meter0_site6_Utility_model', 'nonworkday_meter0_site6_Utility_model', 'workday_meter1_site6_Utility_model', 'nonworkday_meter1_site6_Utility_model', 'workday_meter3_site6_Utility_model', 'nonworkday_meter3_site6_Utility_model', 'workday_meter2_site6_Utility_model', 'nonworkday_meter2_site6_Utility_model', 'workday_meter0_site7_Utility_model', 'nonworkday_meter0_site7_Utility_model', 'workday_meter1_site7_Utility_model', 'nonworkday_meter1_site7_Utility_model', 'workday_meter3_site7_Utility_model', 'nonworkday_meter3_site7_Utility_model', 'workday_meter2_site7_Utility_model', 'nonworkday_meter2_site7_Utility_model', 'workday_meter0_site8_Utility_model', 'nonworkday_meter0_site8_Utility_model', 'workday_meter1_site8_Utility_model', 'nonworkday_meter1_site8_Utility_model', 'workday_meter3_site8_Utility_model', 'nonworkday_meter3_site8_Utility_model', 'workday_meter2_site8_Utility_model', 'nonworkday_meter2_site8_Utility_model', 'workday_meter0_site9_Utility_model', 'nonworkday_meter0_site9_Utility_model', 'workday_meter1_site9_Utility_model', 'nonworkday_meter1_site9_Utility_model', 'workday_meter3_site9_Utility_model', 'nonworkday_meter3_site9_Utility_model', 'workday_meter2_site9_Utility_model', 'nonworkday_meter2_site9_Utility_model', 'workday_meter0_site10_Utility_model', 'nonworkday_meter0_site10_Utility_model', 'workday_meter1_site10_Utility_model', 'nonworkday_meter1_site10_Utility_model', 'workday_meter3_site10_Utility_model', 'nonworkday_meter3_site10_Utility_model', 'workday_meter2_site10_Utility_model', 'nonworkday_meter2_site10_Utility_model', 'workday_meter0_site11_Utility_model', 'nonworkday_meter0_site11_Utility_model', 'workday_meter1_site11_Utility_model', 'nonworkday_meter1_site11_Utility_model', 'workday_meter3_site11_Utility_model', 'nonworkday_meter3_site11_Utility_model', 'workday_meter2_site11_Utility_model', 'nonworkday_meter2_site11_Utility_model', 'workday_meter0_site12_Utility_model', 'nonworkday_meter0_site12_Utility_model', 'workday_meter1_site12_Utility_model', 'nonworkday_meter1_site12_Utility_model', 'workday_meter3_site12_Utility_model', 'nonworkday_meter3_site12_Utility_model', 'workday_meter2_site12_Utility_model', 'nonworkday_meter2_site12_Utility_model', 'workday_meter0_site13_Utility_model', 'nonworkday_meter0_site13_Utility_model', 'workday_meter1_site13_Utility_model', 'nonworkday_meter1_site13_Utility_model', 'workday_meter3_site13_Utility_model', 'nonworkday_meter3_site13_Utility_model', 'workday_meter2_site13_Utility_model', 'nonworkday_meter2_site13_Utility_model', 'workday_meter0_site14_Utility_model', 'nonworkday_meter0_site14_Utility_model', 'workday_meter1_site14_Utility_model', 'nonworkday_meter1_site14_Utility_model', 'workday_meter3_site14_Utility_model', 'nonworkday_meter3_site14_Utility_model', 'workday_meter2_site14_Utility_model', 'nonworkday_meter2_site14_Utility_model', 'workday_meter0_site15_Utility_model', 'nonworkday_meter0_site15_Utility_model', 'workday_meter1_site15_Utility_model', 'nonworkday_meter1_site15_Utility_model', 'workday_meter3_site15_Utility_model', 'nonworkday_meter3_site15_Utility_model', 'workday_meter2_site15_Utility_model', 'nonworkday_meter2_site15_Utility_model', 'workday_meter0_site0_Technology/science_model', 'nonworkday_meter0_site0_Technology/science_model', 'workday_meter1_site0_Technology/science_model', 'nonworkday_meter1_site0_Technology/science_model', 'workday_meter3_site0_Technology/science_model', 'nonworkday_meter3_site0_Technology/science_model', 'workday_meter2_site0_Technology/science_model', 'nonworkday_meter2_site0_Technology/science_model', 'workday_meter0_site1_Technology/science_model', 'nonworkday_meter0_site1_Technology/science_model', 'workday_meter1_site1_Technology/science_model', 'nonworkday_meter1_site1_Technology/science_model', 'workday_meter3_site1_Technology/science_model', 'nonworkday_meter3_site1_Technology/science_model', 'workday_meter2_site1_Technology/science_model', 'nonworkday_meter2_site1_Technology/science_model', 'workday_meter0_site2_Technology/science_model', 'nonworkday_meter0_site2_Technology/science_model', 'workday_meter1_site2_Technology/science_model', 'nonworkday_meter1_site2_Technology/science_model', 'workday_meter3_site2_Technology/science_model', 'nonworkday_meter3_site2_Technology/science_model', 'workday_meter2_site2_Technology/science_model', 'nonworkday_meter2_site2_Technology/science_model', 'workday_meter0_site3_Technology/science_model', 'nonworkday_meter0_site3_Technology/science_model', 'workday_meter1_site3_Technology/science_model', 'nonworkday_meter1_site3_Technology/science_model', 'workday_meter3_site3_Technology/science_model', 'nonworkday_meter3_site3_Technology/science_model', 'workday_meter2_site3_Technology/science_model', 'nonworkday_meter2_site3_Technology/science_model', 'workday_meter0_site4_Technology/science_model', 'nonworkday_meter0_site4_Technology/science_model', 'workday_meter1_site4_Technology/science_model', 'nonworkday_meter1_site4_Technology/science_model', 'workday_meter3_site4_Technology/science_model', 'nonworkday_meter3_site4_Technology/science_model', 'workday_meter2_site4_Technology/science_model', 'nonworkday_meter2_site4_Technology/science_model', 'workday_meter0_site5_Technology/science_model', 'nonworkday_meter0_site5_Technology/science_model', 'workday_meter1_site5_Technology/science_model', 'nonworkday_meter1_site5_Technology/science_model', 'workday_meter3_site5_Technology/science_model', 'nonworkday_meter3_site5_Technology/science_model', 'workday_meter2_site5_Technology/science_model', 'nonworkday_meter2_site5_Technology/science_model', 'workday_meter0_site6_Technology/science_model', 'nonworkday_meter0_site6_Technology/science_model', 'workday_meter1_site6_Technology/science_model', 'nonworkday_meter1_site6_Technology/science_model', 'workday_meter3_site6_Technology/science_model', 'nonworkday_meter3_site6_Technology/science_model', 'workday_meter2_site6_Technology/science_model', 'nonworkday_meter2_site6_Technology/science_model', 'workday_meter0_site7_Technology/science_model', 'nonworkday_meter0_site7_Technology/science_model', 'workday_meter1_site7_Technology/science_model', 'nonworkday_meter1_site7_Technology/science_model', 'workday_meter3_site7_Technology/science_model', 'nonworkday_meter3_site7_Technology/science_model', 'workday_meter2_site7_Technology/science_model', 'nonworkday_meter2_site7_Technology/science_model', 'workday_meter0_site8_Technology/science_model', 'nonworkday_meter0_site8_Technology/science_model', 'workday_meter1_site8_Technology/science_model', 'nonworkday_meter1_site8_Technology/science_model', 'workday_meter3_site8_Technology/science_model', 'nonworkday_meter3_site8_Technology/science_model', 'workday_meter2_site8_Technology/science_model', 'nonworkday_meter2_site8_Technology/science_model', 'workday_meter0_site9_Technology/science_model', 'nonworkday_meter0_site9_Technology/science_model', 'workday_meter1_site9_Technology/science_model', 'nonworkday_meter1_site9_Technology/science_model', 'workday_meter3_site9_Technology/science_model', 'nonworkday_meter3_site9_Technology/science_model', 'workday_meter2_site9_Technology/science_model', 'nonworkday_meter2_site9_Technology/science_model', 'workday_meter0_site10_Technology/science_model', 'nonworkday_meter0_site10_Technology/science_model', 'workday_meter1_site10_Technology/science_model', 'nonworkday_meter1_site10_Technology/science_model', 'workday_meter3_site10_Technology/science_model', 'nonworkday_meter3_site10_Technology/science_model', 'workday_meter2_site10_Technology/science_model', 'nonworkday_meter2_site10_Technology/science_model', 'workday_meter0_site11_Technology/science_model', 'nonworkday_meter0_site11_Technology/science_model', 'workday_meter1_site11_Technology/science_model', 'nonworkday_meter1_site11_Technology/science_model', 'workday_meter3_site11_Technology/science_model', 'nonworkday_meter3_site11_Technology/science_model', 'workday_meter2_site11_Technology/science_model', 'nonworkday_meter2_site11_Technology/science_model', 'workday_meter0_site12_Technology/science_model', 'nonworkday_meter0_site12_Technology/science_model', 'workday_meter1_site12_Technology/science_model', 'nonworkday_meter1_site12_Technology/science_model', 'workday_meter3_site12_Technology/science_model', 'nonworkday_meter3_site12_Technology/science_model', 'workday_meter2_site12_Technology/science_model', 'nonworkday_meter2_site12_Technology/science_model', 'workday_meter0_site13_Technology/science_model', 'nonworkday_meter0_site13_Technology/science_model', 'workday_meter1_site13_Technology/science_model', 'nonworkday_meter1_site13_Technology/science_model', 'workday_meter3_site13_Technology/science_model', 'nonworkday_meter3_site13_Technology/science_model', 'workday_meter2_site13_Technology/science_model', 'nonworkday_meter2_site13_Technology/science_model', 'workday_meter0_site14_Technology/science_model', 'nonworkday_meter0_site14_Technology/science_model', 'workday_meter1_site14_Technology/science_model', 'nonworkday_meter1_site14_Technology/science_model', 'workday_meter3_site14_Technology/science_model', 'nonworkday_meter3_site14_Technology/science_model', 'workday_meter2_site14_Technology/science_model', 'nonworkday_meter2_site14_Technology/science_model', 'workday_meter0_site15_Technology/science_model', 'nonworkday_meter0_site15_Technology/science_model', 'workday_meter1_site15_Technology/science_model', 'nonworkday_meter1_site15_Technology/science_model', 'workday_meter3_site15_Technology/science_model', 'nonworkday_meter3_site15_Technology/science_model', 'workday_meter2_site15_Technology/science_model', 'nonworkday_meter2_site15_Technology/science_model', 'workday_meter0_site0_Manufacturing/industrial_model', 'nonworkday_meter0_site0_Manufacturing/industrial_model', 'workday_meter1_site0_Manufacturing/industrial_model', 'nonworkday_meter1_site0_Manufacturing/industrial_model', 'workday_meter3_site0_Manufacturing/industrial_model', 'nonworkday_meter3_site0_Manufacturing/industrial_model', 'workday_meter2_site0_Manufacturing/industrial_model', 'nonworkday_meter2_site0_Manufacturing/industrial_model', 'workday_meter0_site1_Manufacturing/industrial_model', 'nonworkday_meter0_site1_Manufacturing/industrial_model', 'workday_meter1_site1_Manufacturing/industrial_model', 'nonworkday_meter1_site1_Manufacturing/industrial_model', 'workday_meter3_site1_Manufacturing/industrial_model', 'nonworkday_meter3_site1_Manufacturing/industrial_model', 'workday_meter2_site1_Manufacturing/industrial_model', 'nonworkday_meter2_site1_Manufacturing/industrial_model', 'workday_meter0_site2_Manufacturing/industrial_model', 'nonworkday_meter0_site2_Manufacturing/industrial_model', 'workday_meter1_site2_Manufacturing/industrial_model', 'nonworkday_meter1_site2_Manufacturing/industrial_model', 'workday_meter3_site2_Manufacturing/industrial_model', 'nonworkday_meter3_site2_Manufacturing/industrial_model', 'workday_meter2_site2_Manufacturing/industrial_model', 'nonworkday_meter2_site2_Manufacturing/industrial_model', 'workday_meter0_site3_Manufacturing/industrial_model', 'nonworkday_meter0_site3_Manufacturing/industrial_model', 'workday_meter1_site3_Manufacturing/industrial_model', 'nonworkday_meter1_site3_Manufacturing/industrial_model', 'workday_meter3_site3_Manufacturing/industrial_model', 'nonworkday_meter3_site3_Manufacturing/industrial_model', 'workday_meter2_site3_Manufacturing/industrial_model', 'nonworkday_meter2_site3_Manufacturing/industrial_model', 'workday_meter0_site4_Manufacturing/industrial_model', 'nonworkday_meter0_site4_Manufacturing/industrial_model', 'workday_meter1_site4_Manufacturing/industrial_model', 'nonworkday_meter1_site4_Manufacturing/industrial_model', 'workday_meter3_site4_Manufacturing/industrial_model', 'nonworkday_meter3_site4_Manufacturing/industrial_model', 'workday_meter2_site4_Manufacturing/industrial_model', 'nonworkday_meter2_site4_Manufacturing/industrial_model', 'workday_meter0_site5_Manufacturing/industrial_model', 'nonworkday_meter0_site5_Manufacturing/industrial_model', 'workday_meter1_site5_Manufacturing/industrial_model', 'nonworkday_meter1_site5_Manufacturing/industrial_model', 'workday_meter3_site5_Manufacturing/industrial_model', 'nonworkday_meter3_site5_Manufacturing/industrial_model', 'workday_meter2_site5_Manufacturing/industrial_model', 'nonworkday_meter2_site5_Manufacturing/industrial_model', 'workday_meter0_site6_Manufacturing/industrial_model', 'nonworkday_meter0_site6_Manufacturing/industrial_model', 'workday_meter1_site6_Manufacturing/industrial_model', 'nonworkday_meter1_site6_Manufacturing/industrial_model', 'workday_meter3_site6_Manufacturing/industrial_model', 'nonworkday_meter3_site6_Manufacturing/industrial_model', 'workday_meter2_site6_Manufacturing/industrial_model', 'nonworkday_meter2_site6_Manufacturing/industrial_model', 'workday_meter0_site7_Manufacturing/industrial_model', 'nonworkday_meter0_site7_Manufacturing/industrial_model', 'workday_meter1_site7_Manufacturing/industrial_model', 'nonworkday_meter1_site7_Manufacturing/industrial_model', 'workday_meter3_site7_Manufacturing/industrial_model', 'nonworkday_meter3_site7_Manufacturing/industrial_model', 'workday_meter2_site7_Manufacturing/industrial_model', 'nonworkday_meter2_site7_Manufacturing/industrial_model', 'workday_meter0_site8_Manufacturing/industrial_model', 'nonworkday_meter0_site8_Manufacturing/industrial_model', 'workday_meter1_site8_Manufacturing/industrial_model', 'nonworkday_meter1_site8_Manufacturing/industrial_model', 'workday_meter3_site8_Manufacturing/industrial_model', 'nonworkday_meter3_site8_Manufacturing/industrial_model', 'workday_meter2_site8_Manufacturing/industrial_model', 'nonworkday_meter2_site8_Manufacturing/industrial_model', 'workday_meter0_site9_Manufacturing/industrial_model', 'nonworkday_meter0_site9_Manufacturing/industrial_model', 'workday_meter1_site9_Manufacturing/industrial_model', 'nonworkday_meter1_site9_Manufacturing/industrial_model', 'workday_meter3_site9_Manufacturing/industrial_model', 'nonworkday_meter3_site9_Manufacturing/industrial_model', 'workday_meter2_site9_Manufacturing/industrial_model', 'nonworkday_meter2_site9_Manufacturing/industrial_model', 'workday_meter0_site10_Manufacturing/industrial_model', 'nonworkday_meter0_site10_Manufacturing/industrial_model', 'workday_meter1_site10_Manufacturing/industrial_model', 'nonworkday_meter1_site10_Manufacturing/industrial_model', 'workday_meter3_site10_Manufacturing/industrial_model', 'nonworkday_meter3_site10_Manufacturing/industrial_model', 'workday_meter2_site10_Manufacturing/industrial_model', 'nonworkday_meter2_site10_Manufacturing/industrial_model', 'workday_meter0_site11_Manufacturing/industrial_model', 'nonworkday_meter0_site11_Manufacturing/industrial_model', 'workday_meter1_site11_Manufacturing/industrial_model', 'nonworkday_meter1_site11_Manufacturing/industrial_model', 'workday_meter3_site11_Manufacturing/industrial_model', 'nonworkday_meter3_site11_Manufacturing/industrial_model', 'workday_meter2_site11_Manufacturing/industrial_model', 'nonworkday_meter2_site11_Manufacturing/industrial_model', 'workday_meter0_site12_Manufacturing/industrial_model', 'nonworkday_meter0_site12_Manufacturing/industrial_model', 'workday_meter1_site12_Manufacturing/industrial_model', 'nonworkday_meter1_site12_Manufacturing/industrial_model', 'workday_meter3_site12_Manufacturing/industrial_model', 'nonworkday_meter3_site12_Manufacturing/industrial_model', 'workday_meter2_site12_Manufacturing/industrial_model', 'nonworkday_meter2_site12_Manufacturing/industrial_model', 'workday_meter0_site13_Manufacturing/industrial_model', 'nonworkday_meter0_site13_Manufacturing/industrial_model', 'workday_meter1_site13_Manufacturing/industrial_model', 'nonworkday_meter1_site13_Manufacturing/industrial_model', 'workday_meter3_site13_Manufacturing/industrial_model', 'nonworkday_meter3_site13_Manufacturing/industrial_model', 'workday_meter2_site13_Manufacturing/industrial_model', 'nonworkday_meter2_site13_Manufacturing/industrial_model', 'workday_meter0_site14_Manufacturing/industrial_model', 'nonworkday_meter0_site14_Manufacturing/industrial_model', 'workday_meter1_site14_Manufacturing/industrial_model', 'nonworkday_meter1_site14_Manufacturing/industrial_model', 'workday_meter3_site14_Manufacturing/industrial_model', 'nonworkday_meter3_site14_Manufacturing/industrial_model', 'workday_meter2_site14_Manufacturing/industrial_model', 'nonworkday_meter2_site14_Manufacturing/industrial_model', 'workday_meter0_site15_Manufacturing/industrial_model', 'nonworkday_meter0_site15_Manufacturing/industrial_model', 'workday_meter1_site15_Manufacturing/industrial_model', 'nonworkday_meter1_site15_Manufacturing/industrial_model', 'workday_meter3_site15_Manufacturing/industrial_model', 'nonworkday_meter3_site15_Manufacturing/industrial_model', 'workday_meter2_site15_Manufacturing/industrial_model', 'nonworkday_meter2_site15_Manufacturing/industrial_model', 'workday_meter0_site0_Services_model', 'nonworkday_meter0_site0_Services_model', 'workday_meter1_site0_Services_model', 'nonworkday_meter1_site0_Services_model', 'workday_meter3_site0_Services_model', 'nonworkday_meter3_site0_Services_model', 'workday_meter2_site0_Services_model', 'nonworkday_meter2_site0_Services_model', 'workday_meter0_site1_Services_model', 'nonworkday_meter0_site1_Services_model', 'workday_meter1_site1_Services_model', 'nonworkday_meter1_site1_Services_model', 'workday_meter3_site1_Services_model', 'nonworkday_meter3_site1_Services_model', 'workday_meter2_site1_Services_model', 'nonworkday_meter2_site1_Services_model', 'workday_meter0_site2_Services_model', 'nonworkday_meter0_site2_Services_model', 'workday_meter1_site2_Services_model', 'nonworkday_meter1_site2_Services_model', 'workday_meter3_site2_Services_model', 'nonworkday_meter3_site2_Services_model', 'workday_meter2_site2_Services_model', 'nonworkday_meter2_site2_Services_model', 'workday_meter0_site3_Services_model', 'nonworkday_meter0_site3_Services_model', 'workday_meter1_site3_Services_model', 'nonworkday_meter1_site3_Services_model', 'workday_meter3_site3_Services_model', 'nonworkday_meter3_site3_Services_model', 'workday_meter2_site3_Services_model', 'nonworkday_meter2_site3_Services_model', 'workday_meter0_site4_Services_model', 'nonworkday_meter0_site4_Services_model', 'workday_meter1_site4_Services_model', 'nonworkday_meter1_site4_Services_model', 'workday_meter3_site4_Services_model', 'nonworkday_meter3_site4_Services_model', 'workday_meter2_site4_Services_model', 'nonworkday_meter2_site4_Services_model', 'workday_meter0_site5_Services_model', 'nonworkday_meter0_site5_Services_model', 'workday_meter1_site5_Services_model', 'nonworkday_meter1_site5_Services_model', 'workday_meter3_site5_Services_model', 'nonworkday_meter3_site5_Services_model', 'workday_meter2_site5_Services_model', 'nonworkday_meter2_site5_Services_model', 'workday_meter0_site6_Services_model', 'nonworkday_meter0_site6_Services_model', 'workday_meter1_site6_Services_model', 'nonworkday_meter1_site6_Services_model', 'workday_meter3_site6_Services_model', 'nonworkday_meter3_site6_Services_model', 'workday_meter2_site6_Services_model', 'nonworkday_meter2_site6_Services_model', 'workday_meter0_site7_Services_model', 'nonworkday_meter0_site7_Services_model', 'workday_meter1_site7_Services_model', 'nonworkday_meter1_site7_Services_model', 'workday_meter3_site7_Services_model', 'nonworkday_meter3_site7_Services_model', 'workday_meter2_site7_Services_model', 'nonworkday_meter2_site7_Services_model', 'workday_meter0_site8_Services_model', 'nonworkday_meter0_site8_Services_model', 'workday_meter1_site8_Services_model', 'nonworkday_meter1_site8_Services_model', 'workday_meter3_site8_Services_model', 'nonworkday_meter3_site8_Services_model', 'workday_meter2_site8_Services_model', 'nonworkday_meter2_site8_Services_model', 'workday_meter0_site9_Services_model', 'nonworkday_meter0_site9_Services_model', 'workday_meter1_site9_Services_model', 'nonworkday_meter1_site9_Services_model', 'workday_meter3_site9_Services_model', 'nonworkday_meter3_site9_Services_model', 'workday_meter2_site9_Services_model', 'nonworkday_meter2_site9_Services_model', 'workday_meter0_site10_Services_model', 'nonworkday_meter0_site10_Services_model', 'workday_meter1_site10_Services_model', 'nonworkday_meter1_site10_Services_model', 'workday_meter3_site10_Services_model', 'nonworkday_meter3_site10_Services_model', 'workday_meter2_site10_Services_model', 'nonworkday_meter2_site10_Services_model', 'workday_meter0_site11_Services_model', 'nonworkday_meter0_site11_Services_model', 'workday_meter1_site11_Services_model', 'nonworkday_meter1_site11_Services_model', 'workday_meter3_site11_Services_model', 'nonworkday_meter3_site11_Services_model', 'workday_meter2_site11_Services_model', 'nonworkday_meter2_site11_Services_model', 'workday_meter0_site12_Services_model', 'nonworkday_meter0_site12_Services_model', 'workday_meter1_site12_Services_model', 'nonworkday_meter1_site12_Services_model', 'workday_meter3_site12_Services_model', 'nonworkday_meter3_site12_Services_model', 'workday_meter2_site12_Services_model', 'nonworkday_meter2_site12_Services_model', 'workday_meter0_site13_Services_model', 'nonworkday_meter0_site13_Services_model', 'workday_meter1_site13_Services_model', 'nonworkday_meter1_site13_Services_model', 'workday_meter3_site13_Services_model', 'nonworkday_meter3_site13_Services_model', 'workday_meter2_site13_Services_model', 'nonworkday_meter2_site13_Services_model', 'workday_meter0_site14_Services_model', 'nonworkday_meter0_site14_Services_model', 'workday_meter1_site14_Services_model', 'nonworkday_meter1_site14_Services_model', 'workday_meter3_site14_Services_model', 'nonworkday_meter3_site14_Services_model', 'workday_meter2_site14_Services_model', 'nonworkday_meter2_site14_Services_model', 'workday_meter0_site15_Services_model', 'nonworkday_meter0_site15_Services_model', 'workday_meter1_site15_Services_model', 'nonworkday_meter1_site15_Services_model', 'workday_meter3_site15_Services_model', 'nonworkday_meter3_site15_Services_model', 'workday_meter2_site15_Services_model', 'nonworkday_meter2_site15_Services_model'])\n"
     ]
    }
   ],
   "source": [
    "print(usage_meters_site_workday_models.keys())"
   ]
  },
  {
   "cell_type": "code",
   "execution_count": 35,
   "metadata": {},
   "outputs": [],
   "source": [
    "# model = usage_meters_workday_models['nonworkday_Manufacturing/industrial_2_model']\n",
    "# corrmat = model.corr()\n",
    "# top_corr_features = corrmat.index\n",
    "# plt.figure(figsize=(20,20))\n",
    "# #plot heat map\n",
    "# g=seabornInstance.heatmap(model[top_corr_features].corr(),annot=True,cmap=\"RdYlGn\")"
   ]
  },
  {
   "cell_type": "code",
   "execution_count": 53,
   "metadata": {},
   "outputs": [],
   "source": [
    "means = {}\n",
    "for model in usage_meters_site_workday_models:\n",
    "    means[model + \"_mean\"] = usage_meters_site_workday_models[model]['meter_reading'].std()"
   ]
  },
  {
   "cell_type": "code",
   "execution_count": 5,
   "metadata": {},
   "outputs": [
    {
     "ename": "NameError",
     "evalue": "name 'means' is not defined",
     "output_type": "error",
     "traceback": [
      "\u001b[0;31m---------------------------------------------------------------------------\u001b[0m",
      "\u001b[0;31mNameError\u001b[0m                                 Traceback (most recent call last)",
      "\u001b[0;32m<ipython-input-5-07250a1c38cf>\u001b[0m in \u001b[0;36m<module>\u001b[0;34m()\u001b[0m\n\u001b[0;32m----> 1\u001b[0;31m \u001b[0mprint\u001b[0m\u001b[0;34m(\u001b[0m\u001b[0mmeans\u001b[0m\u001b[0;34m.\u001b[0m\u001b[0mshape\u001b[0m\u001b[0;34m)\u001b[0m\u001b[0;34m\u001b[0m\u001b[0m\n\u001b[0m",
      "\u001b[0;31mNameError\u001b[0m: name 'means' is not defined"
     ]
    }
   ],
   "source": [
    "print(means.shape)"
   ]
  },
  {
   "cell_type": "code",
   "execution_count": null,
   "metadata": {},
   "outputs": [],
   "source": [
    "regressors = {}\n",
    "for model in usage_meters_site_workday_models:\n",
    "    regressors[model] = LinearRegression()\n",
    "    regressors[model].fit(X_train, y_train)\n",
    "    for meter in meters:\n",
    "        usage_meters_models[\"meter\" + str(meter) + \"_\" + model] = currModel.loc[currModel.meter == meter]"
   ]
  },
  {
   "cell_type": "markdown",
   "metadata": {},
   "source": [
    "# Decision Tree Model"
   ]
  },
  {
   "cell_type": "code",
   "execution_count": 5,
   "metadata": {},
   "outputs": [],
   "source": [
    "trainJoinBldg = pd.merge(energyTrain, bldgData, on='building_id')\n",
    "fullTraining = pd.merge(trainJoinBldg, allWeather, how='left', on=['site_id', 'timestamp'])"
   ]
  },
  {
   "cell_type": "code",
   "execution_count": 6,
   "metadata": {},
   "outputs": [],
   "source": [
    "fullTraining5 = fullTraining\n",
    "fullTraining5[\"timestamp\"] = pd.to_datetime(fullTraining5[\"timestamp\"])"
   ]
  },
  {
   "cell_type": "code",
   "execution_count": 8,
   "metadata": {},
   "outputs": [],
   "source": [
    "#this takes a while (around 3 minutes)\n",
    "fullTraining5['workday'] = [0 if x.weekday() > 4 else 1 for x in fullTraining5['timestamp']]"
   ]
  },
  {
   "cell_type": "code",
   "execution_count": 9,
   "metadata": {},
   "outputs": [],
   "source": [
    "sr = fullTraining5['timestamp']\n",
    "fullTraining5['hour'] = sr.dt.hour"
   ]
  },
  {
   "cell_type": "code",
   "execution_count": 10,
   "metadata": {},
   "outputs": [],
   "source": [
    "airTempMean = fullTraining5['air_temperature'].mean()\n",
    "fullTraining5['air_temperature'] - airTempMean\n",
    "fullTraining5['air_temperature'] = fullTraining5['air_temperature'].abs()\n",
    "fullTraining5['year_built'] = 2019 - fullTraining5['year_built']"
   ]
  },
  {
   "cell_type": "code",
   "execution_count": 43,
   "metadata": {},
   "outputs": [],
   "source": [
    "# fullTraining5Dummies = pd.get_dummies(fullTraining5, columns=['meter', 'primary_use', 'site_id'], drop_first=True)"
   ]
  },
  {
   "cell_type": "code",
   "execution_count": 18,
   "metadata": {},
   "outputs": [],
   "source": [
    "le = preprocessing.LabelEncoder()"
   ]
  },
  {
   "cell_type": "code",
   "execution_count": 19,
   "metadata": {},
   "outputs": [
    {
     "data": {
      "text/plain": [
       "LabelEncoder()"
      ]
     },
     "execution_count": 19,
     "metadata": {},
     "output_type": "execute_result"
    }
   ],
   "source": [
    "le.fit(fullTraining5['primary_use'])"
   ]
  },
  {
   "cell_type": "code",
   "execution_count": 23,
   "metadata": {},
   "outputs": [],
   "source": [
    "fullTraining5['primary_use'] = le.transform(fullTraining5['primary_use'])"
   ]
  },
  {
   "cell_type": "code",
   "execution_count": 57,
   "metadata": {},
   "outputs": [
    {
     "data": {
      "text/plain": [
       "[0, 4, 6, 1, 7, 11, 8, 9, 15, 2, 10, 3, 14, 13, 5, 12]"
      ]
     },
     "execution_count": 57,
     "metadata": {},
     "output_type": "execute_result"
    }
   ],
   "source": [
    "fullTraining5['primary_use'].unique().tolist()"
   ]
  },
  {
   "cell_type": "code",
   "execution_count": 30,
   "metadata": {},
   "outputs": [],
   "source": [
    "#Splitting into features and labels\n",
    "X = fullTraining5[['meter', 'site_id', 'primary_use', 'square_feet',\n",
    "       'year_built', 'floor_count', 'air_temperature', 'workday', 'hour']].values\n",
    "y = fullTraining5['meter_reading'].values"
   ]
  },
  {
   "cell_type": "code",
   "execution_count": 31,
   "metadata": {},
   "outputs": [],
   "source": [
    "#replace null values with column means\n",
    "indsX = np.where(np.isnan(X))\n",
    "col_mean = np.nanmean(X, axis=1)\n",
    "X[indsX] = np.take(col_mean, indsX[1])"
   ]
  },
  {
   "cell_type": "code",
   "execution_count": 33,
   "metadata": {},
   "outputs": [],
   "source": [
    "X_train, X_test, y_train, y_test = train_test_split(X, y, test_size=0.2, random_state=0)"
   ]
  },
  {
   "cell_type": "code",
   "execution_count": 45,
   "metadata": {},
   "outputs": [
    {
     "data": {
      "text/plain": [
       "DecisionTreeRegressor(criterion='mse', max_depth=None, max_features=None,\n",
       "           max_leaf_nodes=None, min_impurity_decrease=0.0,\n",
       "           min_impurity_split=None, min_samples_leaf=1,\n",
       "           min_samples_split=2, min_weight_fraction_leaf=0.0,\n",
       "           presort=False, random_state=None, splitter='best')"
      ]
     },
     "execution_count": 45,
     "metadata": {},
     "output_type": "execute_result"
    }
   ],
   "source": [
    "model = tree.DecisionTreeRegressor()\n",
    "model.fit(X, y)"
   ]
  },
  {
   "cell_type": "code",
   "execution_count": 46,
   "metadata": {},
   "outputs": [
    {
     "data": {
      "text/plain": [
       "0.46961054778219996"
      ]
     },
     "execution_count": 46,
     "metadata": {},
     "output_type": "execute_result"
    }
   ],
   "source": [
    "model.score(X, y)"
   ]
  },
  {
   "cell_type": "code",
   "execution_count": 37,
   "metadata": {},
   "outputs": [],
   "source": [
    "predicted = model.predict(X_test)"
   ]
  },
  {
   "cell_type": "code",
   "execution_count": 38,
   "metadata": {},
   "outputs": [
    {
     "name": "stdout",
     "output_type": "stream",
     "text": [
      "[104.5        128.5096       2.8209     ...   0.         367.58136667\n",
      " 109.568     ]\n"
     ]
    }
   ],
   "source": [
    "print(predicted)"
   ]
  },
  {
   "cell_type": "code",
   "execution_count": 39,
   "metadata": {},
   "outputs": [
    {
     "data": {
      "text/html": [
       "<div>\n",
       "<style scoped>\n",
       "    .dataframe tbody tr th:only-of-type {\n",
       "        vertical-align: middle;\n",
       "    }\n",
       "\n",
       "    .dataframe tbody tr th {\n",
       "        vertical-align: top;\n",
       "    }\n",
       "\n",
       "    .dataframe thead th {\n",
       "        text-align: right;\n",
       "    }\n",
       "</style>\n",
       "<table border=\"1\" class=\"dataframe\">\n",
       "  <thead>\n",
       "    <tr style=\"text-align: right;\">\n",
       "      <th></th>\n",
       "      <th>Actual</th>\n",
       "      <th>Predicted</th>\n",
       "    </tr>\n",
       "  </thead>\n",
       "  <tbody>\n",
       "    <tr>\n",
       "      <th>0</th>\n",
       "      <td>109.0000</td>\n",
       "      <td>104.500000</td>\n",
       "    </tr>\n",
       "    <tr>\n",
       "      <th>1</th>\n",
       "      <td>17.4250</td>\n",
       "      <td>128.509600</td>\n",
       "    </tr>\n",
       "    <tr>\n",
       "      <th>2</th>\n",
       "      <td>4.1231</td>\n",
       "      <td>2.820900</td>\n",
       "    </tr>\n",
       "    <tr>\n",
       "      <th>3</th>\n",
       "      <td>1089.8000</td>\n",
       "      <td>1042.270000</td>\n",
       "    </tr>\n",
       "    <tr>\n",
       "      <th>4</th>\n",
       "      <td>82.9440</td>\n",
       "      <td>82.944000</td>\n",
       "    </tr>\n",
       "    <tr>\n",
       "      <th>5</th>\n",
       "      <td>65.4333</td>\n",
       "      <td>51.275000</td>\n",
       "    </tr>\n",
       "    <tr>\n",
       "      <th>6</th>\n",
       "      <td>6.0000</td>\n",
       "      <td>7.214286</td>\n",
       "    </tr>\n",
       "    <tr>\n",
       "      <th>7</th>\n",
       "      <td>8.7921</td>\n",
       "      <td>0.000000</td>\n",
       "    </tr>\n",
       "    <tr>\n",
       "      <th>8</th>\n",
       "      <td>185.0000</td>\n",
       "      <td>108.666667</td>\n",
       "    </tr>\n",
       "    <tr>\n",
       "      <th>9</th>\n",
       "      <td>0.3332</td>\n",
       "      <td>4.748100</td>\n",
       "    </tr>\n",
       "    <tr>\n",
       "      <th>10</th>\n",
       "      <td>156.0000</td>\n",
       "      <td>161.000000</td>\n",
       "    </tr>\n",
       "    <tr>\n",
       "      <th>11</th>\n",
       "      <td>1099.9400</td>\n",
       "      <td>1025.463000</td>\n",
       "    </tr>\n",
       "    <tr>\n",
       "      <th>12</th>\n",
       "      <td>800.2930</td>\n",
       "      <td>685.495800</td>\n",
       "    </tr>\n",
       "    <tr>\n",
       "      <th>13</th>\n",
       "      <td>35.6946</td>\n",
       "      <td>0.349100</td>\n",
       "    </tr>\n",
       "    <tr>\n",
       "      <th>14</th>\n",
       "      <td>20.3000</td>\n",
       "      <td>24.406000</td>\n",
       "    </tr>\n",
       "    <tr>\n",
       "      <th>15</th>\n",
       "      <td>202.9180</td>\n",
       "      <td>235.298800</td>\n",
       "    </tr>\n",
       "    <tr>\n",
       "      <th>16</th>\n",
       "      <td>520.6700</td>\n",
       "      <td>308.603600</td>\n",
       "    </tr>\n",
       "    <tr>\n",
       "      <th>17</th>\n",
       "      <td>639.6950</td>\n",
       "      <td>320.761231</td>\n",
       "    </tr>\n",
       "    <tr>\n",
       "      <th>18</th>\n",
       "      <td>12.0000</td>\n",
       "      <td>11.000000</td>\n",
       "    </tr>\n",
       "    <tr>\n",
       "      <th>19</th>\n",
       "      <td>54.2294</td>\n",
       "      <td>69.626600</td>\n",
       "    </tr>\n",
       "    <tr>\n",
       "      <th>20</th>\n",
       "      <td>14.3430</td>\n",
       "      <td>8.500000</td>\n",
       "    </tr>\n",
       "    <tr>\n",
       "      <th>21</th>\n",
       "      <td>10.2000</td>\n",
       "      <td>16.368000</td>\n",
       "    </tr>\n",
       "    <tr>\n",
       "      <th>22</th>\n",
       "      <td>899.6400</td>\n",
       "      <td>719.712000</td>\n",
       "    </tr>\n",
       "    <tr>\n",
       "      <th>23</th>\n",
       "      <td>76.2805</td>\n",
       "      <td>99.541040</td>\n",
       "    </tr>\n",
       "    <tr>\n",
       "      <th>24</th>\n",
       "      <td>93.4900</td>\n",
       "      <td>82.688000</td>\n",
       "    </tr>\n",
       "  </tbody>\n",
       "</table>\n",
       "</div>"
      ],
      "text/plain": [
       "       Actual    Predicted\n",
       "0    109.0000   104.500000\n",
       "1     17.4250   128.509600\n",
       "2      4.1231     2.820900\n",
       "3   1089.8000  1042.270000\n",
       "4     82.9440    82.944000\n",
       "5     65.4333    51.275000\n",
       "6      6.0000     7.214286\n",
       "7      8.7921     0.000000\n",
       "8    185.0000   108.666667\n",
       "9      0.3332     4.748100\n",
       "10   156.0000   161.000000\n",
       "11  1099.9400  1025.463000\n",
       "12   800.2930   685.495800\n",
       "13    35.6946     0.349100\n",
       "14    20.3000    24.406000\n",
       "15   202.9180   235.298800\n",
       "16   520.6700   308.603600\n",
       "17   639.6950   320.761231\n",
       "18    12.0000    11.000000\n",
       "19    54.2294    69.626600\n",
       "20    14.3430     8.500000\n",
       "21    10.2000    16.368000\n",
       "22   899.6400   719.712000\n",
       "23    76.2805    99.541040\n",
       "24    93.4900    82.688000"
      ]
     },
     "execution_count": 39,
     "metadata": {},
     "output_type": "execute_result"
    }
   ],
   "source": [
    "df = pd.DataFrame({'Actual': y_test, 'Predicted': predicted})\n",
    "df1 = df.head(25)\n",
    "df1"
   ]
  },
  {
   "cell_type": "code",
   "execution_count": 40,
   "metadata": {
    "scrolled": true
   },
   "outputs": [
    {
     "name": "stdout",
     "output_type": "stream",
     "text": [
      "Mean Absolute Error: 2456.362356447426\n",
      "Mean Squared Error: 22552413042.91948\n",
      "Root Mean Squared Error: 150174.60851595213\n"
     ]
    }
   ],
   "source": [
    "print('Mean Absolute Error:', metrics.mean_absolute_error(y_test, predicted))  \n",
    "print('Mean Squared Error:', metrics.mean_squared_error(y_test, predicted))  \n",
    "print('Root Mean Squared Error:', np.sqrt(metrics.mean_squared_error(y_test, predicted)))"
   ]
  },
  {
   "cell_type": "code",
   "execution_count": 44,
   "metadata": {},
   "outputs": [
    {
     "data": {
      "text/plain": [
       "2157.955900987556"
      ]
     },
     "execution_count": 44,
     "metadata": {},
     "output_type": "execute_result"
    }
   ],
   "source": [
    "y_test.mean()"
   ]
  },
  {
   "cell_type": "markdown",
   "metadata": {},
   "source": [
    "# Testing Tree Model"
   ]
  },
  {
   "cell_type": "code",
   "execution_count": 47,
   "metadata": {
    "scrolled": true
   },
   "outputs": [],
   "source": [
    "testJoinBldg = pd.merge(energyTest, bldgData, sort=True, on='building_id')\n",
    "fullTesting5 = pd.merge(testJoinBldg, allWeather, sort=True, how='left', on=['site_id', 'timestamp'])"
   ]
  },
  {
   "cell_type": "code",
   "execution_count": 48,
   "metadata": {},
   "outputs": [],
   "source": [
    "fullTesting5[\"timestamp\"] = pd.to_datetime(fullTesting5[\"timestamp\"])"
   ]
  },
  {
   "cell_type": "code",
   "execution_count": 49,
   "metadata": {},
   "outputs": [],
   "source": [
    "#this takes a while (around 3 minutes)\n",
    "fullTesting5['workday'] = [0 if x.weekday() > 4 else 1 for x in fullTesting5['timestamp']]"
   ]
  },
  {
   "cell_type": "code",
   "execution_count": 50,
   "metadata": {},
   "outputs": [],
   "source": [
    "sr = fullTesting5['timestamp']\n",
    "fullTesting5['hour'] = sr.dt.hour"
   ]
  },
  {
   "cell_type": "code",
   "execution_count": 51,
   "metadata": {},
   "outputs": [],
   "source": [
    "airTempMean = fullTesting5['air_temperature'].mean()\n",
    "fullTesting5['air_temperature'] - airTempMean\n",
    "fullTesting5['air_temperature'] = fullTesting5['air_temperature'].abs()\n",
    "fullTesting5['year_built'] = 2019 - fullTesting5['year_built']"
   ]
  },
  {
   "cell_type": "code",
   "execution_count": 52,
   "metadata": {},
   "outputs": [],
   "source": [
    "le_test = preprocessing.LabelEncoder()"
   ]
  },
  {
   "cell_type": "code",
   "execution_count": 53,
   "metadata": {},
   "outputs": [
    {
     "data": {
      "text/plain": [
       "LabelEncoder()"
      ]
     },
     "execution_count": 53,
     "metadata": {},
     "output_type": "execute_result"
    }
   ],
   "source": [
    "le_test.fit(fullTesting5['primary_use'])"
   ]
  },
  {
   "cell_type": "code",
   "execution_count": 54,
   "metadata": {},
   "outputs": [],
   "source": [
    "fullTesting5['primary_use'] = le_test.transform(fullTesting5['primary_use'])"
   ]
  },
  {
   "cell_type": "code",
   "execution_count": 56,
   "metadata": {},
   "outputs": [
    {
     "data": {
      "text/plain": [
       "[0, 4, 6, 1, 7, 11, 8, 9, 15, 2, 10, 3, 14, 13, 5, 12]"
      ]
     },
     "execution_count": 56,
     "metadata": {},
     "output_type": "execute_result"
    }
   ],
   "source": [
    "fullTesting5['primary_use'].unique().tolist()"
   ]
  },
  {
   "cell_type": "code",
   "execution_count": 58,
   "metadata": {},
   "outputs": [],
   "source": [
    "#Splitting into features and labels\n",
    "X_test = fullTesting5[['meter', 'site_id', 'primary_use', 'square_feet',\n",
    "       'year_built', 'floor_count', 'air_temperature', 'workday', 'hour']].values"
   ]
  },
  {
   "cell_type": "code",
   "execution_count": 59,
   "metadata": {},
   "outputs": [],
   "source": [
    "#replace null values with column means\n",
    "indsX = np.where(np.isnan(X_test))\n",
    "col_mean = np.nanmean(X_test, axis=1)\n",
    "X_test[indsX] = np.take(col_mean, indsX[1])"
   ]
  },
  {
   "cell_type": "code",
   "execution_count": 60,
   "metadata": {},
   "outputs": [],
   "source": [
    "y_test_pred = model.predict(X_test)"
   ]
  },
  {
   "cell_type": "code",
   "execution_count": 61,
   "metadata": {
    "scrolled": true
   },
   "outputs": [
    {
     "name": "stdout",
     "output_type": "stream",
     "text": [
      "[ 54.83233333  19.3847       2.04766667 113.41866667 472.33      ]\n"
     ]
    }
   ],
   "source": [
    "print(y_test_pred[:5])"
   ]
  },
  {
   "cell_type": "code",
   "execution_count": 62,
   "metadata": {
    "scrolled": true
   },
   "outputs": [
    {
     "name": "stdout",
     "output_type": "stream",
     "text": [
      "[[0.00000e+00 0.00000e+00 0.00000e+00 7.43200e+03 1.10000e+01 1.00460e+03\n",
      "  1.78000e+01 0.00000e+00 0.00000e+00]\n",
      " [0.00000e+00 0.00000e+00 0.00000e+00 2.72000e+03 1.50000e+01 1.00460e+03\n",
      "  1.78000e+01 0.00000e+00 0.00000e+00]\n",
      " [0.00000e+00 0.00000e+00 0.00000e+00 5.37600e+03 2.80000e+01 1.00460e+03\n",
      "  1.78000e+01 0.00000e+00 0.00000e+00]\n",
      " [0.00000e+00 0.00000e+00 0.00000e+00 2.36850e+04 1.70000e+01 1.00460e+03\n",
      "  1.78000e+01 0.00000e+00 0.00000e+00]\n",
      " [0.00000e+00 0.00000e+00 0.00000e+00 1.16607e+05 4.40000e+01 1.00460e+03\n",
      "  1.78000e+01 0.00000e+00 0.00000e+00]]\n"
     ]
    }
   ],
   "source": [
    "print(X_test[:5])"
   ]
  },
  {
   "cell_type": "code",
   "execution_count": 63,
   "metadata": {},
   "outputs": [],
   "source": [
    "row_ids = fullTesting5['row_id']\n",
    "pred = pd.DataFrame(y_test_pred)\n",
    "tree01 = pd.concat([row_ids, pred], axis=1)\n",
    "tree01.columns = ['row_id', 'meter_reading']"
   ]
  },
  {
   "cell_type": "code",
   "execution_count": 64,
   "metadata": {},
   "outputs": [
    {
     "name": "stdout",
     "output_type": "stream",
     "text": [
      "   row_id  meter_reading\n",
      "0       0      54.832333\n",
      "1       1      19.384700\n",
      "2       2       2.047667\n",
      "3       3     113.418667\n",
      "4       4     472.330000\n",
      "Index(['row_id', 'meter_reading'], dtype='object')\n",
      "(41697600, 2)\n",
      "0    0\n",
      "1    1\n",
      "2    2\n",
      "3    3\n",
      "4    4\n",
      "Name: row_id, dtype: int64\n"
     ]
    }
   ],
   "source": [
    "print(tree01.head(5))\n",
    "print(tree01.columns)\n",
    "print(tree01.shape)\n",
    "print(row_ids.head(5))"
   ]
  },
  {
   "cell_type": "code",
   "execution_count": 65,
   "metadata": {},
   "outputs": [],
   "source": [
    "tree01.to_csv('decisionTree01.csv', index=False)"
   ]
  },
  {
   "cell_type": "code",
   "execution_count": 66,
   "metadata": {},
   "outputs": [
    {
     "name": "stdout",
     "output_type": "stream",
     "text": [
      "   row_id  meter_reading\n",
      "0       0      54.832333\n",
      "1       1      19.384700\n",
      "2       2       2.047667\n",
      "3       3     113.418667\n",
      "4       4     472.330000\n"
     ]
    }
   ],
   "source": [
    "resultTest = pd.read_csv(\"decisionTree01.csv\")\n",
    "print(resultTest.head(5))"
   ]
  },
  {
   "cell_type": "code",
   "execution_count": 67,
   "metadata": {
    "scrolled": false
   },
   "outputs": [
    {
     "name": "stdout",
     "output_type": "stream",
     "text": [
      "(41697600, 2)\n"
     ]
    }
   ],
   "source": [
    "print(resultTest.shape)"
   ]
  },
  {
   "cell_type": "code",
   "execution_count": 44,
   "metadata": {
    "scrolled": true
   },
   "outputs": [
    {
     "data": {
      "text/plain": [
       "2157.955900987556"
      ]
     },
     "execution_count": 44,
     "metadata": {},
     "output_type": "execute_result"
    }
   ],
   "source": [
    "y_test.mean()"
   ]
  },
  {
   "cell_type": "code",
   "execution_count": null,
   "metadata": {},
   "outputs": [],
   "source": []
  }
 ],
 "metadata": {
  "kernelspec": {
   "display_name": "Python 3",
   "language": "python",
   "name": "python3"
  },
  "language_info": {
   "codemirror_mode": {
    "name": "ipython",
    "version": 3
   },
   "file_extension": ".py",
   "mimetype": "text/x-python",
   "name": "python",
   "nbconvert_exporter": "python",
   "pygments_lexer": "ipython3",
   "version": "3.7.0"
  }
 },
 "nbformat": 4,
 "nbformat_minor": 2
}
