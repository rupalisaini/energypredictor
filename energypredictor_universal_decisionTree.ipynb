{
 "cells": [
  {
   "cell_type": "code",
   "execution_count": 16,
   "metadata": {},
   "outputs": [],
   "source": [
    "import datetime\n",
    "import numpy as np\n",
    "import pandas as pd\n",
    "import matplotlib.pyplot as plt\n",
    "from sklearn import linear_model\n",
    "from sklearn.metrics import mean_squared_log_error\n",
    "# WHEN CHECKING THE MODEL: use as np.sqrt(mean_squared_log_error( y_test, predictions ))\n",
    "from pandas.tseries.holiday import USFederalHolidayCalendar\n",
    "import seaborn as seabornInstance \n",
    "from sklearn.model_selection import train_test_split \n",
    "from sklearn.linear_model import LinearRegression\n",
    "from sklearn.feature_selection import SelectKBest\n",
    "from sklearn.feature_selection import chi2\n",
    "from sklearn import metrics\n",
    "from sklearn import tree\n",
    "from sklearn import preprocessing\n",
    "%matplotlib inline"
   ]
  },
  {
   "cell_type": "markdown",
   "metadata": {},
   "source": [
    "---\n",
    "# Load the Data"
   ]
  },
  {
   "cell_type": "markdown",
   "metadata": {},
   "source": [
    "### Building and Weather Data"
   ]
  },
  {
   "cell_type": "code",
   "execution_count": 2,
   "metadata": {
    "scrolled": true
   },
   "outputs": [],
   "source": [
    "# Note: These assume that the data has been saved to a subdirectory named \"energy\"\n",
    "bldgData = pd.read_csv(\"energy/building_metadata.csv\")\n",
    "weatherTrain = pd.read_csv(\"energy/weather_train.csv\")\n",
    "weatherTest = pd.read_csv(\"energy/weather_test.csv\")\n",
    "allWeather = weatherTrain.append(weatherTest)"
   ]
  },
  {
   "cell_type": "markdown",
   "metadata": {},
   "source": [
    "I'm combining the weather data into one dataframe. There's really no need for it to be separate. Plus, I have a hunch that the _current_ meter reading is better modeled as a function of the average of the _current_ weather data and the _last_ weather data. In other words, how much energy a building used in the last hour is based on the weather for the last hour, not necessarily the weather at the current timestamp. If this is the case, then the first prediction in the test data will need the last weather data from the training set."
   ]
  },
  {
   "cell_type": "markdown",
   "metadata": {},
   "source": [
    "### Training Data"
   ]
  },
  {
   "cell_type": "code",
   "execution_count": 3,
   "metadata": {},
   "outputs": [],
   "source": [
    "energyTrain = pd.read_csv(\"energy/train.csv\")"
   ]
  },
  {
   "cell_type": "markdown",
   "metadata": {},
   "source": [
    "### Test Data\n",
    "Warning: This will use a lot of memory! My virtual machine is sitting at 5.5 GB of RAM utilization right now."
   ]
  },
  {
   "cell_type": "code",
   "execution_count": 4,
   "metadata": {},
   "outputs": [],
   "source": [
    "energyTest = pd.read_csv(\"energy/test.csv\")"
   ]
  },
  {
   "cell_type": "markdown",
   "metadata": {},
   "source": [
    "# Decision Tree Model"
   ]
  },
  {
   "cell_type": "code",
   "execution_count": 5,
   "metadata": {},
   "outputs": [],
   "source": [
    "trainJoinBldg = pd.merge(energyTrain, bldgData, on='building_id')\n",
    "fullTraining = pd.merge(trainJoinBldg, allWeather, how='left', on=['site_id', 'timestamp'])"
   ]
  },
  {
   "cell_type": "code",
   "execution_count": 6,
   "metadata": {},
   "outputs": [],
   "source": [
    "fullTraining5 = fullTraining\n",
    "fullTraining5[\"timestamp\"] = pd.to_datetime(fullTraining5[\"timestamp\"])"
   ]
  },
  {
   "cell_type": "code",
   "execution_count": 8,
   "metadata": {},
   "outputs": [],
   "source": [
    "#this takes a while (around 3 minutes)\n",
    "fullTraining5['workday'] = [0 if x.weekday() > 4 else 1 for x in fullTraining5['timestamp']]"
   ]
  },
  {
   "cell_type": "code",
   "execution_count": 9,
   "metadata": {},
   "outputs": [],
   "source": [
    "sr = fullTraining5['timestamp']\n",
    "fullTraining5['hour'] = sr.dt.hour"
   ]
  },
  {
   "cell_type": "code",
   "execution_count": 10,
   "metadata": {},
   "outputs": [],
   "source": [
    "airTempMean = fullTraining5['air_temperature'].mean()\n",
    "fullTraining5['air_temperature'] - airTempMean\n",
    "fullTraining5['air_temperature'] = fullTraining5['air_temperature'].abs()\n",
    "fullTraining5['year_built'] = 2019 - fullTraining5['year_built']"
   ]
  },
  {
   "cell_type": "code",
   "execution_count": 43,
   "metadata": {},
   "outputs": [],
   "source": [
    "# fullTraining5Dummies = pd.get_dummies(fullTraining5, columns=['meter', 'primary_use', 'site_id'], drop_first=True)"
   ]
  },
  {
   "cell_type": "code",
   "execution_count": 18,
   "metadata": {},
   "outputs": [],
   "source": [
    "le = preprocessing.LabelEncoder()"
   ]
  },
  {
   "cell_type": "code",
   "execution_count": 19,
   "metadata": {},
   "outputs": [
    {
     "data": {
      "text/plain": [
       "LabelEncoder()"
      ]
     },
     "execution_count": 19,
     "metadata": {},
     "output_type": "execute_result"
    }
   ],
   "source": [
    "le.fit(fullTraining5['primary_use'])"
   ]
  },
  {
   "cell_type": "code",
   "execution_count": 23,
   "metadata": {},
   "outputs": [],
   "source": [
    "fullTraining5['primary_use'] = le.transform(fullTraining5['primary_use'])"
   ]
  },
  {
   "cell_type": "code",
   "execution_count": 57,
   "metadata": {},
   "outputs": [
    {
     "data": {
      "text/plain": [
       "[0, 4, 6, 1, 7, 11, 8, 9, 15, 2, 10, 3, 14, 13, 5, 12]"
      ]
     },
     "execution_count": 57,
     "metadata": {},
     "output_type": "execute_result"
    }
   ],
   "source": [
    "fullTraining5['primary_use'].unique().tolist()"
   ]
  },
  {
   "cell_type": "code",
   "execution_count": 30,
   "metadata": {},
   "outputs": [],
   "source": [
    "#Splitting into features and labels\n",
    "X = fullTraining5[['meter', 'site_id', 'primary_use', 'square_feet',\n",
    "       'year_built', 'floor_count', 'air_temperature', 'workday', 'hour']].values\n",
    "y = fullTraining5['meter_reading'].values"
   ]
  },
  {
   "cell_type": "code",
   "execution_count": 31,
   "metadata": {},
   "outputs": [],
   "source": [
    "#replace null values with column means\n",
    "indsX = np.where(np.isnan(X))\n",
    "col_mean = np.nanmean(X, axis=1)\n",
    "X[indsX] = np.take(col_mean, indsX[1])"
   ]
  },
  {
   "cell_type": "code",
   "execution_count": 33,
   "metadata": {},
   "outputs": [],
   "source": [
    "X_train, X_test, y_train, y_test = train_test_split(X, y, test_size=0.2, random_state=0)"
   ]
  },
  {
   "cell_type": "code",
   "execution_count": 45,
   "metadata": {},
   "outputs": [
    {
     "data": {
      "text/plain": [
       "DecisionTreeRegressor(criterion='mse', max_depth=None, max_features=None,\n",
       "           max_leaf_nodes=None, min_impurity_decrease=0.0,\n",
       "           min_impurity_split=None, min_samples_leaf=1,\n",
       "           min_samples_split=2, min_weight_fraction_leaf=0.0,\n",
       "           presort=False, random_state=None, splitter='best')"
      ]
     },
     "execution_count": 45,
     "metadata": {},
     "output_type": "execute_result"
    }
   ],
   "source": [
    "model = tree.DecisionTreeRegressor()\n",
    "model.fit(X, y)"
   ]
  },
  {
   "cell_type": "code",
   "execution_count": 46,
   "metadata": {
    "scrolled": false
   },
   "outputs": [
    {
     "data": {
      "text/plain": [
       "0.46961054778219996"
      ]
     },
     "execution_count": 46,
     "metadata": {},
     "output_type": "execute_result"
    }
   ],
   "source": [
    "model.score(X, y)"
   ]
  },
  {
   "cell_type": "markdown",
   "metadata": {},
   "source": [
    "## Predictions for split data"
   ]
  },
  {
   "cell_type": "code",
   "execution_count": 37,
   "metadata": {},
   "outputs": [],
   "source": [
    "predicted = model.predict(X_test)"
   ]
  },
  {
   "cell_type": "code",
   "execution_count": 38,
   "metadata": {
    "scrolled": true
   },
   "outputs": [
    {
     "name": "stdout",
     "output_type": "stream",
     "text": [
      "[104.5        128.5096       2.8209     ...   0.         367.58136667\n",
      " 109.568     ]\n"
     ]
    }
   ],
   "source": [
    "print(predicted)"
   ]
  },
  {
   "cell_type": "code",
   "execution_count": 39,
   "metadata": {},
   "outputs": [
    {
     "data": {
      "text/html": [
       "<div>\n",
       "<style scoped>\n",
       "    .dataframe tbody tr th:only-of-type {\n",
       "        vertical-align: middle;\n",
       "    }\n",
       "\n",
       "    .dataframe tbody tr th {\n",
       "        vertical-align: top;\n",
       "    }\n",
       "\n",
       "    .dataframe thead th {\n",
       "        text-align: right;\n",
       "    }\n",
       "</style>\n",
       "<table border=\"1\" class=\"dataframe\">\n",
       "  <thead>\n",
       "    <tr style=\"text-align: right;\">\n",
       "      <th></th>\n",
       "      <th>Actual</th>\n",
       "      <th>Predicted</th>\n",
       "    </tr>\n",
       "  </thead>\n",
       "  <tbody>\n",
       "    <tr>\n",
       "      <th>0</th>\n",
       "      <td>109.0000</td>\n",
       "      <td>104.500000</td>\n",
       "    </tr>\n",
       "    <tr>\n",
       "      <th>1</th>\n",
       "      <td>17.4250</td>\n",
       "      <td>128.509600</td>\n",
       "    </tr>\n",
       "    <tr>\n",
       "      <th>2</th>\n",
       "      <td>4.1231</td>\n",
       "      <td>2.820900</td>\n",
       "    </tr>\n",
       "    <tr>\n",
       "      <th>3</th>\n",
       "      <td>1089.8000</td>\n",
       "      <td>1042.270000</td>\n",
       "    </tr>\n",
       "    <tr>\n",
       "      <th>4</th>\n",
       "      <td>82.9440</td>\n",
       "      <td>82.944000</td>\n",
       "    </tr>\n",
       "    <tr>\n",
       "      <th>5</th>\n",
       "      <td>65.4333</td>\n",
       "      <td>51.275000</td>\n",
       "    </tr>\n",
       "    <tr>\n",
       "      <th>6</th>\n",
       "      <td>6.0000</td>\n",
       "      <td>7.214286</td>\n",
       "    </tr>\n",
       "    <tr>\n",
       "      <th>7</th>\n",
       "      <td>8.7921</td>\n",
       "      <td>0.000000</td>\n",
       "    </tr>\n",
       "    <tr>\n",
       "      <th>8</th>\n",
       "      <td>185.0000</td>\n",
       "      <td>108.666667</td>\n",
       "    </tr>\n",
       "    <tr>\n",
       "      <th>9</th>\n",
       "      <td>0.3332</td>\n",
       "      <td>4.748100</td>\n",
       "    </tr>\n",
       "    <tr>\n",
       "      <th>10</th>\n",
       "      <td>156.0000</td>\n",
       "      <td>161.000000</td>\n",
       "    </tr>\n",
       "    <tr>\n",
       "      <th>11</th>\n",
       "      <td>1099.9400</td>\n",
       "      <td>1025.463000</td>\n",
       "    </tr>\n",
       "    <tr>\n",
       "      <th>12</th>\n",
       "      <td>800.2930</td>\n",
       "      <td>685.495800</td>\n",
       "    </tr>\n",
       "    <tr>\n",
       "      <th>13</th>\n",
       "      <td>35.6946</td>\n",
       "      <td>0.349100</td>\n",
       "    </tr>\n",
       "    <tr>\n",
       "      <th>14</th>\n",
       "      <td>20.3000</td>\n",
       "      <td>24.406000</td>\n",
       "    </tr>\n",
       "    <tr>\n",
       "      <th>15</th>\n",
       "      <td>202.9180</td>\n",
       "      <td>235.298800</td>\n",
       "    </tr>\n",
       "    <tr>\n",
       "      <th>16</th>\n",
       "      <td>520.6700</td>\n",
       "      <td>308.603600</td>\n",
       "    </tr>\n",
       "    <tr>\n",
       "      <th>17</th>\n",
       "      <td>639.6950</td>\n",
       "      <td>320.761231</td>\n",
       "    </tr>\n",
       "    <tr>\n",
       "      <th>18</th>\n",
       "      <td>12.0000</td>\n",
       "      <td>11.000000</td>\n",
       "    </tr>\n",
       "    <tr>\n",
       "      <th>19</th>\n",
       "      <td>54.2294</td>\n",
       "      <td>69.626600</td>\n",
       "    </tr>\n",
       "    <tr>\n",
       "      <th>20</th>\n",
       "      <td>14.3430</td>\n",
       "      <td>8.500000</td>\n",
       "    </tr>\n",
       "    <tr>\n",
       "      <th>21</th>\n",
       "      <td>10.2000</td>\n",
       "      <td>16.368000</td>\n",
       "    </tr>\n",
       "    <tr>\n",
       "      <th>22</th>\n",
       "      <td>899.6400</td>\n",
       "      <td>719.712000</td>\n",
       "    </tr>\n",
       "    <tr>\n",
       "      <th>23</th>\n",
       "      <td>76.2805</td>\n",
       "      <td>99.541040</td>\n",
       "    </tr>\n",
       "    <tr>\n",
       "      <th>24</th>\n",
       "      <td>93.4900</td>\n",
       "      <td>82.688000</td>\n",
       "    </tr>\n",
       "  </tbody>\n",
       "</table>\n",
       "</div>"
      ],
      "text/plain": [
       "       Actual    Predicted\n",
       "0    109.0000   104.500000\n",
       "1     17.4250   128.509600\n",
       "2      4.1231     2.820900\n",
       "3   1089.8000  1042.270000\n",
       "4     82.9440    82.944000\n",
       "5     65.4333    51.275000\n",
       "6      6.0000     7.214286\n",
       "7      8.7921     0.000000\n",
       "8    185.0000   108.666667\n",
       "9      0.3332     4.748100\n",
       "10   156.0000   161.000000\n",
       "11  1099.9400  1025.463000\n",
       "12   800.2930   685.495800\n",
       "13    35.6946     0.349100\n",
       "14    20.3000    24.406000\n",
       "15   202.9180   235.298800\n",
       "16   520.6700   308.603600\n",
       "17   639.6950   320.761231\n",
       "18    12.0000    11.000000\n",
       "19    54.2294    69.626600\n",
       "20    14.3430     8.500000\n",
       "21    10.2000    16.368000\n",
       "22   899.6400   719.712000\n",
       "23    76.2805    99.541040\n",
       "24    93.4900    82.688000"
      ]
     },
     "execution_count": 39,
     "metadata": {},
     "output_type": "execute_result"
    }
   ],
   "source": [
    "df = pd.DataFrame({'Actual': y_test, 'Predicted': predicted})\n",
    "df1 = df.head(25)\n",
    "df1"
   ]
  },
  {
   "cell_type": "markdown",
   "metadata": {},
   "source": [
    "# Testing Tree Model"
   ]
  },
  {
   "cell_type": "code",
   "execution_count": 47,
   "metadata": {
    "scrolled": true
   },
   "outputs": [],
   "source": [
    "testJoinBldg = pd.merge(energyTest, bldgData, sort=True, on='building_id')\n",
    "fullTesting5 = pd.merge(testJoinBldg, allWeather, sort=True, how='left', on=['site_id', 'timestamp'])"
   ]
  },
  {
   "cell_type": "code",
   "execution_count": 48,
   "metadata": {},
   "outputs": [],
   "source": [
    "fullTesting5[\"timestamp\"] = pd.to_datetime(fullTesting5[\"timestamp\"])"
   ]
  },
  {
   "cell_type": "code",
   "execution_count": 49,
   "metadata": {},
   "outputs": [],
   "source": [
    "#this takes a while (around 3 minutes)\n",
    "fullTesting5['workday'] = [0 if x.weekday() > 4 else 1 for x in fullTesting5['timestamp']]"
   ]
  },
  {
   "cell_type": "code",
   "execution_count": 50,
   "metadata": {},
   "outputs": [],
   "source": [
    "sr = fullTesting5['timestamp']\n",
    "fullTesting5['hour'] = sr.dt.hour"
   ]
  },
  {
   "cell_type": "code",
   "execution_count": 51,
   "metadata": {},
   "outputs": [],
   "source": [
    "airTempMean = fullTesting5['air_temperature'].mean()\n",
    "fullTesting5['air_temperature'] - airTempMean\n",
    "fullTesting5['air_temperature'] = fullTesting5['air_temperature'].abs()\n",
    "fullTesting5['year_built'] = 2019 - fullTesting5['year_built']"
   ]
  },
  {
   "cell_type": "code",
   "execution_count": 52,
   "metadata": {},
   "outputs": [],
   "source": [
    "le_test = preprocessing.LabelEncoder()"
   ]
  },
  {
   "cell_type": "code",
   "execution_count": 53,
   "metadata": {},
   "outputs": [
    {
     "data": {
      "text/plain": [
       "LabelEncoder()"
      ]
     },
     "execution_count": 53,
     "metadata": {},
     "output_type": "execute_result"
    }
   ],
   "source": [
    "le_test.fit(fullTesting5['primary_use'])"
   ]
  },
  {
   "cell_type": "code",
   "execution_count": 54,
   "metadata": {},
   "outputs": [],
   "source": [
    "fullTesting5['primary_use'] = le_test.transform(fullTesting5['primary_use'])"
   ]
  },
  {
   "cell_type": "code",
   "execution_count": 56,
   "metadata": {},
   "outputs": [
    {
     "data": {
      "text/plain": [
       "[0, 4, 6, 1, 7, 11, 8, 9, 15, 2, 10, 3, 14, 13, 5, 12]"
      ]
     },
     "execution_count": 56,
     "metadata": {},
     "output_type": "execute_result"
    }
   ],
   "source": [
    "fullTesting5['primary_use'].unique().tolist()"
   ]
  },
  {
   "cell_type": "code",
   "execution_count": 58,
   "metadata": {},
   "outputs": [],
   "source": [
    "#Splitting into features and labels\n",
    "X_test = fullTesting5[['meter', 'site_id', 'primary_use', 'square_feet',\n",
    "       'year_built', 'floor_count', 'air_temperature', 'workday', 'hour']].values"
   ]
  },
  {
   "cell_type": "code",
   "execution_count": 59,
   "metadata": {},
   "outputs": [],
   "source": [
    "#replace null values with column means\n",
    "indsX = np.where(np.isnan(X_test))\n",
    "col_mean = np.nanmean(X_test, axis=1)\n",
    "X_test[indsX] = np.take(col_mean, indsX[1])"
   ]
  },
  {
   "cell_type": "code",
   "execution_count": 60,
   "metadata": {},
   "outputs": [],
   "source": [
    "y_test_pred = model.predict(X_test)"
   ]
  },
  {
   "cell_type": "code",
   "execution_count": 61,
   "metadata": {
    "scrolled": true
   },
   "outputs": [
    {
     "name": "stdout",
     "output_type": "stream",
     "text": [
      "[ 54.83233333  19.3847       2.04766667 113.41866667 472.33      ]\n"
     ]
    }
   ],
   "source": [
    "print(y_test_pred[:5])"
   ]
  },
  {
   "cell_type": "code",
   "execution_count": 62,
   "metadata": {
    "scrolled": true
   },
   "outputs": [
    {
     "name": "stdout",
     "output_type": "stream",
     "text": [
      "[[0.00000e+00 0.00000e+00 0.00000e+00 7.43200e+03 1.10000e+01 1.00460e+03\n",
      "  1.78000e+01 0.00000e+00 0.00000e+00]\n",
      " [0.00000e+00 0.00000e+00 0.00000e+00 2.72000e+03 1.50000e+01 1.00460e+03\n",
      "  1.78000e+01 0.00000e+00 0.00000e+00]\n",
      " [0.00000e+00 0.00000e+00 0.00000e+00 5.37600e+03 2.80000e+01 1.00460e+03\n",
      "  1.78000e+01 0.00000e+00 0.00000e+00]\n",
      " [0.00000e+00 0.00000e+00 0.00000e+00 2.36850e+04 1.70000e+01 1.00460e+03\n",
      "  1.78000e+01 0.00000e+00 0.00000e+00]\n",
      " [0.00000e+00 0.00000e+00 0.00000e+00 1.16607e+05 4.40000e+01 1.00460e+03\n",
      "  1.78000e+01 0.00000e+00 0.00000e+00]]\n"
     ]
    }
   ],
   "source": [
    "print(X_test[:5])"
   ]
  },
  {
   "cell_type": "code",
   "execution_count": 63,
   "metadata": {},
   "outputs": [],
   "source": [
    "row_ids = fullTesting5['row_id']\n",
    "pred = pd.DataFrame(y_test_pred)\n",
    "tree01 = pd.concat([row_ids, pred], axis=1)\n",
    "tree01.columns = ['row_id', 'meter_reading']"
   ]
  },
  {
   "cell_type": "code",
   "execution_count": 64,
   "metadata": {},
   "outputs": [
    {
     "name": "stdout",
     "output_type": "stream",
     "text": [
      "   row_id  meter_reading\n",
      "0       0      54.832333\n",
      "1       1      19.384700\n",
      "2       2       2.047667\n",
      "3       3     113.418667\n",
      "4       4     472.330000\n",
      "Index(['row_id', 'meter_reading'], dtype='object')\n",
      "(41697600, 2)\n",
      "0    0\n",
      "1    1\n",
      "2    2\n",
      "3    3\n",
      "4    4\n",
      "Name: row_id, dtype: int64\n"
     ]
    }
   ],
   "source": [
    "print(tree01.head(5))\n",
    "print(tree01.columns)\n",
    "print(tree01.shape)\n",
    "print(row_ids.head(5))"
   ]
  },
  {
   "cell_type": "code",
   "execution_count": 65,
   "metadata": {},
   "outputs": [],
   "source": [
    "tree01.to_csv('decisionTree01.csv', index=False)"
   ]
  },
  {
   "cell_type": "code",
   "execution_count": 66,
   "metadata": {
    "scrolled": true
   },
   "outputs": [
    {
     "name": "stdout",
     "output_type": "stream",
     "text": [
      "   row_id  meter_reading\n",
      "0       0      54.832333\n",
      "1       1      19.384700\n",
      "2       2       2.047667\n",
      "3       3     113.418667\n",
      "4       4     472.330000\n"
     ]
    }
   ],
   "source": [
    "resultTest = pd.read_csv(\"decisionTree01.csv\")\n",
    "print(resultTest.head(5))"
   ]
  },
  {
   "cell_type": "code",
   "execution_count": 67,
   "metadata": {
    "scrolled": true
   },
   "outputs": [
    {
     "name": "stdout",
     "output_type": "stream",
     "text": [
      "(41697600, 2)\n"
     ]
    }
   ],
   "source": [
    "print(resultTest.shape)"
   ]
  },
  {
   "cell_type": "code",
   "execution_count": null,
   "metadata": {},
   "outputs": [],
   "source": []
  }
 ],
 "metadata": {
  "kernelspec": {
   "display_name": "Python 3",
   "language": "python",
   "name": "python3"
  },
  "language_info": {
   "codemirror_mode": {
    "name": "ipython",
    "version": 3
   },
   "file_extension": ".py",
   "mimetype": "text/x-python",
   "name": "python",
   "nbconvert_exporter": "python",
   "pygments_lexer": "ipython3",
   "version": "3.7.0"
  }
 },
 "nbformat": 4,
 "nbformat_minor": 2
}
